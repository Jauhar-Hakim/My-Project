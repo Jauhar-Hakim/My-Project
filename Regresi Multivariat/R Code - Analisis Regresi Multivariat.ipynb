{
 "cells": [
  {
   "cell_type": "markdown",
   "source": "# Grup L - Analisis Multivariat\n\n## Multivariate Multiple Regression (MMR)\n## Regresi Berganda Multivariat",
   "metadata": {
    "cell_id": "d1c930c9332249d995632ad083d1c845",
    "tags": [],
    "deepnote_cell_type": "markdown",
    "deepnote_cell_height": 204
   }
  },
  {
   "cell_type": "code",
   "metadata": {
    "tags": [],
    "cell_id": "6a68d1cc-61e0-4fc5-99a1-668fb357b40e",
    "deepnote_to_be_reexecuted": false,
    "source_hash": "c26f3091",
    "execution_start": 1651561548691,
    "execution_millis": 2825,
    "deepnote_cell_type": "code",
    "deepnote_cell_height": 1433,
    "deepnote_output_heights": [
     null,
     611
    ]
   },
   "source": "packages <- c(\"Hmisc\", \"matlib\", \"Matrix\",\"expm\",\"matrixcalc\",\"ellipsis\",\"Hotelling\",\"dplyr\",\"psych\",\"RcmdrMisc\",\"Rcsdp\",\"mvnormtest\",\"factoextra\",\"cluster\",\"ggplot2\",\"tree\",\"class\", \"car\")\nif ( length(missing_pkgs <- setdiff(packages, rownames(installed.packages()))) > 0) {\n  message(\"Installing missing package(s): \", paste(missing_pkgs, collapse = \", \"))\n  install.packages(missing_pkgs)\n}\nlapply(packages, library, character.only = TRUE)",
   "execution_count": null,
   "outputs": [
    {
     "name": "stderr",
     "text": "Loading required package: lattice\n\nLoading required package: survival\n\nLoading required package: Formula\n\nLoading required package: ggplot2\n\n\nAttaching package: ‘Hmisc’\n\n\nThe following objects are masked from ‘package:base’:\n\n    format.pval, units\n\n\n\nAttaching package: ‘expm’\n\n\nThe following object is masked from ‘package:Matrix’:\n\n    expm\n\n\n\nAttaching package: ‘matrixcalc’\n\n\nThe following object is masked from ‘package:matlib’:\n\n    vec\n\n\nLoading required package: corpcor\n\n\nAttaching package: ‘corpcor’\n\n\nThe following object is masked from ‘package:matrixcalc’:\n\n    is.positive.definite\n\n\nThe following object is masked from ‘package:matlib’:\n\n    mpower\n\n\n\nAttaching package: ‘dplyr’\n\n\nThe following object is masked from ‘package:Hotelling’:\n\n    summarise\n\n\nThe following objects are masked from ‘package:Hmisc’:\n\n    src, summarize\n\n\nThe following objects are masked from ‘package:stats’:\n\n    filter, lag\n\n\nThe following objects are masked from ‘package:base’:\n\n    intersect, setdiff, setequal, union\n\n\n\nAttaching package: ‘psych’\n\n\nThe following object is masked from ‘package:matlib’:\n\n    tr\n\n\nThe following object is masked from ‘package:Hmisc’:\n\n    describe\n\n\nThe following objects are masked from ‘package:ggplot2’:\n\n    %+%, alpha\n\n\nLoading required package: car\n\nLoading required package: carData\n\n\nAttaching package: ‘car’\n\n\nThe following object is masked from ‘package:psych’:\n\n    logit\n\n\nThe following object is masked from ‘package:dplyr’:\n\n    recode\n\n\nLoading required package: sandwich\n\n\nAttaching package: ‘RcmdrMisc’\n\n\nThe following object is masked from ‘package:psych’:\n\n    reliability\n\n\nThe following object is masked from ‘package:Hmisc’:\n\n    Dotplot\n\n\nWelcome! Want to learn more? See two factoextra-related books at https://goo.gl/ve3WBa\n\n",
     "output_type": "stream"
    },
    {
     "data": {
      "text/html": "<ol>\n\t<li><style>\n.list-inline {list-style: none; margin:0; padding: 0}\n.list-inline>li {display: inline-block}\n.list-inline>li:not(:last-child)::after {content: \"\\00b7\"; padding: 0 .5ex}\n</style>\n<ol class=list-inline><li>'Hmisc'</li><li>'ggplot2'</li><li>'Formula'</li><li>'survival'</li><li>'lattice'</li><li>'stats'</li><li>'graphics'</li><li>'grDevices'</li><li>'utils'</li><li>'datasets'</li><li>'methods'</li><li>'base'</li></ol>\n</li>\n\t<li><style>\n.list-inline {list-style: none; margin:0; padding: 0}\n.list-inline>li {display: inline-block}\n.list-inline>li:not(:last-child)::after {content: \"\\00b7\"; padding: 0 .5ex}\n</style>\n<ol class=list-inline><li>'matlib'</li><li>'Hmisc'</li><li>'ggplot2'</li><li>'Formula'</li><li>'survival'</li><li>'lattice'</li><li>'stats'</li><li>'graphics'</li><li>'grDevices'</li><li>'utils'</li><li>'datasets'</li><li>'methods'</li><li>'base'</li></ol>\n</li>\n\t<li><style>\n.list-inline {list-style: none; margin:0; padding: 0}\n.list-inline>li {display: inline-block}\n.list-inline>li:not(:last-child)::after {content: \"\\00b7\"; padding: 0 .5ex}\n</style>\n<ol class=list-inline><li>'Matrix'</li><li>'matlib'</li><li>'Hmisc'</li><li>'ggplot2'</li><li>'Formula'</li><li>'survival'</li><li>'lattice'</li><li>'stats'</li><li>'graphics'</li><li>'grDevices'</li><li>'utils'</li><li>'datasets'</li><li>'methods'</li><li>'base'</li></ol>\n</li>\n\t<li><style>\n.list-inline {list-style: none; margin:0; padding: 0}\n.list-inline>li {display: inline-block}\n.list-inline>li:not(:last-child)::after {content: \"\\00b7\"; padding: 0 .5ex}\n</style>\n<ol class=list-inline><li>'expm'</li><li>'Matrix'</li><li>'matlib'</li><li>'Hmisc'</li><li>'ggplot2'</li><li>'Formula'</li><li>'survival'</li><li>'lattice'</li><li>'stats'</li><li>'graphics'</li><li>'grDevices'</li><li>'utils'</li><li>'datasets'</li><li>'methods'</li><li>'base'</li></ol>\n</li>\n\t<li><style>\n.list-inline {list-style: none; margin:0; padding: 0}\n.list-inline>li {display: inline-block}\n.list-inline>li:not(:last-child)::after {content: \"\\00b7\"; padding: 0 .5ex}\n</style>\n<ol class=list-inline><li>'matrixcalc'</li><li>'expm'</li><li>'Matrix'</li><li>'matlib'</li><li>'Hmisc'</li><li>'ggplot2'</li><li>'Formula'</li><li>'survival'</li><li>'lattice'</li><li>'stats'</li><li>'graphics'</li><li>'grDevices'</li><li>'utils'</li><li>'datasets'</li><li>'methods'</li><li>'base'</li></ol>\n</li>\n\t<li><style>\n.list-inline {list-style: none; margin:0; padding: 0}\n.list-inline>li {display: inline-block}\n.list-inline>li:not(:last-child)::after {content: \"\\00b7\"; padding: 0 .5ex}\n</style>\n<ol class=list-inline><li>'ellipsis'</li><li>'matrixcalc'</li><li>'expm'</li><li>'Matrix'</li><li>'matlib'</li><li>'Hmisc'</li><li>'ggplot2'</li><li>'Formula'</li><li>'survival'</li><li>'lattice'</li><li>'stats'</li><li>'graphics'</li><li>'grDevices'</li><li>'utils'</li><li>'datasets'</li><li>'methods'</li><li>'base'</li></ol>\n</li>\n\t<li><style>\n.list-inline {list-style: none; margin:0; padding: 0}\n.list-inline>li {display: inline-block}\n.list-inline>li:not(:last-child)::after {content: \"\\00b7\"; padding: 0 .5ex}\n</style>\n<ol class=list-inline><li>'Hotelling'</li><li>'corpcor'</li><li>'ellipsis'</li><li>'matrixcalc'</li><li>'expm'</li><li>'Matrix'</li><li>'matlib'</li><li>'Hmisc'</li><li>'ggplot2'</li><li>'Formula'</li><li>'survival'</li><li>'lattice'</li><li>'stats'</li><li>'graphics'</li><li>'grDevices'</li><li>'utils'</li><li>'datasets'</li><li>'methods'</li><li>'base'</li></ol>\n</li>\n\t<li><style>\n.list-inline {list-style: none; margin:0; padding: 0}\n.list-inline>li {display: inline-block}\n.list-inline>li:not(:last-child)::after {content: \"\\00b7\"; padding: 0 .5ex}\n</style>\n<ol class=list-inline><li>'dplyr'</li><li>'Hotelling'</li><li>'corpcor'</li><li>'ellipsis'</li><li>'matrixcalc'</li><li>'expm'</li><li>'Matrix'</li><li>'matlib'</li><li>'Hmisc'</li><li>'ggplot2'</li><li>'Formula'</li><li>'survival'</li><li>'lattice'</li><li>'stats'</li><li>'graphics'</li><li>'grDevices'</li><li>'utils'</li><li>'datasets'</li><li>'methods'</li><li>'base'</li></ol>\n</li>\n\t<li><style>\n.list-inline {list-style: none; margin:0; padding: 0}\n.list-inline>li {display: inline-block}\n.list-inline>li:not(:last-child)::after {content: \"\\00b7\"; padding: 0 .5ex}\n</style>\n<ol class=list-inline><li>'psych'</li><li>'dplyr'</li><li>'Hotelling'</li><li>'corpcor'</li><li>'ellipsis'</li><li>'matrixcalc'</li><li>'expm'</li><li>'Matrix'</li><li>'matlib'</li><li>'Hmisc'</li><li>'ggplot2'</li><li>'Formula'</li><li>'survival'</li><li>'lattice'</li><li>'stats'</li><li>'graphics'</li><li>'grDevices'</li><li>'utils'</li><li>'datasets'</li><li>'methods'</li><li>'base'</li></ol>\n</li>\n\t<li><style>\n.list-inline {list-style: none; margin:0; padding: 0}\n.list-inline>li {display: inline-block}\n.list-inline>li:not(:last-child)::after {content: \"\\00b7\"; padding: 0 .5ex}\n</style>\n<ol class=list-inline><li>'RcmdrMisc'</li><li>'sandwich'</li><li>'car'</li><li>'carData'</li><li>'psych'</li><li>'dplyr'</li><li>'Hotelling'</li><li>'corpcor'</li><li>'ellipsis'</li><li>'matrixcalc'</li><li>'expm'</li><li>'Matrix'</li><li>'matlib'</li><li>'Hmisc'</li><li>'ggplot2'</li><li>'Formula'</li><li>'survival'</li><li>'lattice'</li><li>'stats'</li><li>'graphics'</li><li>'grDevices'</li><li>'utils'</li><li>'datasets'</li><li>'methods'</li><li>'base'</li></ol>\n</li>\n\t<li><style>\n.list-inline {list-style: none; margin:0; padding: 0}\n.list-inline>li {display: inline-block}\n.list-inline>li:not(:last-child)::after {content: \"\\00b7\"; padding: 0 .5ex}\n</style>\n<ol class=list-inline><li>'Rcsdp'</li><li>'RcmdrMisc'</li><li>'sandwich'</li><li>'car'</li><li>'carData'</li><li>'psych'</li><li>'dplyr'</li><li>'Hotelling'</li><li>'corpcor'</li><li>'ellipsis'</li><li>'matrixcalc'</li><li>'expm'</li><li>'Matrix'</li><li>'matlib'</li><li>'Hmisc'</li><li>'ggplot2'</li><li>'Formula'</li><li>'survival'</li><li>'lattice'</li><li>'stats'</li><li>'graphics'</li><li>'grDevices'</li><li>'utils'</li><li>'datasets'</li><li>'methods'</li><li>'base'</li></ol>\n</li>\n\t<li><style>\n.list-inline {list-style: none; margin:0; padding: 0}\n.list-inline>li {display: inline-block}\n.list-inline>li:not(:last-child)::after {content: \"\\00b7\"; padding: 0 .5ex}\n</style>\n<ol class=list-inline><li>'mvnormtest'</li><li>'Rcsdp'</li><li>'RcmdrMisc'</li><li>'sandwich'</li><li>'car'</li><li>'carData'</li><li>'psych'</li><li>'dplyr'</li><li>'Hotelling'</li><li>'corpcor'</li><li>'ellipsis'</li><li>'matrixcalc'</li><li>'expm'</li><li>'Matrix'</li><li>'matlib'</li><li>'Hmisc'</li><li>'ggplot2'</li><li>'Formula'</li><li>'survival'</li><li>'lattice'</li><li>'stats'</li><li>'graphics'</li><li>'grDevices'</li><li>'utils'</li><li>'datasets'</li><li>'methods'</li><li>'base'</li></ol>\n</li>\n\t<li><style>\n.list-inline {list-style: none; margin:0; padding: 0}\n.list-inline>li {display: inline-block}\n.list-inline>li:not(:last-child)::after {content: \"\\00b7\"; padding: 0 .5ex}\n</style>\n<ol class=list-inline><li>'factoextra'</li><li>'mvnormtest'</li><li>'Rcsdp'</li><li>'RcmdrMisc'</li><li>'sandwich'</li><li>'car'</li><li>'carData'</li><li>'psych'</li><li>'dplyr'</li><li>'Hotelling'</li><li>'corpcor'</li><li>'ellipsis'</li><li>'matrixcalc'</li><li>'expm'</li><li>'Matrix'</li><li>'matlib'</li><li>'Hmisc'</li><li>'ggplot2'</li><li>'Formula'</li><li>'survival'</li><li>'lattice'</li><li>'stats'</li><li>'graphics'</li><li>'grDevices'</li><li>'utils'</li><li>'datasets'</li><li>'methods'</li><li>'base'</li></ol>\n</li>\n\t<li><style>\n.list-inline {list-style: none; margin:0; padding: 0}\n.list-inline>li {display: inline-block}\n.list-inline>li:not(:last-child)::after {content: \"\\00b7\"; padding: 0 .5ex}\n</style>\n<ol class=list-inline><li>'cluster'</li><li>'factoextra'</li><li>'mvnormtest'</li><li>'Rcsdp'</li><li>'RcmdrMisc'</li><li>'sandwich'</li><li>'car'</li><li>'carData'</li><li>'psych'</li><li>'dplyr'</li><li>'Hotelling'</li><li>'corpcor'</li><li>'ellipsis'</li><li>'matrixcalc'</li><li>'expm'</li><li>'Matrix'</li><li>'matlib'</li><li>'Hmisc'</li><li>'ggplot2'</li><li>'Formula'</li><li>'survival'</li><li>'lattice'</li><li>'stats'</li><li>'graphics'</li><li>'grDevices'</li><li>'utils'</li><li>'datasets'</li><li>'methods'</li><li>'base'</li></ol>\n</li>\n\t<li><style>\n.list-inline {list-style: none; margin:0; padding: 0}\n.list-inline>li {display: inline-block}\n.list-inline>li:not(:last-child)::after {content: \"\\00b7\"; padding: 0 .5ex}\n</style>\n<ol class=list-inline><li>'cluster'</li><li>'factoextra'</li><li>'mvnormtest'</li><li>'Rcsdp'</li><li>'RcmdrMisc'</li><li>'sandwich'</li><li>'car'</li><li>'carData'</li><li>'psych'</li><li>'dplyr'</li><li>'Hotelling'</li><li>'corpcor'</li><li>'ellipsis'</li><li>'matrixcalc'</li><li>'expm'</li><li>'Matrix'</li><li>'matlib'</li><li>'Hmisc'</li><li>'ggplot2'</li><li>'Formula'</li><li>'survival'</li><li>'lattice'</li><li>'stats'</li><li>'graphics'</li><li>'grDevices'</li><li>'utils'</li><li>'datasets'</li><li>'methods'</li><li>'base'</li></ol>\n</li>\n\t<li><style>\n.list-inline {list-style: none; margin:0; padding: 0}\n.list-inline>li {display: inline-block}\n.list-inline>li:not(:last-child)::after {content: \"\\00b7\"; padding: 0 .5ex}\n</style>\n<ol class=list-inline><li>'tree'</li><li>'cluster'</li><li>'factoextra'</li><li>'mvnormtest'</li><li>'Rcsdp'</li><li>'RcmdrMisc'</li><li>'sandwich'</li><li>'car'</li><li>'carData'</li><li>'psych'</li><li>'dplyr'</li><li>'Hotelling'</li><li>'corpcor'</li><li>'ellipsis'</li><li>'matrixcalc'</li><li>'expm'</li><li>'Matrix'</li><li>'matlib'</li><li>'Hmisc'</li><li>'ggplot2'</li><li>'Formula'</li><li>'survival'</li><li>'lattice'</li><li>'stats'</li><li>'graphics'</li><li>'grDevices'</li><li>'utils'</li><li>'datasets'</li><li>'methods'</li><li>'base'</li></ol>\n</li>\n\t<li><style>\n.list-inline {list-style: none; margin:0; padding: 0}\n.list-inline>li {display: inline-block}\n.list-inline>li:not(:last-child)::after {content: \"\\00b7\"; padding: 0 .5ex}\n</style>\n<ol class=list-inline><li>'class'</li><li>'tree'</li><li>'cluster'</li><li>'factoextra'</li><li>'mvnormtest'</li><li>'Rcsdp'</li><li>'RcmdrMisc'</li><li>'sandwich'</li><li>'car'</li><li>'carData'</li><li>'psych'</li><li>'dplyr'</li><li>'Hotelling'</li><li>'corpcor'</li><li>'ellipsis'</li><li>'matrixcalc'</li><li>'expm'</li><li>'Matrix'</li><li>'matlib'</li><li>'Hmisc'</li><li>'ggplot2'</li><li>'Formula'</li><li>'survival'</li><li>'lattice'</li><li>'stats'</li><li>'graphics'</li><li>'grDevices'</li><li>'utils'</li><li>'datasets'</li><li>'methods'</li><li>'base'</li></ol>\n</li>\n\t<li><style>\n.list-inline {list-style: none; margin:0; padding: 0}\n.list-inline>li {display: inline-block}\n.list-inline>li:not(:last-child)::after {content: \"\\00b7\"; padding: 0 .5ex}\n</style>\n<ol class=list-inline><li>'class'</li><li>'tree'</li><li>'cluster'</li><li>'factoextra'</li><li>'mvnormtest'</li><li>'Rcsdp'</li><li>'RcmdrMisc'</li><li>'sandwich'</li><li>'car'</li><li>'carData'</li><li>'psych'</li><li>'dplyr'</li><li>'Hotelling'</li><li>'corpcor'</li><li>'ellipsis'</li><li>'matrixcalc'</li><li>'expm'</li><li>'Matrix'</li><li>'matlib'</li><li>'Hmisc'</li><li>'ggplot2'</li><li>'Formula'</li><li>'survival'</li><li>'lattice'</li><li>'stats'</li><li>'graphics'</li><li>'grDevices'</li><li>'utils'</li><li>'datasets'</li><li>'methods'</li><li>'base'</li></ol>\n</li>\n</ol>\n",
      "text/markdown": "1. 1. 'Hmisc'\n2. 'ggplot2'\n3. 'Formula'\n4. 'survival'\n5. 'lattice'\n6. 'stats'\n7. 'graphics'\n8. 'grDevices'\n9. 'utils'\n10. 'datasets'\n11. 'methods'\n12. 'base'\n\n\n\n2. 1. 'matlib'\n2. 'Hmisc'\n3. 'ggplot2'\n4. 'Formula'\n5. 'survival'\n6. 'lattice'\n7. 'stats'\n8. 'graphics'\n9. 'grDevices'\n10. 'utils'\n11. 'datasets'\n12. 'methods'\n13. 'base'\n\n\n\n3. 1. 'Matrix'\n2. 'matlib'\n3. 'Hmisc'\n4. 'ggplot2'\n5. 'Formula'\n6. 'survival'\n7. 'lattice'\n8. 'stats'\n9. 'graphics'\n10. 'grDevices'\n11. 'utils'\n12. 'datasets'\n13. 'methods'\n14. 'base'\n\n\n\n4. 1. 'expm'\n2. 'Matrix'\n3. 'matlib'\n4. 'Hmisc'\n5. 'ggplot2'\n6. 'Formula'\n7. 'survival'\n8. 'lattice'\n9. 'stats'\n10. 'graphics'\n11. 'grDevices'\n12. 'utils'\n13. 'datasets'\n14. 'methods'\n15. 'base'\n\n\n\n5. 1. 'matrixcalc'\n2. 'expm'\n3. 'Matrix'\n4. 'matlib'\n5. 'Hmisc'\n6. 'ggplot2'\n7. 'Formula'\n8. 'survival'\n9. 'lattice'\n10. 'stats'\n11. 'graphics'\n12. 'grDevices'\n13. 'utils'\n14. 'datasets'\n15. 'methods'\n16. 'base'\n\n\n\n6. 1. 'ellipsis'\n2. 'matrixcalc'\n3. 'expm'\n4. 'Matrix'\n5. 'matlib'\n6. 'Hmisc'\n7. 'ggplot2'\n8. 'Formula'\n9. 'survival'\n10. 'lattice'\n11. 'stats'\n12. 'graphics'\n13. 'grDevices'\n14. 'utils'\n15. 'datasets'\n16. 'methods'\n17. 'base'\n\n\n\n7. 1. 'Hotelling'\n2. 'corpcor'\n3. 'ellipsis'\n4. 'matrixcalc'\n5. 'expm'\n6. 'Matrix'\n7. 'matlib'\n8. 'Hmisc'\n9. 'ggplot2'\n10. 'Formula'\n11. 'survival'\n12. 'lattice'\n13. 'stats'\n14. 'graphics'\n15. 'grDevices'\n16. 'utils'\n17. 'datasets'\n18. 'methods'\n19. 'base'\n\n\n\n8. 1. 'dplyr'\n2. 'Hotelling'\n3. 'corpcor'\n4. 'ellipsis'\n5. 'matrixcalc'\n6. 'expm'\n7. 'Matrix'\n8. 'matlib'\n9. 'Hmisc'\n10. 'ggplot2'\n11. 'Formula'\n12. 'survival'\n13. 'lattice'\n14. 'stats'\n15. 'graphics'\n16. 'grDevices'\n17. 'utils'\n18. 'datasets'\n19. 'methods'\n20. 'base'\n\n\n\n9. 1. 'psych'\n2. 'dplyr'\n3. 'Hotelling'\n4. 'corpcor'\n5. 'ellipsis'\n6. 'matrixcalc'\n7. 'expm'\n8. 'Matrix'\n9. 'matlib'\n10. 'Hmisc'\n11. 'ggplot2'\n12. 'Formula'\n13. 'survival'\n14. 'lattice'\n15. 'stats'\n16. 'graphics'\n17. 'grDevices'\n18. 'utils'\n19. 'datasets'\n20. 'methods'\n21. 'base'\n\n\n\n10. 1. 'RcmdrMisc'\n2. 'sandwich'\n3. 'car'\n4. 'carData'\n5. 'psych'\n6. 'dplyr'\n7. 'Hotelling'\n8. 'corpcor'\n9. 'ellipsis'\n10. 'matrixcalc'\n11. 'expm'\n12. 'Matrix'\n13. 'matlib'\n14. 'Hmisc'\n15. 'ggplot2'\n16. 'Formula'\n17. 'survival'\n18. 'lattice'\n19. 'stats'\n20. 'graphics'\n21. 'grDevices'\n22. 'utils'\n23. 'datasets'\n24. 'methods'\n25. 'base'\n\n\n\n11. 1. 'Rcsdp'\n2. 'RcmdrMisc'\n3. 'sandwich'\n4. 'car'\n5. 'carData'\n6. 'psych'\n7. 'dplyr'\n8. 'Hotelling'\n9. 'corpcor'\n10. 'ellipsis'\n11. 'matrixcalc'\n12. 'expm'\n13. 'Matrix'\n14. 'matlib'\n15. 'Hmisc'\n16. 'ggplot2'\n17. 'Formula'\n18. 'survival'\n19. 'lattice'\n20. 'stats'\n21. 'graphics'\n22. 'grDevices'\n23. 'utils'\n24. 'datasets'\n25. 'methods'\n26. 'base'\n\n\n\n12. 1. 'mvnormtest'\n2. 'Rcsdp'\n3. 'RcmdrMisc'\n4. 'sandwich'\n5. 'car'\n6. 'carData'\n7. 'psych'\n8. 'dplyr'\n9. 'Hotelling'\n10. 'corpcor'\n11. 'ellipsis'\n12. 'matrixcalc'\n13. 'expm'\n14. 'Matrix'\n15. 'matlib'\n16. 'Hmisc'\n17. 'ggplot2'\n18. 'Formula'\n19. 'survival'\n20. 'lattice'\n21. 'stats'\n22. 'graphics'\n23. 'grDevices'\n24. 'utils'\n25. 'datasets'\n26. 'methods'\n27. 'base'\n\n\n\n13. 1. 'factoextra'\n2. 'mvnormtest'\n3. 'Rcsdp'\n4. 'RcmdrMisc'\n5. 'sandwich'\n6. 'car'\n7. 'carData'\n8. 'psych'\n9. 'dplyr'\n10. 'Hotelling'\n11. 'corpcor'\n12. 'ellipsis'\n13. 'matrixcalc'\n14. 'expm'\n15. 'Matrix'\n16. 'matlib'\n17. 'Hmisc'\n18. 'ggplot2'\n19. 'Formula'\n20. 'survival'\n21. 'lattice'\n22. 'stats'\n23. 'graphics'\n24. 'grDevices'\n25. 'utils'\n26. 'datasets'\n27. 'methods'\n28. 'base'\n\n\n\n14. 1. 'cluster'\n2. 'factoextra'\n3. 'mvnormtest'\n4. 'Rcsdp'\n5. 'RcmdrMisc'\n6. 'sandwich'\n7. 'car'\n8. 'carData'\n9. 'psych'\n10. 'dplyr'\n11. 'Hotelling'\n12. 'corpcor'\n13. 'ellipsis'\n14. 'matrixcalc'\n15. 'expm'\n16. 'Matrix'\n17. 'matlib'\n18. 'Hmisc'\n19. 'ggplot2'\n20. 'Formula'\n21. 'survival'\n22. 'lattice'\n23. 'stats'\n24. 'graphics'\n25. 'grDevices'\n26. 'utils'\n27. 'datasets'\n28. 'methods'\n29. 'base'\n\n\n\n15. 1. 'cluster'\n2. 'factoextra'\n3. 'mvnormtest'\n4. 'Rcsdp'\n5. 'RcmdrMisc'\n6. 'sandwich'\n7. 'car'\n8. 'carData'\n9. 'psych'\n10. 'dplyr'\n11. 'Hotelling'\n12. 'corpcor'\n13. 'ellipsis'\n14. 'matrixcalc'\n15. 'expm'\n16. 'Matrix'\n17. 'matlib'\n18. 'Hmisc'\n19. 'ggplot2'\n20. 'Formula'\n21. 'survival'\n22. 'lattice'\n23. 'stats'\n24. 'graphics'\n25. 'grDevices'\n26. 'utils'\n27. 'datasets'\n28. 'methods'\n29. 'base'\n\n\n\n16. 1. 'tree'\n2. 'cluster'\n3. 'factoextra'\n4. 'mvnormtest'\n5. 'Rcsdp'\n6. 'RcmdrMisc'\n7. 'sandwich'\n8. 'car'\n9. 'carData'\n10. 'psych'\n11. 'dplyr'\n12. 'Hotelling'\n13. 'corpcor'\n14. 'ellipsis'\n15. 'matrixcalc'\n16. 'expm'\n17. 'Matrix'\n18. 'matlib'\n19. 'Hmisc'\n20. 'ggplot2'\n21. 'Formula'\n22. 'survival'\n23. 'lattice'\n24. 'stats'\n25. 'graphics'\n26. 'grDevices'\n27. 'utils'\n28. 'datasets'\n29. 'methods'\n30. 'base'\n\n\n\n17. 1. 'class'\n2. 'tree'\n3. 'cluster'\n4. 'factoextra'\n5. 'mvnormtest'\n6. 'Rcsdp'\n7. 'RcmdrMisc'\n8. 'sandwich'\n9. 'car'\n10. 'carData'\n11. 'psych'\n12. 'dplyr'\n13. 'Hotelling'\n14. 'corpcor'\n15. 'ellipsis'\n16. 'matrixcalc'\n17. 'expm'\n18. 'Matrix'\n19. 'matlib'\n20. 'Hmisc'\n21. 'ggplot2'\n22. 'Formula'\n23. 'survival'\n24. 'lattice'\n25. 'stats'\n26. 'graphics'\n27. 'grDevices'\n28. 'utils'\n29. 'datasets'\n30. 'methods'\n31. 'base'\n\n\n\n18. 1. 'class'\n2. 'tree'\n3. 'cluster'\n4. 'factoextra'\n5. 'mvnormtest'\n6. 'Rcsdp'\n7. 'RcmdrMisc'\n8. 'sandwich'\n9. 'car'\n10. 'carData'\n11. 'psych'\n12. 'dplyr'\n13. 'Hotelling'\n14. 'corpcor'\n15. 'ellipsis'\n16. 'matrixcalc'\n17. 'expm'\n18. 'Matrix'\n19. 'matlib'\n20. 'Hmisc'\n21. 'ggplot2'\n22. 'Formula'\n23. 'survival'\n24. 'lattice'\n25. 'stats'\n26. 'graphics'\n27. 'grDevices'\n28. 'utils'\n29. 'datasets'\n30. 'methods'\n31. 'base'\n\n\n\n\n\n",
      "text/latex": "\\begin{enumerate}\n\\item \\begin{enumerate*}\n\\item 'Hmisc'\n\\item 'ggplot2'\n\\item 'Formula'\n\\item 'survival'\n\\item 'lattice'\n\\item 'stats'\n\\item 'graphics'\n\\item 'grDevices'\n\\item 'utils'\n\\item 'datasets'\n\\item 'methods'\n\\item 'base'\n\\end{enumerate*}\n\n\\item \\begin{enumerate*}\n\\item 'matlib'\n\\item 'Hmisc'\n\\item 'ggplot2'\n\\item 'Formula'\n\\item 'survival'\n\\item 'lattice'\n\\item 'stats'\n\\item 'graphics'\n\\item 'grDevices'\n\\item 'utils'\n\\item 'datasets'\n\\item 'methods'\n\\item 'base'\n\\end{enumerate*}\n\n\\item \\begin{enumerate*}\n\\item 'Matrix'\n\\item 'matlib'\n\\item 'Hmisc'\n\\item 'ggplot2'\n\\item 'Formula'\n\\item 'survival'\n\\item 'lattice'\n\\item 'stats'\n\\item 'graphics'\n\\item 'grDevices'\n\\item 'utils'\n\\item 'datasets'\n\\item 'methods'\n\\item 'base'\n\\end{enumerate*}\n\n\\item \\begin{enumerate*}\n\\item 'expm'\n\\item 'Matrix'\n\\item 'matlib'\n\\item 'Hmisc'\n\\item 'ggplot2'\n\\item 'Formula'\n\\item 'survival'\n\\item 'lattice'\n\\item 'stats'\n\\item 'graphics'\n\\item 'grDevices'\n\\item 'utils'\n\\item 'datasets'\n\\item 'methods'\n\\item 'base'\n\\end{enumerate*}\n\n\\item \\begin{enumerate*}\n\\item 'matrixcalc'\n\\item 'expm'\n\\item 'Matrix'\n\\item 'matlib'\n\\item 'Hmisc'\n\\item 'ggplot2'\n\\item 'Formula'\n\\item 'survival'\n\\item 'lattice'\n\\item 'stats'\n\\item 'graphics'\n\\item 'grDevices'\n\\item 'utils'\n\\item 'datasets'\n\\item 'methods'\n\\item 'base'\n\\end{enumerate*}\n\n\\item \\begin{enumerate*}\n\\item 'ellipsis'\n\\item 'matrixcalc'\n\\item 'expm'\n\\item 'Matrix'\n\\item 'matlib'\n\\item 'Hmisc'\n\\item 'ggplot2'\n\\item 'Formula'\n\\item 'survival'\n\\item 'lattice'\n\\item 'stats'\n\\item 'graphics'\n\\item 'grDevices'\n\\item 'utils'\n\\item 'datasets'\n\\item 'methods'\n\\item 'base'\n\\end{enumerate*}\n\n\\item \\begin{enumerate*}\n\\item 'Hotelling'\n\\item 'corpcor'\n\\item 'ellipsis'\n\\item 'matrixcalc'\n\\item 'expm'\n\\item 'Matrix'\n\\item 'matlib'\n\\item 'Hmisc'\n\\item 'ggplot2'\n\\item 'Formula'\n\\item 'survival'\n\\item 'lattice'\n\\item 'stats'\n\\item 'graphics'\n\\item 'grDevices'\n\\item 'utils'\n\\item 'datasets'\n\\item 'methods'\n\\item 'base'\n\\end{enumerate*}\n\n\\item \\begin{enumerate*}\n\\item 'dplyr'\n\\item 'Hotelling'\n\\item 'corpcor'\n\\item 'ellipsis'\n\\item 'matrixcalc'\n\\item 'expm'\n\\item 'Matrix'\n\\item 'matlib'\n\\item 'Hmisc'\n\\item 'ggplot2'\n\\item 'Formula'\n\\item 'survival'\n\\item 'lattice'\n\\item 'stats'\n\\item 'graphics'\n\\item 'grDevices'\n\\item 'utils'\n\\item 'datasets'\n\\item 'methods'\n\\item 'base'\n\\end{enumerate*}\n\n\\item \\begin{enumerate*}\n\\item 'psych'\n\\item 'dplyr'\n\\item 'Hotelling'\n\\item 'corpcor'\n\\item 'ellipsis'\n\\item 'matrixcalc'\n\\item 'expm'\n\\item 'Matrix'\n\\item 'matlib'\n\\item 'Hmisc'\n\\item 'ggplot2'\n\\item 'Formula'\n\\item 'survival'\n\\item 'lattice'\n\\item 'stats'\n\\item 'graphics'\n\\item 'grDevices'\n\\item 'utils'\n\\item 'datasets'\n\\item 'methods'\n\\item 'base'\n\\end{enumerate*}\n\n\\item \\begin{enumerate*}\n\\item 'RcmdrMisc'\n\\item 'sandwich'\n\\item 'car'\n\\item 'carData'\n\\item 'psych'\n\\item 'dplyr'\n\\item 'Hotelling'\n\\item 'corpcor'\n\\item 'ellipsis'\n\\item 'matrixcalc'\n\\item 'expm'\n\\item 'Matrix'\n\\item 'matlib'\n\\item 'Hmisc'\n\\item 'ggplot2'\n\\item 'Formula'\n\\item 'survival'\n\\item 'lattice'\n\\item 'stats'\n\\item 'graphics'\n\\item 'grDevices'\n\\item 'utils'\n\\item 'datasets'\n\\item 'methods'\n\\item 'base'\n\\end{enumerate*}\n\n\\item \\begin{enumerate*}\n\\item 'Rcsdp'\n\\item 'RcmdrMisc'\n\\item 'sandwich'\n\\item 'car'\n\\item 'carData'\n\\item 'psych'\n\\item 'dplyr'\n\\item 'Hotelling'\n\\item 'corpcor'\n\\item 'ellipsis'\n\\item 'matrixcalc'\n\\item 'expm'\n\\item 'Matrix'\n\\item 'matlib'\n\\item 'Hmisc'\n\\item 'ggplot2'\n\\item 'Formula'\n\\item 'survival'\n\\item 'lattice'\n\\item 'stats'\n\\item 'graphics'\n\\item 'grDevices'\n\\item 'utils'\n\\item 'datasets'\n\\item 'methods'\n\\item 'base'\n\\end{enumerate*}\n\n\\item \\begin{enumerate*}\n\\item 'mvnormtest'\n\\item 'Rcsdp'\n\\item 'RcmdrMisc'\n\\item 'sandwich'\n\\item 'car'\n\\item 'carData'\n\\item 'psych'\n\\item 'dplyr'\n\\item 'Hotelling'\n\\item 'corpcor'\n\\item 'ellipsis'\n\\item 'matrixcalc'\n\\item 'expm'\n\\item 'Matrix'\n\\item 'matlib'\n\\item 'Hmisc'\n\\item 'ggplot2'\n\\item 'Formula'\n\\item 'survival'\n\\item 'lattice'\n\\item 'stats'\n\\item 'graphics'\n\\item 'grDevices'\n\\item 'utils'\n\\item 'datasets'\n\\item 'methods'\n\\item 'base'\n\\end{enumerate*}\n\n\\item \\begin{enumerate*}\n\\item 'factoextra'\n\\item 'mvnormtest'\n\\item 'Rcsdp'\n\\item 'RcmdrMisc'\n\\item 'sandwich'\n\\item 'car'\n\\item 'carData'\n\\item 'psych'\n\\item 'dplyr'\n\\item 'Hotelling'\n\\item 'corpcor'\n\\item 'ellipsis'\n\\item 'matrixcalc'\n\\item 'expm'\n\\item 'Matrix'\n\\item 'matlib'\n\\item 'Hmisc'\n\\item 'ggplot2'\n\\item 'Formula'\n\\item 'survival'\n\\item 'lattice'\n\\item 'stats'\n\\item 'graphics'\n\\item 'grDevices'\n\\item 'utils'\n\\item 'datasets'\n\\item 'methods'\n\\item 'base'\n\\end{enumerate*}\n\n\\item \\begin{enumerate*}\n\\item 'cluster'\n\\item 'factoextra'\n\\item 'mvnormtest'\n\\item 'Rcsdp'\n\\item 'RcmdrMisc'\n\\item 'sandwich'\n\\item 'car'\n\\item 'carData'\n\\item 'psych'\n\\item 'dplyr'\n\\item 'Hotelling'\n\\item 'corpcor'\n\\item 'ellipsis'\n\\item 'matrixcalc'\n\\item 'expm'\n\\item 'Matrix'\n\\item 'matlib'\n\\item 'Hmisc'\n\\item 'ggplot2'\n\\item 'Formula'\n\\item 'survival'\n\\item 'lattice'\n\\item 'stats'\n\\item 'graphics'\n\\item 'grDevices'\n\\item 'utils'\n\\item 'datasets'\n\\item 'methods'\n\\item 'base'\n\\end{enumerate*}\n\n\\item \\begin{enumerate*}\n\\item 'cluster'\n\\item 'factoextra'\n\\item 'mvnormtest'\n\\item 'Rcsdp'\n\\item 'RcmdrMisc'\n\\item 'sandwich'\n\\item 'car'\n\\item 'carData'\n\\item 'psych'\n\\item 'dplyr'\n\\item 'Hotelling'\n\\item 'corpcor'\n\\item 'ellipsis'\n\\item 'matrixcalc'\n\\item 'expm'\n\\item 'Matrix'\n\\item 'matlib'\n\\item 'Hmisc'\n\\item 'ggplot2'\n\\item 'Formula'\n\\item 'survival'\n\\item 'lattice'\n\\item 'stats'\n\\item 'graphics'\n\\item 'grDevices'\n\\item 'utils'\n\\item 'datasets'\n\\item 'methods'\n\\item 'base'\n\\end{enumerate*}\n\n\\item \\begin{enumerate*}\n\\item 'tree'\n\\item 'cluster'\n\\item 'factoextra'\n\\item 'mvnormtest'\n\\item 'Rcsdp'\n\\item 'RcmdrMisc'\n\\item 'sandwich'\n\\item 'car'\n\\item 'carData'\n\\item 'psych'\n\\item 'dplyr'\n\\item 'Hotelling'\n\\item 'corpcor'\n\\item 'ellipsis'\n\\item 'matrixcalc'\n\\item 'expm'\n\\item 'Matrix'\n\\item 'matlib'\n\\item 'Hmisc'\n\\item 'ggplot2'\n\\item 'Formula'\n\\item 'survival'\n\\item 'lattice'\n\\item 'stats'\n\\item 'graphics'\n\\item 'grDevices'\n\\item 'utils'\n\\item 'datasets'\n\\item 'methods'\n\\item 'base'\n\\end{enumerate*}\n\n\\item \\begin{enumerate*}\n\\item 'class'\n\\item 'tree'\n\\item 'cluster'\n\\item 'factoextra'\n\\item 'mvnormtest'\n\\item 'Rcsdp'\n\\item 'RcmdrMisc'\n\\item 'sandwich'\n\\item 'car'\n\\item 'carData'\n\\item 'psych'\n\\item 'dplyr'\n\\item 'Hotelling'\n\\item 'corpcor'\n\\item 'ellipsis'\n\\item 'matrixcalc'\n\\item 'expm'\n\\item 'Matrix'\n\\item 'matlib'\n\\item 'Hmisc'\n\\item 'ggplot2'\n\\item 'Formula'\n\\item 'survival'\n\\item 'lattice'\n\\item 'stats'\n\\item 'graphics'\n\\item 'grDevices'\n\\item 'utils'\n\\item 'datasets'\n\\item 'methods'\n\\item 'base'\n\\end{enumerate*}\n\n\\item \\begin{enumerate*}\n\\item 'class'\n\\item 'tree'\n\\item 'cluster'\n\\item 'factoextra'\n\\item 'mvnormtest'\n\\item 'Rcsdp'\n\\item 'RcmdrMisc'\n\\item 'sandwich'\n\\item 'car'\n\\item 'carData'\n\\item 'psych'\n\\item 'dplyr'\n\\item 'Hotelling'\n\\item 'corpcor'\n\\item 'ellipsis'\n\\item 'matrixcalc'\n\\item 'expm'\n\\item 'Matrix'\n\\item 'matlib'\n\\item 'Hmisc'\n\\item 'ggplot2'\n\\item 'Formula'\n\\item 'survival'\n\\item 'lattice'\n\\item 'stats'\n\\item 'graphics'\n\\item 'grDevices'\n\\item 'utils'\n\\item 'datasets'\n\\item 'methods'\n\\item 'base'\n\\end{enumerate*}\n\n\\end{enumerate}\n",
      "text/plain": "[[1]]\n [1] \"Hmisc\"     \"ggplot2\"   \"Formula\"   \"survival\"  \"lattice\"   \"stats\"    \n [7] \"graphics\"  \"grDevices\" \"utils\"     \"datasets\"  \"methods\"   \"base\"     \n\n[[2]]\n [1] \"matlib\"    \"Hmisc\"     \"ggplot2\"   \"Formula\"   \"survival\"  \"lattice\"  \n [7] \"stats\"     \"graphics\"  \"grDevices\" \"utils\"     \"datasets\"  \"methods\"  \n[13] \"base\"     \n\n[[3]]\n [1] \"Matrix\"    \"matlib\"    \"Hmisc\"     \"ggplot2\"   \"Formula\"   \"survival\" \n [7] \"lattice\"   \"stats\"     \"graphics\"  \"grDevices\" \"utils\"     \"datasets\" \n[13] \"methods\"   \"base\"     \n\n[[4]]\n [1] \"expm\"      \"Matrix\"    \"matlib\"    \"Hmisc\"     \"ggplot2\"   \"Formula\"  \n [7] \"survival\"  \"lattice\"   \"stats\"     \"graphics\"  \"grDevices\" \"utils\"    \n[13] \"datasets\"  \"methods\"   \"base\"     \n\n[[5]]\n [1] \"matrixcalc\" \"expm\"       \"Matrix\"     \"matlib\"     \"Hmisc\"     \n [6] \"ggplot2\"    \"Formula\"    \"survival\"   \"lattice\"    \"stats\"     \n[11] \"graphics\"   \"grDevices\"  \"utils\"      \"datasets\"   \"methods\"   \n[16] \"base\"      \n\n[[6]]\n [1] \"ellipsis\"   \"matrixcalc\" \"expm\"       \"Matrix\"     \"matlib\"    \n [6] \"Hmisc\"      \"ggplot2\"    \"Formula\"    \"survival\"   \"lattice\"   \n[11] \"stats\"      \"graphics\"   \"grDevices\"  \"utils\"      \"datasets\"  \n[16] \"methods\"    \"base\"      \n\n[[7]]\n [1] \"Hotelling\"  \"corpcor\"    \"ellipsis\"   \"matrixcalc\" \"expm\"      \n [6] \"Matrix\"     \"matlib\"     \"Hmisc\"      \"ggplot2\"    \"Formula\"   \n[11] \"survival\"   \"lattice\"    \"stats\"      \"graphics\"   \"grDevices\" \n[16] \"utils\"      \"datasets\"   \"methods\"    \"base\"      \n\n[[8]]\n [1] \"dplyr\"      \"Hotelling\"  \"corpcor\"    \"ellipsis\"   \"matrixcalc\"\n [6] \"expm\"       \"Matrix\"     \"matlib\"     \"Hmisc\"      \"ggplot2\"   \n[11] \"Formula\"    \"survival\"   \"lattice\"    \"stats\"      \"graphics\"  \n[16] \"grDevices\"  \"utils\"      \"datasets\"   \"methods\"    \"base\"      \n\n[[9]]\n [1] \"psych\"      \"dplyr\"      \"Hotelling\"  \"corpcor\"    \"ellipsis\"  \n [6] \"matrixcalc\" \"expm\"       \"Matrix\"     \"matlib\"     \"Hmisc\"     \n[11] \"ggplot2\"    \"Formula\"    \"survival\"   \"lattice\"    \"stats\"     \n[16] \"graphics\"   \"grDevices\"  \"utils\"      \"datasets\"   \"methods\"   \n[21] \"base\"      \n\n[[10]]\n [1] \"RcmdrMisc\"  \"sandwich\"   \"car\"        \"carData\"    \"psych\"     \n [6] \"dplyr\"      \"Hotelling\"  \"corpcor\"    \"ellipsis\"   \"matrixcalc\"\n[11] \"expm\"       \"Matrix\"     \"matlib\"     \"Hmisc\"      \"ggplot2\"   \n[16] \"Formula\"    \"survival\"   \"lattice\"    \"stats\"      \"graphics\"  \n[21] \"grDevices\"  \"utils\"      \"datasets\"   \"methods\"    \"base\"      \n\n[[11]]\n [1] \"Rcsdp\"      \"RcmdrMisc\"  \"sandwich\"   \"car\"        \"carData\"   \n [6] \"psych\"      \"dplyr\"      \"Hotelling\"  \"corpcor\"    \"ellipsis\"  \n[11] \"matrixcalc\" \"expm\"       \"Matrix\"     \"matlib\"     \"Hmisc\"     \n[16] \"ggplot2\"    \"Formula\"    \"survival\"   \"lattice\"    \"stats\"     \n[21] \"graphics\"   \"grDevices\"  \"utils\"      \"datasets\"   \"methods\"   \n[26] \"base\"      \n\n[[12]]\n [1] \"mvnormtest\" \"Rcsdp\"      \"RcmdrMisc\"  \"sandwich\"   \"car\"       \n [6] \"carData\"    \"psych\"      \"dplyr\"      \"Hotelling\"  \"corpcor\"   \n[11] \"ellipsis\"   \"matrixcalc\" \"expm\"       \"Matrix\"     \"matlib\"    \n[16] \"Hmisc\"      \"ggplot2\"    \"Formula\"    \"survival\"   \"lattice\"   \n[21] \"stats\"      \"graphics\"   \"grDevices\"  \"utils\"      \"datasets\"  \n[26] \"methods\"    \"base\"      \n\n[[13]]\n [1] \"factoextra\" \"mvnormtest\" \"Rcsdp\"      \"RcmdrMisc\"  \"sandwich\"  \n [6] \"car\"        \"carData\"    \"psych\"      \"dplyr\"      \"Hotelling\" \n[11] \"corpcor\"    \"ellipsis\"   \"matrixcalc\" \"expm\"       \"Matrix\"    \n[16] \"matlib\"     \"Hmisc\"      \"ggplot2\"    \"Formula\"    \"survival\"  \n[21] \"lattice\"    \"stats\"      \"graphics\"   \"grDevices\"  \"utils\"     \n[26] \"datasets\"   \"methods\"    \"base\"      \n\n[[14]]\n [1] \"cluster\"    \"factoextra\" \"mvnormtest\" \"Rcsdp\"      \"RcmdrMisc\" \n [6] \"sandwich\"   \"car\"        \"carData\"    \"psych\"      \"dplyr\"     \n[11] \"Hotelling\"  \"corpcor\"    \"ellipsis\"   \"matrixcalc\" \"expm\"      \n[16] \"Matrix\"     \"matlib\"     \"Hmisc\"      \"ggplot2\"    \"Formula\"   \n[21] \"survival\"   \"lattice\"    \"stats\"      \"graphics\"   \"grDevices\" \n[26] \"utils\"      \"datasets\"   \"methods\"    \"base\"      \n\n[[15]]\n [1] \"cluster\"    \"factoextra\" \"mvnormtest\" \"Rcsdp\"      \"RcmdrMisc\" \n [6] \"sandwich\"   \"car\"        \"carData\"    \"psych\"      \"dplyr\"     \n[11] \"Hotelling\"  \"corpcor\"    \"ellipsis\"   \"matrixcalc\" \"expm\"      \n[16] \"Matrix\"     \"matlib\"     \"Hmisc\"      \"ggplot2\"    \"Formula\"   \n[21] \"survival\"   \"lattice\"    \"stats\"      \"graphics\"   \"grDevices\" \n[26] \"utils\"      \"datasets\"   \"methods\"    \"base\"      \n\n[[16]]\n [1] \"tree\"       \"cluster\"    \"factoextra\" \"mvnormtest\" \"Rcsdp\"     \n [6] \"RcmdrMisc\"  \"sandwich\"   \"car\"        \"carData\"    \"psych\"     \n[11] \"dplyr\"      \"Hotelling\"  \"corpcor\"    \"ellipsis\"   \"matrixcalc\"\n[16] \"expm\"       \"Matrix\"     \"matlib\"     \"Hmisc\"      \"ggplot2\"   \n[21] \"Formula\"    \"survival\"   \"lattice\"    \"stats\"      \"graphics\"  \n[26] \"grDevices\"  \"utils\"      \"datasets\"   \"methods\"    \"base\"      \n\n[[17]]\n [1] \"class\"      \"tree\"       \"cluster\"    \"factoextra\" \"mvnormtest\"\n [6] \"Rcsdp\"      \"RcmdrMisc\"  \"sandwich\"   \"car\"        \"carData\"   \n[11] \"psych\"      \"dplyr\"      \"Hotelling\"  \"corpcor\"    \"ellipsis\"  \n[16] \"matrixcalc\" \"expm\"       \"Matrix\"     \"matlib\"     \"Hmisc\"     \n[21] \"ggplot2\"    \"Formula\"    \"survival\"   \"lattice\"    \"stats\"     \n[26] \"graphics\"   \"grDevices\"  \"utils\"      \"datasets\"   \"methods\"   \n[31] \"base\"      \n\n[[18]]\n [1] \"class\"      \"tree\"       \"cluster\"    \"factoextra\" \"mvnormtest\"\n [6] \"Rcsdp\"      \"RcmdrMisc\"  \"sandwich\"   \"car\"        \"carData\"   \n[11] \"psych\"      \"dplyr\"      \"Hotelling\"  \"corpcor\"    \"ellipsis\"  \n[16] \"matrixcalc\" \"expm\"       \"Matrix\"     \"matlib\"     \"Hmisc\"     \n[21] \"ggplot2\"    \"Formula\"    \"survival\"   \"lattice\"    \"stats\"     \n[26] \"graphics\"   \"grDevices\"  \"utils\"      \"datasets\"   \"methods\"   \n[31] \"base\"      \n"
     },
     "metadata": {},
     "output_type": "display_data"
    }
   ]
  },
  {
   "cell_type": "markdown",
   "source": "### Import Data",
   "metadata": {
    "cell_id": "a99bf5d0cce047a2b6320501605003b8",
    "tags": [],
    "deepnote_cell_type": "markdown",
    "deepnote_cell_height": 62
   }
  },
  {
   "cell_type": "code",
   "metadata": {
    "cell_id": "ff892b1d63c14f27b280bb46dea1ade7",
    "tags": [],
    "deepnote_to_be_reexecuted": false,
    "source_hash": "71876e52",
    "execution_start": 1651561551466,
    "execution_millis": 122,
    "deepnote_cell_type": "code",
    "deepnote_cell_height": 410,
    "deepnote_output_heights": [
     277
    ]
   },
   "source": "data <- read.csv(\"AirQualityUCI.csv\", header=TRUE, sep=\";\")\ndata <- as.data.frame(data)\nhead(data)",
   "execution_count": null,
   "outputs": [
    {
     "data": {
      "text/html": "<table class=\"dataframe\">\n<caption>A data.frame: 6 × 15</caption>\n<thead>\n\t<tr><th></th><th scope=col>Date</th><th scope=col>Time</th><th scope=col>CO.GT.</th><th scope=col>PT08.S1.CO.</th><th scope=col>NMHC.GT.</th><th scope=col>C6H6.GT.</th><th scope=col>PT08.S2.NMHC.</th><th scope=col>NOx.GT.</th><th scope=col>PT08.S3.NOx.</th><th scope=col>NO2.GT.</th><th scope=col>PT08.S4.NO2.</th><th scope=col>PT08.S5.O3.</th><th scope=col>T</th><th scope=col>RH</th><th scope=col>AH</th></tr>\n\t<tr><th></th><th scope=col>&lt;chr&gt;</th><th scope=col>&lt;chr&gt;</th><th scope=col>&lt;dbl&gt;</th><th scope=col>&lt;int&gt;</th><th scope=col>&lt;int&gt;</th><th scope=col>&lt;dbl&gt;</th><th scope=col>&lt;int&gt;</th><th scope=col>&lt;int&gt;</th><th scope=col>&lt;int&gt;</th><th scope=col>&lt;int&gt;</th><th scope=col>&lt;int&gt;</th><th scope=col>&lt;int&gt;</th><th scope=col>&lt;dbl&gt;</th><th scope=col>&lt;dbl&gt;</th><th scope=col>&lt;dbl&gt;</th></tr>\n</thead>\n<tbody>\n\t<tr><th scope=row>1</th><td>10/03/2004</td><td>18.00.00</td><td>2.6</td><td>1360</td><td>150</td><td>11.9</td><td>1046</td><td>166</td><td>1056</td><td>113</td><td>1692</td><td>1268</td><td>13.6</td><td>48.9</td><td>0.7578</td></tr>\n\t<tr><th scope=row>2</th><td>10/03/2004</td><td>19.00.00</td><td>2.0</td><td>1292</td><td>112</td><td> 9.4</td><td> 955</td><td>103</td><td>1174</td><td> 92</td><td>1559</td><td> 972</td><td>13.3</td><td>47.7</td><td>0.7255</td></tr>\n\t<tr><th scope=row>3</th><td>10/03/2004</td><td>20.00.00</td><td>2.2</td><td>1402</td><td> 88</td><td> 9.0</td><td> 939</td><td>131</td><td>1140</td><td>114</td><td>1555</td><td>1074</td><td>11.9</td><td>54.0</td><td>0.7502</td></tr>\n\t<tr><th scope=row>4</th><td>10/03/2004</td><td>21.00.00</td><td>2.2</td><td>1376</td><td> 80</td><td> 9.2</td><td> 948</td><td>172</td><td>1092</td><td>122</td><td>1584</td><td>1203</td><td>11.0</td><td>60.0</td><td>0.7867</td></tr>\n\t<tr><th scope=row>5</th><td>10/03/2004</td><td>22.00.00</td><td>1.6</td><td>1272</td><td> 51</td><td> 6.5</td><td> 836</td><td>131</td><td>1205</td><td>116</td><td>1490</td><td>1110</td><td>11.2</td><td>59.6</td><td>0.7888</td></tr>\n\t<tr><th scope=row>6</th><td>10/03/2004</td><td>23.00.00</td><td>1.2</td><td>1197</td><td> 38</td><td> 4.7</td><td> 750</td><td> 89</td><td>1337</td><td> 96</td><td>1393</td><td> 949</td><td>11.2</td><td>59.2</td><td>0.7848</td></tr>\n</tbody>\n</table>\n",
      "text/markdown": "\nA data.frame: 6 × 15\n\n| <!--/--> | Date &lt;chr&gt; | Time &lt;chr&gt; | CO.GT. &lt;dbl&gt; | PT08.S1.CO. &lt;int&gt; | NMHC.GT. &lt;int&gt; | C6H6.GT. &lt;dbl&gt; | PT08.S2.NMHC. &lt;int&gt; | NOx.GT. &lt;int&gt; | PT08.S3.NOx. &lt;int&gt; | NO2.GT. &lt;int&gt; | PT08.S4.NO2. &lt;int&gt; | PT08.S5.O3. &lt;int&gt; | T &lt;dbl&gt; | RH &lt;dbl&gt; | AH &lt;dbl&gt; |\n|---|---|---|---|---|---|---|---|---|---|---|---|---|---|---|---|\n| 1 | 10/03/2004 | 18.00.00 | 2.6 | 1360 | 150 | 11.9 | 1046 | 166 | 1056 | 113 | 1692 | 1268 | 13.6 | 48.9 | 0.7578 |\n| 2 | 10/03/2004 | 19.00.00 | 2.0 | 1292 | 112 |  9.4 |  955 | 103 | 1174 |  92 | 1559 |  972 | 13.3 | 47.7 | 0.7255 |\n| 3 | 10/03/2004 | 20.00.00 | 2.2 | 1402 |  88 |  9.0 |  939 | 131 | 1140 | 114 | 1555 | 1074 | 11.9 | 54.0 | 0.7502 |\n| 4 | 10/03/2004 | 21.00.00 | 2.2 | 1376 |  80 |  9.2 |  948 | 172 | 1092 | 122 | 1584 | 1203 | 11.0 | 60.0 | 0.7867 |\n| 5 | 10/03/2004 | 22.00.00 | 1.6 | 1272 |  51 |  6.5 |  836 | 131 | 1205 | 116 | 1490 | 1110 | 11.2 | 59.6 | 0.7888 |\n| 6 | 10/03/2004 | 23.00.00 | 1.2 | 1197 |  38 |  4.7 |  750 |  89 | 1337 |  96 | 1393 |  949 | 11.2 | 59.2 | 0.7848 |\n\n",
      "text/latex": "A data.frame: 6 × 15\n\\begin{tabular}{r|lllllllllllllll}\n  & Date & Time & CO.GT. & PT08.S1.CO. & NMHC.GT. & C6H6.GT. & PT08.S2.NMHC. & NOx.GT. & PT08.S3.NOx. & NO2.GT. & PT08.S4.NO2. & PT08.S5.O3. & T & RH & AH\\\\\n  & <chr> & <chr> & <dbl> & <int> & <int> & <dbl> & <int> & <int> & <int> & <int> & <int> & <int> & <dbl> & <dbl> & <dbl>\\\\\n\\hline\n\t1 & 10/03/2004 & 18.00.00 & 2.6 & 1360 & 150 & 11.9 & 1046 & 166 & 1056 & 113 & 1692 & 1268 & 13.6 & 48.9 & 0.7578\\\\\n\t2 & 10/03/2004 & 19.00.00 & 2.0 & 1292 & 112 &  9.4 &  955 & 103 & 1174 &  92 & 1559 &  972 & 13.3 & 47.7 & 0.7255\\\\\n\t3 & 10/03/2004 & 20.00.00 & 2.2 & 1402 &  88 &  9.0 &  939 & 131 & 1140 & 114 & 1555 & 1074 & 11.9 & 54.0 & 0.7502\\\\\n\t4 & 10/03/2004 & 21.00.00 & 2.2 & 1376 &  80 &  9.2 &  948 & 172 & 1092 & 122 & 1584 & 1203 & 11.0 & 60.0 & 0.7867\\\\\n\t5 & 10/03/2004 & 22.00.00 & 1.6 & 1272 &  51 &  6.5 &  836 & 131 & 1205 & 116 & 1490 & 1110 & 11.2 & 59.6 & 0.7888\\\\\n\t6 & 10/03/2004 & 23.00.00 & 1.2 & 1197 &  38 &  4.7 &  750 &  89 & 1337 &  96 & 1393 &  949 & 11.2 & 59.2 & 0.7848\\\\\n\\end{tabular}\n",
      "text/plain": "  Date       Time     CO.GT. PT08.S1.CO. NMHC.GT. C6H6.GT. PT08.S2.NMHC.\n1 10/03/2004 18.00.00 2.6    1360        150      11.9     1046         \n2 10/03/2004 19.00.00 2.0    1292        112       9.4      955         \n3 10/03/2004 20.00.00 2.2    1402         88       9.0      939         \n4 10/03/2004 21.00.00 2.2    1376         80       9.2      948         \n5 10/03/2004 22.00.00 1.6    1272         51       6.5      836         \n6 10/03/2004 23.00.00 1.2    1197         38       4.7      750         \n  NOx.GT. PT08.S3.NOx. NO2.GT. PT08.S4.NO2. PT08.S5.O3. T    RH   AH    \n1 166     1056         113     1692         1268        13.6 48.9 0.7578\n2 103     1174          92     1559          972        13.3 47.7 0.7255\n3 131     1140         114     1555         1074        11.9 54.0 0.7502\n4 172     1092         122     1584         1203        11.0 60.0 0.7867\n5 131     1205         116     1490         1110        11.2 59.6 0.7888\n6  89     1337          96     1393          949        11.2 59.2 0.7848"
     },
     "metadata": {},
     "output_type": "display_data"
    }
   ]
  },
  {
   "cell_type": "markdown",
   "source": "### Memeriksa Missing Value",
   "metadata": {
    "cell_id": "15f46887ad5d4b10af068da69b2afc20",
    "tags": [],
    "deepnote_cell_type": "markdown",
    "deepnote_cell_height": 62
   }
  },
  {
   "cell_type": "code",
   "metadata": {
    "cell_id": "23588f2680e942afaee97c6c1e5582e9",
    "tags": [],
    "deepnote_to_be_reexecuted": false,
    "source_hash": "d8094204",
    "execution_start": 1651561551615,
    "execution_millis": 1,
    "deepnote_cell_type": "code",
    "deepnote_cell_height": 118.1875,
    "deepnote_output_heights": [
     21.1875
    ]
   },
   "source": "sum(is.na(data))",
   "execution_count": null,
   "outputs": [
    {
     "data": {
      "text/html": "0",
      "text/markdown": "0",
      "text/latex": "0",
      "text/plain": "[1] 0"
     },
     "metadata": {},
     "output_type": "display_data"
    }
   ]
  },
  {
   "cell_type": "markdown",
   "source": "### Membuang kolom pertama dan kedua",
   "metadata": {
    "cell_id": "8107e5093fac44a09948470cec8018e0",
    "tags": [],
    "deepnote_cell_type": "markdown",
    "deepnote_cell_height": 62
   }
  },
  {
   "cell_type": "code",
   "metadata": {
    "cell_id": "31b12584e18d4869ba43b5288b2f2acf",
    "tags": [],
    "deepnote_to_be_reexecuted": false,
    "source_hash": "5016d7d",
    "execution_start": 1651561551666,
    "execution_millis": 2,
    "deepnote_cell_type": "code",
    "deepnote_cell_height": 392,
    "deepnote_output_heights": [
     277
    ]
   },
   "source": "databaru=data[-1:-2]\nhead(databaru)",
   "execution_count": null,
   "outputs": [
    {
     "data": {
      "text/html": "<table class=\"dataframe\">\n<caption>A data.frame: 6 × 13</caption>\n<thead>\n\t<tr><th></th><th scope=col>CO.GT.</th><th scope=col>PT08.S1.CO.</th><th scope=col>NMHC.GT.</th><th scope=col>C6H6.GT.</th><th scope=col>PT08.S2.NMHC.</th><th scope=col>NOx.GT.</th><th scope=col>PT08.S3.NOx.</th><th scope=col>NO2.GT.</th><th scope=col>PT08.S4.NO2.</th><th scope=col>PT08.S5.O3.</th><th scope=col>T</th><th scope=col>RH</th><th scope=col>AH</th></tr>\n\t<tr><th></th><th scope=col>&lt;dbl&gt;</th><th scope=col>&lt;int&gt;</th><th scope=col>&lt;int&gt;</th><th scope=col>&lt;dbl&gt;</th><th scope=col>&lt;int&gt;</th><th scope=col>&lt;int&gt;</th><th scope=col>&lt;int&gt;</th><th scope=col>&lt;int&gt;</th><th scope=col>&lt;int&gt;</th><th scope=col>&lt;int&gt;</th><th scope=col>&lt;dbl&gt;</th><th scope=col>&lt;dbl&gt;</th><th scope=col>&lt;dbl&gt;</th></tr>\n</thead>\n<tbody>\n\t<tr><th scope=row>1</th><td>2.6</td><td>1360</td><td>150</td><td>11.9</td><td>1046</td><td>166</td><td>1056</td><td>113</td><td>1692</td><td>1268</td><td>13.6</td><td>48.9</td><td>0.7578</td></tr>\n\t<tr><th scope=row>2</th><td>2.0</td><td>1292</td><td>112</td><td> 9.4</td><td> 955</td><td>103</td><td>1174</td><td> 92</td><td>1559</td><td> 972</td><td>13.3</td><td>47.7</td><td>0.7255</td></tr>\n\t<tr><th scope=row>3</th><td>2.2</td><td>1402</td><td> 88</td><td> 9.0</td><td> 939</td><td>131</td><td>1140</td><td>114</td><td>1555</td><td>1074</td><td>11.9</td><td>54.0</td><td>0.7502</td></tr>\n\t<tr><th scope=row>4</th><td>2.2</td><td>1376</td><td> 80</td><td> 9.2</td><td> 948</td><td>172</td><td>1092</td><td>122</td><td>1584</td><td>1203</td><td>11.0</td><td>60.0</td><td>0.7867</td></tr>\n\t<tr><th scope=row>5</th><td>1.6</td><td>1272</td><td> 51</td><td> 6.5</td><td> 836</td><td>131</td><td>1205</td><td>116</td><td>1490</td><td>1110</td><td>11.2</td><td>59.6</td><td>0.7888</td></tr>\n\t<tr><th scope=row>6</th><td>1.2</td><td>1197</td><td> 38</td><td> 4.7</td><td> 750</td><td> 89</td><td>1337</td><td> 96</td><td>1393</td><td> 949</td><td>11.2</td><td>59.2</td><td>0.7848</td></tr>\n</tbody>\n</table>\n",
      "text/markdown": "\nA data.frame: 6 × 13\n\n| <!--/--> | CO.GT. &lt;dbl&gt; | PT08.S1.CO. &lt;int&gt; | NMHC.GT. &lt;int&gt; | C6H6.GT. &lt;dbl&gt; | PT08.S2.NMHC. &lt;int&gt; | NOx.GT. &lt;int&gt; | PT08.S3.NOx. &lt;int&gt; | NO2.GT. &lt;int&gt; | PT08.S4.NO2. &lt;int&gt; | PT08.S5.O3. &lt;int&gt; | T &lt;dbl&gt; | RH &lt;dbl&gt; | AH &lt;dbl&gt; |\n|---|---|---|---|---|---|---|---|---|---|---|---|---|---|\n| 1 | 2.6 | 1360 | 150 | 11.9 | 1046 | 166 | 1056 | 113 | 1692 | 1268 | 13.6 | 48.9 | 0.7578 |\n| 2 | 2.0 | 1292 | 112 |  9.4 |  955 | 103 | 1174 |  92 | 1559 |  972 | 13.3 | 47.7 | 0.7255 |\n| 3 | 2.2 | 1402 |  88 |  9.0 |  939 | 131 | 1140 | 114 | 1555 | 1074 | 11.9 | 54.0 | 0.7502 |\n| 4 | 2.2 | 1376 |  80 |  9.2 |  948 | 172 | 1092 | 122 | 1584 | 1203 | 11.0 | 60.0 | 0.7867 |\n| 5 | 1.6 | 1272 |  51 |  6.5 |  836 | 131 | 1205 | 116 | 1490 | 1110 | 11.2 | 59.6 | 0.7888 |\n| 6 | 1.2 | 1197 |  38 |  4.7 |  750 |  89 | 1337 |  96 | 1393 |  949 | 11.2 | 59.2 | 0.7848 |\n\n",
      "text/latex": "A data.frame: 6 × 13\n\\begin{tabular}{r|lllllllllllll}\n  & CO.GT. & PT08.S1.CO. & NMHC.GT. & C6H6.GT. & PT08.S2.NMHC. & NOx.GT. & PT08.S3.NOx. & NO2.GT. & PT08.S4.NO2. & PT08.S5.O3. & T & RH & AH\\\\\n  & <dbl> & <int> & <int> & <dbl> & <int> & <int> & <int> & <int> & <int> & <int> & <dbl> & <dbl> & <dbl>\\\\\n\\hline\n\t1 & 2.6 & 1360 & 150 & 11.9 & 1046 & 166 & 1056 & 113 & 1692 & 1268 & 13.6 & 48.9 & 0.7578\\\\\n\t2 & 2.0 & 1292 & 112 &  9.4 &  955 & 103 & 1174 &  92 & 1559 &  972 & 13.3 & 47.7 & 0.7255\\\\\n\t3 & 2.2 & 1402 &  88 &  9.0 &  939 & 131 & 1140 & 114 & 1555 & 1074 & 11.9 & 54.0 & 0.7502\\\\\n\t4 & 2.2 & 1376 &  80 &  9.2 &  948 & 172 & 1092 & 122 & 1584 & 1203 & 11.0 & 60.0 & 0.7867\\\\\n\t5 & 1.6 & 1272 &  51 &  6.5 &  836 & 131 & 1205 & 116 & 1490 & 1110 & 11.2 & 59.6 & 0.7888\\\\\n\t6 & 1.2 & 1197 &  38 &  4.7 &  750 &  89 & 1337 &  96 & 1393 &  949 & 11.2 & 59.2 & 0.7848\\\\\n\\end{tabular}\n",
      "text/plain": "  CO.GT. PT08.S1.CO. NMHC.GT. C6H6.GT. PT08.S2.NMHC. NOx.GT. PT08.S3.NOx.\n1 2.6    1360        150      11.9     1046          166     1056        \n2 2.0    1292        112       9.4      955          103     1174        \n3 2.2    1402         88       9.0      939          131     1140        \n4 2.2    1376         80       9.2      948          172     1092        \n5 1.6    1272         51       6.5      836          131     1205        \n6 1.2    1197         38       4.7      750           89     1337        \n  NO2.GT. PT08.S4.NO2. PT08.S5.O3. T    RH   AH    \n1 113     1692         1268        13.6 48.9 0.7578\n2  92     1559          972        13.3 47.7 0.7255\n3 114     1555         1074        11.9 54.0 0.7502\n4 122     1584         1203        11.0 60.0 0.7867\n5 116     1490         1110        11.2 59.6 0.7888\n6  96     1393          949        11.2 59.2 0.7848"
     },
     "metadata": {},
     "output_type": "display_data"
    }
   ]
  },
  {
   "cell_type": "markdown",
   "source": "### Ganti Nama Variabel",
   "metadata": {
    "cell_id": "0ab46818ee684f559633a37676ad19f8",
    "tags": [],
    "deepnote_cell_type": "markdown",
    "deepnote_cell_height": 62
   }
  },
  {
   "cell_type": "markdown",
   "source": "Untuk kelompok variabel dependen Y tidak diubah karena sudah sederhana yaitu \n1. T -> Temperature (Suhu)\n2. RH -> Relative Humidity (Kelembapan Relatif)\n3. AH -> Absolute Humidity (Kelembapan Mutlak)",
   "metadata": {
    "cell_id": "83c8d53013d948ae9d7f81bdb80fc4a2",
    "tags": [],
    "deepnote_cell_type": "markdown",
    "deepnote_cell_height": 153.5625
   }
  },
  {
   "cell_type": "markdown",
   "source": "Untuk kelompok variabel independen X akan diubah menjadi\n1. x1 -> CO.GT. (True hourly averaged concentration CO in mg/m^3 (reference analyzer))\n2. x2 -> PT08.S1.CO. ((tin oxide) hourly averaged sensor response (nominally CO targeted))\n3. x3 -> NMHC.GT. (True hourly averaged overall Non Metanic HydroCarbons concentration in microg/m^3 (reference analyzer))\n4. x4 -> C6H6.GT. (True hourly averaged Benzene concentration in microg/m^3 (reference analyzer))\n5. x5 -> PT08.S2.NMHC. ((titania) hourly averaged sensor response (nominally NMHC targeted))\n6. x6 -> NOx.GT. (True hourly averaged NOx concentration in ppb (reference analyzer))\n7. x7 -> PT08.S3.NOx. ((tungsten oxide) hourly averaged sensor response (nominally NOx targeted))\n8. x8 -> NO2.GT. (True hourly averaged NO2 concentration in microg/m^3 (reference analyzer))\n9. x9 -> PT08.S4.NO2. ((tungsten oxide) hourly averaged sensor response (nominally NO2 targeted))\n10. x10 -> PT08.S5.O3. ((indium oxide) hourly averaged sensor response (nominally O3 targeted))",
   "metadata": {
    "cell_id": "fdcad94fce6b4e49a551975ceb8e9b46",
    "tags": [],
    "deepnote_cell_type": "markdown",
    "deepnote_cell_height": 353.6875
   }
  },
  {
   "cell_type": "code",
   "metadata": {
    "cell_id": "b6c7016e6967493d8f19c44a11940b0a",
    "tags": [],
    "deepnote_to_be_reexecuted": false,
    "source_hash": "c3799fdf",
    "execution_start": 1651561551668,
    "execution_millis": 33,
    "deepnote_cell_type": "code",
    "deepnote_cell_height": 137.375,
    "deepnote_output_heights": [
     40.375
    ]
   },
   "source": "colnames(databaru)",
   "execution_count": null,
   "outputs": [
    {
     "data": {
      "text/html": "<style>\n.list-inline {list-style: none; margin:0; padding: 0}\n.list-inline>li {display: inline-block}\n.list-inline>li:not(:last-child)::after {content: \"\\00b7\"; padding: 0 .5ex}\n</style>\n<ol class=list-inline><li>'CO.GT.'</li><li>'PT08.S1.CO.'</li><li>'NMHC.GT.'</li><li>'C6H6.GT.'</li><li>'PT08.S2.NMHC.'</li><li>'NOx.GT.'</li><li>'PT08.S3.NOx.'</li><li>'NO2.GT.'</li><li>'PT08.S4.NO2.'</li><li>'PT08.S5.O3.'</li><li>'T'</li><li>'RH'</li><li>'AH'</li></ol>\n",
      "text/markdown": "1. 'CO.GT.'\n2. 'PT08.S1.CO.'\n3. 'NMHC.GT.'\n4. 'C6H6.GT.'\n5. 'PT08.S2.NMHC.'\n6. 'NOx.GT.'\n7. 'PT08.S3.NOx.'\n8. 'NO2.GT.'\n9. 'PT08.S4.NO2.'\n10. 'PT08.S5.O3.'\n11. 'T'\n12. 'RH'\n13. 'AH'\n\n\n",
      "text/latex": "\\begin{enumerate*}\n\\item 'CO.GT.'\n\\item 'PT08.S1.CO.'\n\\item 'NMHC.GT.'\n\\item 'C6H6.GT.'\n\\item 'PT08.S2.NMHC.'\n\\item 'NOx.GT.'\n\\item 'PT08.S3.NOx.'\n\\item 'NO2.GT.'\n\\item 'PT08.S4.NO2.'\n\\item 'PT08.S5.O3.'\n\\item 'T'\n\\item 'RH'\n\\item 'AH'\n\\end{enumerate*}\n",
      "text/plain": " [1] \"CO.GT.\"        \"PT08.S1.CO.\"   \"NMHC.GT.\"      \"C6H6.GT.\"     \n [5] \"PT08.S2.NMHC.\" \"NOx.GT.\"       \"PT08.S3.NOx.\"  \"NO2.GT.\"      \n [9] \"PT08.S4.NO2.\"  \"PT08.S5.O3.\"   \"T\"             \"RH\"           \n[13] \"AH\"           "
     },
     "metadata": {},
     "output_type": "display_data"
    }
   ]
  },
  {
   "cell_type": "code",
   "metadata": {
    "cell_id": "3e84d6f6c17b46f6a392a8d3a6dbb137",
    "tags": [],
    "deepnote_to_be_reexecuted": false,
    "source_hash": "cdcb56f1",
    "execution_start": 1651561551743,
    "execution_millis": 3,
    "deepnote_cell_type": "code",
    "deepnote_cell_height": 572,
    "deepnote_output_heights": [
     277
    ]
   },
   "source": "databaru <- rename(databaru,\n                            x1 = CO.GT.,\n                            x2 = PT08.S1.CO.,\n                            x3 = NMHC.GT.,\n                            x4 = C6H6.GT.,\n                            x5 = PT08.S2.NMHC.,\n                            x6 = NOx.GT.,\n                            x7 = PT08.S3.NOx.,\n                            x8 = NO2.GT.,\n                            x9 = PT08.S4.NO2.,\n                            x10 = PT08.S5.O3.)\nhead(databaru)",
   "execution_count": null,
   "outputs": [
    {
     "data": {
      "text/html": "<table class=\"dataframe\">\n<caption>A data.frame: 6 × 13</caption>\n<thead>\n\t<tr><th></th><th scope=col>x1</th><th scope=col>x2</th><th scope=col>x3</th><th scope=col>x4</th><th scope=col>x5</th><th scope=col>x6</th><th scope=col>x7</th><th scope=col>x8</th><th scope=col>x9</th><th scope=col>x10</th><th scope=col>T</th><th scope=col>RH</th><th scope=col>AH</th></tr>\n\t<tr><th></th><th scope=col>&lt;dbl&gt;</th><th scope=col>&lt;int&gt;</th><th scope=col>&lt;int&gt;</th><th scope=col>&lt;dbl&gt;</th><th scope=col>&lt;int&gt;</th><th scope=col>&lt;int&gt;</th><th scope=col>&lt;int&gt;</th><th scope=col>&lt;int&gt;</th><th scope=col>&lt;int&gt;</th><th scope=col>&lt;int&gt;</th><th scope=col>&lt;dbl&gt;</th><th scope=col>&lt;dbl&gt;</th><th scope=col>&lt;dbl&gt;</th></tr>\n</thead>\n<tbody>\n\t<tr><th scope=row>1</th><td>2.6</td><td>1360</td><td>150</td><td>11.9</td><td>1046</td><td>166</td><td>1056</td><td>113</td><td>1692</td><td>1268</td><td>13.6</td><td>48.9</td><td>0.7578</td></tr>\n\t<tr><th scope=row>2</th><td>2.0</td><td>1292</td><td>112</td><td> 9.4</td><td> 955</td><td>103</td><td>1174</td><td> 92</td><td>1559</td><td> 972</td><td>13.3</td><td>47.7</td><td>0.7255</td></tr>\n\t<tr><th scope=row>3</th><td>2.2</td><td>1402</td><td> 88</td><td> 9.0</td><td> 939</td><td>131</td><td>1140</td><td>114</td><td>1555</td><td>1074</td><td>11.9</td><td>54.0</td><td>0.7502</td></tr>\n\t<tr><th scope=row>4</th><td>2.2</td><td>1376</td><td> 80</td><td> 9.2</td><td> 948</td><td>172</td><td>1092</td><td>122</td><td>1584</td><td>1203</td><td>11.0</td><td>60.0</td><td>0.7867</td></tr>\n\t<tr><th scope=row>5</th><td>1.6</td><td>1272</td><td> 51</td><td> 6.5</td><td> 836</td><td>131</td><td>1205</td><td>116</td><td>1490</td><td>1110</td><td>11.2</td><td>59.6</td><td>0.7888</td></tr>\n\t<tr><th scope=row>6</th><td>1.2</td><td>1197</td><td> 38</td><td> 4.7</td><td> 750</td><td> 89</td><td>1337</td><td> 96</td><td>1393</td><td> 949</td><td>11.2</td><td>59.2</td><td>0.7848</td></tr>\n</tbody>\n</table>\n",
      "text/markdown": "\nA data.frame: 6 × 13\n\n| <!--/--> | x1 &lt;dbl&gt; | x2 &lt;int&gt; | x3 &lt;int&gt; | x4 &lt;dbl&gt; | x5 &lt;int&gt; | x6 &lt;int&gt; | x7 &lt;int&gt; | x8 &lt;int&gt; | x9 &lt;int&gt; | x10 &lt;int&gt; | T &lt;dbl&gt; | RH &lt;dbl&gt; | AH &lt;dbl&gt; |\n|---|---|---|---|---|---|---|---|---|---|---|---|---|---|\n| 1 | 2.6 | 1360 | 150 | 11.9 | 1046 | 166 | 1056 | 113 | 1692 | 1268 | 13.6 | 48.9 | 0.7578 |\n| 2 | 2.0 | 1292 | 112 |  9.4 |  955 | 103 | 1174 |  92 | 1559 |  972 | 13.3 | 47.7 | 0.7255 |\n| 3 | 2.2 | 1402 |  88 |  9.0 |  939 | 131 | 1140 | 114 | 1555 | 1074 | 11.9 | 54.0 | 0.7502 |\n| 4 | 2.2 | 1376 |  80 |  9.2 |  948 | 172 | 1092 | 122 | 1584 | 1203 | 11.0 | 60.0 | 0.7867 |\n| 5 | 1.6 | 1272 |  51 |  6.5 |  836 | 131 | 1205 | 116 | 1490 | 1110 | 11.2 | 59.6 | 0.7888 |\n| 6 | 1.2 | 1197 |  38 |  4.7 |  750 |  89 | 1337 |  96 | 1393 |  949 | 11.2 | 59.2 | 0.7848 |\n\n",
      "text/latex": "A data.frame: 6 × 13\n\\begin{tabular}{r|lllllllllllll}\n  & x1 & x2 & x3 & x4 & x5 & x6 & x7 & x8 & x9 & x10 & T & RH & AH\\\\\n  & <dbl> & <int> & <int> & <dbl> & <int> & <int> & <int> & <int> & <int> & <int> & <dbl> & <dbl> & <dbl>\\\\\n\\hline\n\t1 & 2.6 & 1360 & 150 & 11.9 & 1046 & 166 & 1056 & 113 & 1692 & 1268 & 13.6 & 48.9 & 0.7578\\\\\n\t2 & 2.0 & 1292 & 112 &  9.4 &  955 & 103 & 1174 &  92 & 1559 &  972 & 13.3 & 47.7 & 0.7255\\\\\n\t3 & 2.2 & 1402 &  88 &  9.0 &  939 & 131 & 1140 & 114 & 1555 & 1074 & 11.9 & 54.0 & 0.7502\\\\\n\t4 & 2.2 & 1376 &  80 &  9.2 &  948 & 172 & 1092 & 122 & 1584 & 1203 & 11.0 & 60.0 & 0.7867\\\\\n\t5 & 1.6 & 1272 &  51 &  6.5 &  836 & 131 & 1205 & 116 & 1490 & 1110 & 11.2 & 59.6 & 0.7888\\\\\n\t6 & 1.2 & 1197 &  38 &  4.7 &  750 &  89 & 1337 &  96 & 1393 &  949 & 11.2 & 59.2 & 0.7848\\\\\n\\end{tabular}\n",
      "text/plain": "  x1  x2   x3  x4   x5   x6  x7   x8  x9   x10  T    RH   AH    \n1 2.6 1360 150 11.9 1046 166 1056 113 1692 1268 13.6 48.9 0.7578\n2 2.0 1292 112  9.4  955 103 1174  92 1559  972 13.3 47.7 0.7255\n3 2.2 1402  88  9.0  939 131 1140 114 1555 1074 11.9 54.0 0.7502\n4 2.2 1376  80  9.2  948 172 1092 122 1584 1203 11.0 60.0 0.7867\n5 1.6 1272  51  6.5  836 131 1205 116 1490 1110 11.2 59.6 0.7888\n6 1.2 1197  38  4.7  750  89 1337  96 1393  949 11.2 59.2 0.7848"
     },
     "metadata": {},
     "output_type": "display_data"
    }
   ]
  },
  {
   "cell_type": "markdown",
   "source": "### Analisis Regresi Multivariat",
   "metadata": {
    "cell_id": "59f83250dee041d68a13b6391209d5d8",
    "tags": [],
    "deepnote_cell_type": "markdown",
    "deepnote_cell_height": 62
   }
  },
  {
   "cell_type": "markdown",
   "source": "#### Analisis Regresi Secara Individual Variabel Dependen Y",
   "metadata": {
    "cell_id": "850989c0cb584c24a76e6d3eba93e065",
    "tags": [],
    "deepnote_cell_type": "markdown",
    "deepnote_cell_height": 54
   }
  },
  {
   "cell_type": "code",
   "metadata": {
    "cell_id": "597f7daafbfa4f869cffe7a9a5ce2982",
    "tags": [],
    "deepnote_to_be_reexecuted": false,
    "source_hash": "947ba74f",
    "execution_start": 1651561551744,
    "execution_millis": 71,
    "deepnote_cell_type": "code",
    "deepnote_cell_height": 744,
    "deepnote_output_heights": [
     611
    ]
   },
   "source": "mmr <- lm(cbind(T, RH, AH) ~ x1 + x2 + x3 + x4 \n+ x5 + x6 + x7 + x8 + x9 + x10\t, data = databaru)\nsummary(mmr)",
   "execution_count": null,
   "outputs": [
    {
     "data": {
      "text/plain": "Response T :\n\nCall:\nlm(formula = T ~ x1 + x2 + x3 + x4 + x5 + x6 + x7 + x8 + x9 + \n    x10, data = databaru)\n\nResiduals:\n    Min      1Q  Median      3Q     Max \n-33.127  -3.497  -0.477   3.377  22.759 \n\nCoefficients:\n              Estimate Std. Error t value Pr(>|t|)    \n(Intercept) 35.6444866  1.0765154   33.11   <2e-16 ***\nx1           0.0008322  0.0010666    0.78    0.435    \nx2          -0.0170039  0.0008270  -20.56   <2e-16 ***\nx3          -0.0091767  0.0005161  -17.78   <2e-16 ***\nx4           1.2135694  0.0066769  181.76   <2e-16 ***\nx5          -0.0211482  0.0008000  -26.43   <2e-16 ***\nx6          -0.0146951  0.0005621  -26.14   <2e-16 ***\nx7          -0.0107328  0.0004707  -22.80   <2e-16 ***\nx8           0.0228457  0.0009972   22.91   <2e-16 ***\nx9           0.0202109  0.0003389   59.64   <2e-16 ***\nx10         -0.0115345  0.0004278  -26.96   <2e-16 ***\n---\nSignif. codes:  0 ‘***’ 0.001 ‘**’ 0.01 ‘*’ 0.05 ‘.’ 0.1 ‘ ’ 1\n\nResidual standard error: 5.817 on 9346 degrees of freedom\nMultiple R-squared:  0.9819,\tAdjusted R-squared:  0.9819 \nF-statistic: 5.067e+04 on 10 and 9346 DF,  p-value: < 2.2e-16\n\n\nResponse RH :\n\nCall:\nlm(formula = RH ~ x1 + x2 + x3 + x4 + x5 + x6 + x7 + x8 + x9 + \n    x10, data = databaru)\n\nResiduals:\n    Min      1Q  Median      3Q     Max \n-37.060  -9.281  -0.884   8.288  51.460 \n\nCoefficients:\n              Estimate Std. Error t value Pr(>|t|)    \n(Intercept) 96.7199442  2.4229507  39.918   <2e-16 ***\nx1           0.0052105  0.0024007   2.170   0.0300 *  \nx2           0.0364726  0.0018614  19.594   <2e-16 ***\nx3           0.0019823  0.0011616   1.707   0.0879 .  \nx4           1.6032394  0.0150280 106.683   <2e-16 ***\nx5          -0.1562502  0.0018006 -86.776   <2e-16 ***\nx6           0.0442307  0.0012651  34.963   <2e-16 ***\nx7          -0.0192171  0.0010595 -18.137   <2e-16 ***\nx8          -0.0740584  0.0022444 -32.996   <2e-16 ***\nx9           0.0230033  0.0007627  30.159   <2e-16 ***\nx10          0.0224664  0.0009629  23.332   <2e-16 ***\n---\nSignif. codes:  0 ‘***’ 0.001 ‘**’ 0.01 ‘*’ 0.05 ‘.’ 0.1 ‘ ’ 1\n\nResidual standard error: 13.09 on 9346 degrees of freedom\nMultiple R-squared:  0.9347,\tAdjusted R-squared:  0.9346 \nF-statistic: 1.338e+04 on 10 and 9346 DF,  p-value: < 2.2e-16\n\n\nResponse AH :\n\nCall:\nlm(formula = AH ~ x1 + x2 + x3 + x4 + x5 + x6 + x7 + x8 + x9 + \n    x10, data = databaru)\n\nResiduals:\n     Min       1Q   Median       3Q      Max \n-25.2583  -3.0392   0.2959   3.3746  28.1388 \n\nCoefficients:\n              Estimate Std. Error t value Pr(>|t|)    \n(Intercept) 39.4871674  0.8570077  46.076  < 2e-16 ***\nx1           0.0028581  0.0008491   3.366 0.000766 ***\nx2          -0.0094867  0.0006584 -14.409  < 2e-16 ***\nx3          -0.0076665  0.0004108 -18.660  < 2e-16 ***\nx4           1.2646904  0.0053155 237.927  < 2e-16 ***\nx5          -0.0558128  0.0006369 -87.634  < 2e-16 ***\nx6           0.0020752  0.0004475   4.638 3.57e-06 ***\nx7          -0.0160390  0.0003748 -42.798  < 2e-16 ***\nx8          -0.0051878  0.0007939  -6.535 6.70e-11 ***\nx9           0.0210593  0.0002698  78.061  < 2e-16 ***\nx10         -0.0013970  0.0003406  -4.102 4.13e-05 ***\n---\nSignif. codes:  0 ‘***’ 0.001 ‘**’ 0.01 ‘*’ 0.05 ‘.’ 0.1 ‘ ’ 1\n\nResidual standard error: 4.631 on 9346 degrees of freedom\nMultiple R-squared:  0.987,\tAdjusted R-squared:  0.9869 \nF-statistic: 7.074e+04 on 10 and 9346 DF,  p-value: < 2.2e-16\n\n"
     },
     "metadata": {},
     "output_type": "display_data"
    }
   ]
  },
  {
   "cell_type": "markdown",
   "source": "#### Residualnya",
   "metadata": {
    "cell_id": "dfadf6fa48044627ac1f564773fbb557",
    "tags": [],
    "deepnote_cell_type": "markdown",
    "deepnote_cell_height": 54
   }
  },
  {
   "cell_type": "code",
   "metadata": {
    "cell_id": "5b39fc81615f4d12a843ad7af378b8a9",
    "tags": [],
    "deepnote_to_be_reexecuted": false,
    "source_hash": "63d6566e",
    "execution_start": 1651561551871,
    "execution_millis": 2,
    "deepnote_cell_type": "code",
    "deepnote_cell_height": 345,
    "deepnote_output_heights": [
     248
    ]
   },
   "source": "head(resid(mmr))",
   "execution_count": null,
   "outputs": [
    {
     "data": {
      "text/html": "<table class=\"dataframe\">\n<caption>A matrix: 6 × 3 of type dbl</caption>\n<thead>\n\t<tr><th></th><th scope=col>T</th><th scope=col>RH</th><th scope=col>AH</th></tr>\n</thead>\n<tbody>\n\t<tr><th scope=row>1</th><td>1.755275</td><td>0.5362015</td><td>1.963428</td></tr>\n\t<tr><th scope=row>2</th><td>1.154520</td><td>4.8925357</td><td>3.380947</td></tr>\n\t<tr><th scope=row>3</th><td>2.352900</td><td>2.9062604</td><td>3.614916</td></tr>\n\t<tr><th scope=row>4</th><td>1.691391</td><td>5.2473381</td><td>2.348851</td></tr>\n\t<tr><th scope=row>5</th><td>2.339903</td><td>3.3221514</td><td>2.023368</td></tr>\n\t<tr><th scope=row>6</th><td>2.671187</td><td>3.8953512</td><td>2.604271</td></tr>\n</tbody>\n</table>\n",
      "text/markdown": "\nA matrix: 6 × 3 of type dbl\n\n| <!--/--> | T | RH | AH |\n|---|---|---|---|\n| 1 | 1.755275 | 0.5362015 | 1.963428 |\n| 2 | 1.154520 | 4.8925357 | 3.380947 |\n| 3 | 2.352900 | 2.9062604 | 3.614916 |\n| 4 | 1.691391 | 5.2473381 | 2.348851 |\n| 5 | 2.339903 | 3.3221514 | 2.023368 |\n| 6 | 2.671187 | 3.8953512 | 2.604271 |\n\n",
      "text/latex": "A matrix: 6 × 3 of type dbl\n\\begin{tabular}{r|lll}\n  & T & RH & AH\\\\\n\\hline\n\t1 & 1.755275 & 0.5362015 & 1.963428\\\\\n\t2 & 1.154520 & 4.8925357 & 3.380947\\\\\n\t3 & 2.352900 & 2.9062604 & 3.614916\\\\\n\t4 & 1.691391 & 5.2473381 & 2.348851\\\\\n\t5 & 2.339903 & 3.3221514 & 2.023368\\\\\n\t6 & 2.671187 & 3.8953512 & 2.604271\\\\\n\\end{tabular}\n",
      "text/plain": "  T        RH        AH      \n1 1.755275 0.5362015 1.963428\n2 1.154520 4.8925357 3.380947\n3 2.352900 2.9062604 3.614916\n4 1.691391 5.2473381 2.348851\n5 2.339903 3.3221514 2.023368\n6 2.671187 3.8953512 2.604271"
     },
     "metadata": {},
     "output_type": "display_data"
    }
   ]
  },
  {
   "cell_type": "markdown",
   "source": "#### Estimasi",
   "metadata": {
    "cell_id": "fbd7f845ef91482996809debd419a494",
    "tags": [],
    "deepnote_cell_type": "markdown",
    "deepnote_cell_height": 54
   }
  },
  {
   "cell_type": "code",
   "metadata": {
    "cell_id": "1e9a5eb71898437187827d6363aee715",
    "tags": [],
    "deepnote_to_be_reexecuted": false,
    "source_hash": "a185a38f",
    "execution_start": 1651561551871,
    "execution_millis": 45,
    "deepnote_cell_type": "code",
    "deepnote_cell_height": 345,
    "deepnote_output_heights": [
     248
    ]
   },
   "source": "head(fitted(mmr))",
   "execution_count": null,
   "outputs": [
    {
     "data": {
      "text/html": "<table class=\"dataframe\">\n<caption>A matrix: 6 × 3 of type dbl</caption>\n<thead>\n\t<tr><th></th><th scope=col>T</th><th scope=col>RH</th><th scope=col>AH</th></tr>\n</thead>\n<tbody>\n\t<tr><th scope=row>1</th><td>11.844725</td><td>48.36380</td><td>-1.205628</td></tr>\n\t<tr><th scope=row>2</th><td>12.145480</td><td>42.80746</td><td>-2.655447</td></tr>\n\t<tr><th scope=row>3</th><td> 9.547100</td><td>51.09374</td><td>-2.864716</td></tr>\n\t<tr><th scope=row>4</th><td> 9.308609</td><td>54.75266</td><td>-1.562151</td></tr>\n\t<tr><th scope=row>5</th><td> 8.860097</td><td>56.27785</td><td>-1.234568</td></tr>\n\t<tr><th scope=row>6</th><td> 8.528813</td><td>55.30465</td><td>-1.819471</td></tr>\n</tbody>\n</table>\n",
      "text/markdown": "\nA matrix: 6 × 3 of type dbl\n\n| <!--/--> | T | RH | AH |\n|---|---|---|---|\n| 1 | 11.844725 | 48.36380 | -1.205628 |\n| 2 | 12.145480 | 42.80746 | -2.655447 |\n| 3 |  9.547100 | 51.09374 | -2.864716 |\n| 4 |  9.308609 | 54.75266 | -1.562151 |\n| 5 |  8.860097 | 56.27785 | -1.234568 |\n| 6 |  8.528813 | 55.30465 | -1.819471 |\n\n",
      "text/latex": "A matrix: 6 × 3 of type dbl\n\\begin{tabular}{r|lll}\n  & T & RH & AH\\\\\n\\hline\n\t1 & 11.844725 & 48.36380 & -1.205628\\\\\n\t2 & 12.145480 & 42.80746 & -2.655447\\\\\n\t3 &  9.547100 & 51.09374 & -2.864716\\\\\n\t4 &  9.308609 & 54.75266 & -1.562151\\\\\n\t5 &  8.860097 & 56.27785 & -1.234568\\\\\n\t6 &  8.528813 & 55.30465 & -1.819471\\\\\n\\end{tabular}\n",
      "text/plain": "  T         RH       AH       \n1 11.844725 48.36380 -1.205628\n2 12.145480 42.80746 -2.655447\n3  9.547100 51.09374 -2.864716\n4  9.308609 54.75266 -1.562151\n5  8.860097 56.27785 -1.234568\n6  8.528813 55.30465 -1.819471"
     },
     "metadata": {},
     "output_type": "display_data"
    }
   ]
  },
  {
   "cell_type": "markdown",
   "source": "#### Koefisien",
   "metadata": {
    "cell_id": "9c1844bbfba04f8bafe2e738d740e541",
    "tags": [],
    "deepnote_cell_type": "markdown",
    "deepnote_cell_height": 54
   }
  },
  {
   "cell_type": "code",
   "metadata": {
    "cell_id": "bf6f4058184240a086084f7cc26be080",
    "tags": [],
    "deepnote_to_be_reexecuted": false,
    "source_hash": "e2a9170a",
    "execution_start": 1651561551915,
    "execution_millis": 14,
    "deepnote_cell_type": "code",
    "deepnote_cell_height": 490,
    "deepnote_output_heights": [
     393
    ]
   },
   "source": "coef(mmr)",
   "execution_count": null,
   "outputs": [
    {
     "data": {
      "text/html": "<table class=\"dataframe\">\n<caption>A matrix: 11 × 3 of type dbl</caption>\n<thead>\n\t<tr><th></th><th scope=col>T</th><th scope=col>RH</th><th scope=col>AH</th></tr>\n</thead>\n<tbody>\n\t<tr><th scope=row>(Intercept)</th><td>35.6444865770</td><td>96.719944192</td><td>39.487167422</td></tr>\n\t<tr><th scope=row>x1</th><td> 0.0008322109</td><td> 0.005210537</td><td> 0.002858105</td></tr>\n\t<tr><th scope=row>x2</th><td>-0.0170039225</td><td> 0.036472604</td><td>-0.009486662</td></tr>\n\t<tr><th scope=row>x3</th><td>-0.0091767436</td><td> 0.001982268</td><td>-0.007666547</td></tr>\n\t<tr><th scope=row>x4</th><td> 1.2135694341</td><td> 1.603239361</td><td> 1.264690443</td></tr>\n\t<tr><th scope=row>x5</th><td>-0.0211481784</td><td>-0.156250185</td><td>-0.055812830</td></tr>\n\t<tr><th scope=row>x6</th><td>-0.0146950583</td><td> 0.044230735</td><td> 0.002075184</td></tr>\n\t<tr><th scope=row>x7</th><td>-0.0107328279</td><td>-0.019217104</td><td>-0.016039014</td></tr>\n\t<tr><th scope=row>x8</th><td> 0.0228457374</td><td>-0.074058443</td><td>-0.005187818</td></tr>\n\t<tr><th scope=row>x9</th><td> 0.0202108948</td><td> 0.023003289</td><td> 0.021059334</td></tr>\n\t<tr><th scope=row>x10</th><td>-0.0115344776</td><td> 0.022466379</td><td>-0.001397027</td></tr>\n</tbody>\n</table>\n",
      "text/markdown": "\nA matrix: 11 × 3 of type dbl\n\n| <!--/--> | T | RH | AH |\n|---|---|---|---|\n| (Intercept) | 35.6444865770 | 96.719944192 | 39.487167422 |\n| x1 |  0.0008322109 |  0.005210537 |  0.002858105 |\n| x2 | -0.0170039225 |  0.036472604 | -0.009486662 |\n| x3 | -0.0091767436 |  0.001982268 | -0.007666547 |\n| x4 |  1.2135694341 |  1.603239361 |  1.264690443 |\n| x5 | -0.0211481784 | -0.156250185 | -0.055812830 |\n| x6 | -0.0146950583 |  0.044230735 |  0.002075184 |\n| x7 | -0.0107328279 | -0.019217104 | -0.016039014 |\n| x8 |  0.0228457374 | -0.074058443 | -0.005187818 |\n| x9 |  0.0202108948 |  0.023003289 |  0.021059334 |\n| x10 | -0.0115344776 |  0.022466379 | -0.001397027 |\n\n",
      "text/latex": "A matrix: 11 × 3 of type dbl\n\\begin{tabular}{r|lll}\n  & T & RH & AH\\\\\n\\hline\n\t(Intercept) & 35.6444865770 & 96.719944192 & 39.487167422\\\\\n\tx1 &  0.0008322109 &  0.005210537 &  0.002858105\\\\\n\tx2 & -0.0170039225 &  0.036472604 & -0.009486662\\\\\n\tx3 & -0.0091767436 &  0.001982268 & -0.007666547\\\\\n\tx4 &  1.2135694341 &  1.603239361 &  1.264690443\\\\\n\tx5 & -0.0211481784 & -0.156250185 & -0.055812830\\\\\n\tx6 & -0.0146950583 &  0.044230735 &  0.002075184\\\\\n\tx7 & -0.0107328279 & -0.019217104 & -0.016039014\\\\\n\tx8 &  0.0228457374 & -0.074058443 & -0.005187818\\\\\n\tx9 &  0.0202108948 &  0.023003289 &  0.021059334\\\\\n\tx10 & -0.0115344776 &  0.022466379 & -0.001397027\\\\\n\\end{tabular}\n",
      "text/plain": "            T             RH           AH          \n(Intercept) 35.6444865770 96.719944192 39.487167422\nx1           0.0008322109  0.005210537  0.002858105\nx2          -0.0170039225  0.036472604 -0.009486662\nx3          -0.0091767436  0.001982268 -0.007666547\nx4           1.2135694341  1.603239361  1.264690443\nx5          -0.0211481784 -0.156250185 -0.055812830\nx6          -0.0146950583  0.044230735  0.002075184\nx7          -0.0107328279 -0.019217104 -0.016039014\nx8           0.0228457374 -0.074058443 -0.005187818\nx9           0.0202108948  0.023003289  0.021059334\nx10         -0.0115344776  0.022466379 -0.001397027"
     },
     "metadata": {},
     "output_type": "display_data"
    }
   ]
  },
  {
   "cell_type": "markdown",
   "source": "#### Variansi-Kovariansi Matrix",
   "metadata": {
    "cell_id": "691ff4e474c24e888521048469fc12b4",
    "tags": [],
    "deepnote_cell_type": "markdown",
    "deepnote_cell_height": 54
   }
  },
  {
   "cell_type": "code",
   "metadata": {
    "cell_id": "2bf9abea0830457798b49db213d60e1c",
    "tags": [],
    "deepnote_to_be_reexecuted": false,
    "source_hash": "27f8b083",
    "execution_start": 1651561551979,
    "execution_millis": 2,
    "deepnote_cell_type": "code",
    "deepnote_cell_height": 126.1875,
    "deepnote_output_heights": [
     29.1875
    ]
   },
   "source": "sigma(mmr)",
   "execution_count": null,
   "outputs": [
    {
     "data": {
      "text/html": "<style>\n.dl-inline {width: auto; margin:0; padding: 0}\n.dl-inline>dt, .dl-inline>dd {float: none; width: auto; display: inline-block}\n.dl-inline>dt::after {content: \":\\0020\"; padding-right: .5ex}\n.dl-inline>dt:not(:first-of-type) {padding-left: .5ex}\n</style><dl class=dl-inline><dt>T</dt><dd>5.81708980572631</dd><dt>RH</dt><dd>13.0927270358662</dd><dt>AH</dt><dd>4.63095158598535</dd></dl>\n",
      "text/markdown": "T\n:   5.81708980572631RH\n:   13.0927270358662AH\n:   4.63095158598535\n\n",
      "text/latex": "\\begin{description*}\n\\item[T] 5.81708980572631\n\\item[RH] 13.0927270358662\n\\item[AH] 4.63095158598535\n\\end{description*}\n",
      "text/plain": "        T        RH        AH \n 5.817090 13.092727  4.630952 "
     },
     "metadata": {},
     "output_type": "display_data"
    }
   ]
  },
  {
   "cell_type": "code",
   "metadata": {
    "cell_id": "dd14d1bc1e564fd885eb851cc885ac2e",
    "tags": [],
    "deepnote_to_be_reexecuted": false,
    "source_hash": "daff0272",
    "execution_start": 1651561551980,
    "execution_millis": 97,
    "deepnote_cell_type": "code",
    "deepnote_cell_height": 704,
    "deepnote_output_heights": [
     607
    ]
   },
   "source": "vcov(mmr)",
   "execution_count": null,
   "outputs": [
    {
     "data": {
      "text/html": "<table class=\"dataframe\">\n<caption>A matrix: 33 × 33 of type dbl</caption>\n<thead>\n\t<tr><th></th><th scope=col>T:(Intercept)</th><th scope=col>T:x1</th><th scope=col>T:x2</th><th scope=col>T:x3</th><th scope=col>T:x4</th><th scope=col>T:x5</th><th scope=col>T:x6</th><th scope=col>T:x7</th><th scope=col>T:x8</th><th scope=col>T:x9</th><th scope=col>⋯</th><th scope=col>AH:x1</th><th scope=col>AH:x2</th><th scope=col>AH:x3</th><th scope=col>AH:x4</th><th scope=col>AH:x5</th><th scope=col>AH:x6</th><th scope=col>AH:x7</th><th scope=col>AH:x8</th><th scope=col>AH:x9</th><th scope=col>AH:x10</th></tr>\n</thead>\n<tbody>\n\t<tr><th scope=row>T:(Intercept)</th><td> 1.158885e+00</td><td> 1.591840e-05</td><td>-5.390961e-04</td><td> 3.002965e-04</td><td> 6.930255e-03</td><td>-3.068775e-04</td><td> 1.369892e-04</td><td>-4.326129e-04</td><td>-2.011919e-04</td><td> 1.690394e-05</td><td>⋯</td><td> 3.655836e-06</td><td>-1.238093e-04</td><td> 6.896638e-05</td><td> 1.591609e-03</td><td>-7.047778e-05</td><td> 3.146106e-05</td><td>-9.935430e-05</td><td>-4.620594e-05</td><td> 3.882175e-06</td><td> 6.868042e-06</td></tr>\n\t<tr><th scope=row>T:x1</th><td> 1.591840e-05</td><td> 1.137701e-06</td><td> 5.034156e-09</td><td>-5.191252e-08</td><td>-3.034643e-07</td><td> 6.075872e-08</td><td>-4.646136e-08</td><td>-3.782561e-09</td><td>-4.299766e-07</td><td>-1.389970e-08</td><td>⋯</td><td> 2.612855e-07</td><td> 1.156149e-09</td><td>-1.192228e-08</td><td>-6.969390e-08</td><td> 1.395391e-08</td><td>-1.067036e-08</td><td>-8.687065e-10</td><td>-9.874885e-08</td><td>-3.192219e-09</td><td> 2.557118e-09</td></tr>\n\t<tr><th scope=row>T:x2</th><td>-5.390961e-04</td><td> 5.034156e-09</td><td> 6.839756e-07</td><td>-1.664006e-07</td><td>-3.149216e-06</td><td>-4.404109e-08</td><td>-7.119228e-08</td><td> 8.984970e-08</td><td> 7.176172e-08</td><td>-4.775214e-08</td><td>⋯</td><td> 1.156149e-09</td><td> 1.570825e-07</td><td>-3.821573e-08</td><td>-7.232521e-07</td><td>-1.011452e-08</td><td>-1.635009e-08</td><td> 2.063497e-08</td><td> 1.648086e-08</td><td>-1.096680e-08</td><td>-3.687628e-08</td></tr>\n\t<tr><th scope=row>T:x3</th><td> 3.002965e-04</td><td>-5.191252e-08</td><td>-1.664006e-07</td><td> 2.663391e-07</td><td> 1.620236e-06</td><td>-3.459387e-08</td><td> 7.488221e-08</td><td>-8.284048e-08</td><td>-1.054699e-07</td><td>-3.914123e-09</td><td>⋯</td><td>-1.192228e-08</td><td>-3.821573e-08</td><td> 6.116769e-08</td><td> 3.721049e-07</td><td>-7.944861e-09</td><td> 1.719752e-08</td><td>-1.902522e-08</td><td>-2.422232e-08</td><td>-8.989212e-10</td><td> 1.787046e-09</td></tr>\n\t<tr><th scope=row>T:x4</th><td> 6.930255e-03</td><td>-3.034643e-07</td><td>-3.149216e-06</td><td> 1.620236e-06</td><td> 4.458139e-05</td><td>-2.203184e-06</td><td> 1.084191e-06</td><td>-2.618802e-06</td><td>-1.177694e-06</td><td> 2.583364e-07</td><td>⋯</td><td>-6.969390e-08</td><td>-7.232521e-07</td><td> 3.721049e-07</td><td> 1.023860e-05</td><td>-5.059854e-07</td><td> 2.489964e-07</td><td>-6.014366e-07</td><td>-2.704704e-07</td><td> 5.932979e-08</td><td> 2.744624e-08</td></tr>\n\t<tr><th scope=row>T:x5</th><td>-3.068775e-04</td><td> 6.075872e-08</td><td>-4.404109e-08</td><td>-3.459387e-08</td><td>-2.203184e-06</td><td> 6.400215e-07</td><td>-1.108389e-07</td><td> 1.657579e-07</td><td> 6.138940e-08</td><td>-1.647844e-07</td><td>⋯</td><td> 1.395391e-08</td><td>-1.011452e-08</td><td>-7.944861e-09</td><td>-5.059854e-07</td><td> 1.469880e-07</td><td>-2.545537e-08</td><td> 3.806812e-08</td><td> 1.409875e-08</td><td>-3.784455e-08</td><td>-2.500433e-08</td></tr>\n\t<tr><th scope=row>T:x6</th><td> 1.369892e-04</td><td>-4.646136e-08</td><td>-7.119228e-08</td><td> 7.488221e-08</td><td> 1.084191e-06</td><td>-1.108389e-07</td><td> 3.159309e-07</td><td>-3.260812e-08</td><td>-3.983594e-07</td><td> 6.434196e-08</td><td>⋯</td><td>-1.067036e-08</td><td>-1.635009e-08</td><td> 1.719752e-08</td><td> 2.489964e-07</td><td>-2.545537e-08</td><td> 7.255699e-08</td><td>-7.488813e-09</td><td>-9.148761e-08</td><td> 1.477684e-08</td><td>-1.143905e-08</td></tr>\n\t<tr><th scope=row>T:x7</th><td>-4.326129e-04</td><td>-3.782561e-09</td><td> 8.984970e-08</td><td>-8.284048e-08</td><td>-2.618802e-06</td><td> 1.657579e-07</td><td>-3.260812e-08</td><td> 2.216048e-07</td><td> 5.086086e-08</td><td>-1.911481e-08</td><td>⋯</td><td>-8.687065e-10</td><td> 2.063497e-08</td><td>-1.902522e-08</td><td>-6.014366e-07</td><td> 3.806812e-08</td><td>-7.488813e-09</td><td> 5.089397e-08</td><td> 1.168075e-08</td><td>-4.389925e-09</td><td> 8.153560e-09</td></tr>\n\t<tr><th scope=row>T:x8</th><td>-2.011919e-04</td><td>-4.299766e-07</td><td> 7.176172e-08</td><td>-1.054699e-07</td><td>-1.177694e-06</td><td> 6.138940e-08</td><td>-3.983594e-07</td><td> 5.086086e-08</td><td> 9.944209e-07</td><td>-2.867322e-08</td><td>⋯</td><td>-9.874885e-08</td><td> 1.648086e-08</td><td>-2.422232e-08</td><td>-2.704704e-07</td><td> 1.409875e-08</td><td>-9.148761e-08</td><td> 1.168075e-08</td><td> 2.283797e-07</td><td>-6.585120e-09</td><td> 1.189804e-08</td></tr>\n\t<tr><th scope=row>T:x9</th><td> 1.690394e-05</td><td>-1.389970e-08</td><td>-4.775214e-08</td><td>-3.914123e-09</td><td> 2.583364e-07</td><td>-1.647844e-07</td><td> 6.434196e-08</td><td>-1.911481e-08</td><td>-2.867322e-08</td><td> 1.148387e-07</td><td>⋯</td><td>-3.192219e-09</td><td>-1.096680e-08</td><td>-8.989212e-10</td><td> 5.932979e-08</td><td>-3.784455e-08</td><td> 1.477684e-08</td><td>-4.389925e-09</td><td>-6.585120e-09</td><td> 2.637396e-08</td><td> 5.945156e-09</td></tr>\n\t<tr><th scope=row>T:x10</th><td> 2.990513e-05</td><td> 1.113432e-08</td><td>-1.605684e-07</td><td> 7.781236e-09</td><td> 1.195076e-07</td><td>-1.088750e-07</td><td>-4.980843e-08</td><td> 3.550259e-08</td><td> 5.180698e-08</td><td> 2.588666e-08</td><td>⋯</td><td> 2.557118e-09</td><td>-3.687628e-08</td><td> 1.787046e-09</td><td> 2.744624e-08</td><td>-2.500433e-08</td><td>-1.143905e-08</td><td> 8.153560e-09</td><td> 1.189804e-08</td><td> 5.945156e-09</td><td> 4.203437e-08</td></tr>\n\t<tr><th scope=row>RH:(Intercept)</th><td>-1.774612e+00</td><td>-2.437600e-05</td><td> 8.255229e-04</td><td>-4.598468e-04</td><td>-1.061236e-02</td><td> 4.699244e-04</td><td>-2.097728e-04</td><td> 6.624642e-04</td><td> 3.080871e-04</td><td>-2.588516e-05</td><td>⋯</td><td> 1.759280e-06</td><td>-5.958017e-05</td><td> 3.318836e-05</td><td> 7.659223e-04</td><td>-3.391568e-05</td><td> 1.513986e-05</td><td>-4.781179e-05</td><td>-2.223546e-05</td><td> 1.868200e-06</td><td> 3.305075e-06</td></tr>\n\t<tr><th scope=row>RH:x1</th><td>-2.437600e-05</td><td>-1.742172e-06</td><td>-7.708850e-09</td><td> 7.949413e-08</td><td> 4.646977e-07</td><td>-9.304041e-08</td><td> 7.114671e-08</td><td> 5.792271e-09</td><td> 6.584273e-07</td><td> 2.128474e-08</td><td>⋯</td><td> 1.257372e-07</td><td> 5.563680e-10</td><td>-5.737301e-09</td><td>-3.353846e-08</td><td> 6.714972e-09</td><td>-5.134846e-09</td><td>-4.180435e-10</td><td>-4.752043e-08</td><td>-1.536176e-09</td><td> 1.230550e-09</td></tr>\n\t<tr><th scope=row>RH:x2</th><td> 8.255229e-04</td><td>-7.708850e-09</td><td>-1.047378e-06</td><td> 2.548109e-07</td><td> 4.822425e-06</td><td> 6.744053e-08</td><td> 1.090174e-07</td><td>-1.375877e-07</td><td>-1.098894e-07</td><td> 7.312331e-08</td><td>⋯</td><td> 5.563680e-10</td><td> 7.559205e-08</td><td>-1.839037e-08</td><td>-3.480471e-07</td><td>-4.867361e-09</td><td>-7.868074e-09</td><td> 9.930067e-09</td><td> 7.931007e-09</td><td>-5.277502e-09</td><td>-1.774580e-08</td></tr>\n\t<tr><th scope=row>RH:x3</th><td>-4.598468e-04</td><td> 7.949413e-08</td><td> 2.548109e-07</td><td>-4.078476e-07</td><td>-2.481082e-06</td><td> 5.297391e-08</td><td>-1.146678e-07</td><td> 1.268544e-07</td><td> 1.615070e-07</td><td> 5.993733e-09</td><td>⋯</td><td>-5.737301e-09</td><td>-1.839037e-08</td><td> 2.943543e-08</td><td> 1.790662e-07</td><td>-3.823267e-09</td><td> 8.275880e-09</td><td>-9.155417e-09</td><td>-1.165639e-08</td><td>-4.325835e-10</td><td> 8.599716e-10</td></tr>\n\t<tr><th scope=row>RH:x4</th><td>-1.061236e-02</td><td> 4.646977e-07</td><td> 4.822425e-06</td><td>-2.481082e-06</td><td>-6.826790e-05</td><td> 3.373757e-06</td><td>-1.660232e-06</td><td> 4.010196e-06</td><td> 1.803414e-06</td><td>-3.955930e-07</td><td>⋯</td><td>-3.353846e-08</td><td>-3.480471e-07</td><td> 1.790662e-07</td><td> 4.927074e-06</td><td>-2.434929e-07</td><td> 1.198234e-07</td><td>-2.894264e-07</td><td>-1.301572e-07</td><td> 2.855099e-08</td><td> 1.320782e-08</td></tr>\n\t<tr><th scope=row>RH:x5</th><td> 4.699244e-04</td><td>-9.304041e-08</td><td> 6.744053e-08</td><td> 5.297391e-08</td><td> 3.373757e-06</td><td>-9.800710e-07</td><td> 1.697287e-07</td><td>-2.538267e-07</td><td>-9.400616e-08</td><td> 2.523359e-07</td><td>⋯</td><td> 6.714972e-09</td><td>-4.867361e-09</td><td>-3.823267e-09</td><td>-2.434929e-07</td><td> 7.073431e-08</td><td>-1.224977e-08</td><td> 1.831934e-08</td><td> 6.784673e-09</td><td>-1.821175e-08</td><td>-1.203271e-08</td></tr>\n\t<tr><th scope=row>RH:x6</th><td>-2.097728e-04</td><td> 7.114671e-08</td><td> 1.090174e-07</td><td>-1.146678e-07</td><td>-1.660232e-06</td><td> 1.697287e-07</td><td>-4.837880e-07</td><td> 4.993312e-08</td><td> 6.100115e-07</td><td>-9.852744e-08</td><td>⋯</td><td>-5.134846e-09</td><td>-7.868074e-09</td><td> 8.275880e-09</td><td> 1.198234e-07</td><td>-1.224977e-08</td><td> 3.491625e-08</td><td>-3.603805e-09</td><td>-4.402614e-08</td><td> 7.110985e-09</td><td>-5.504760e-09</td></tr>\n\t<tr><th scope=row>RH:x7</th><td> 6.624642e-04</td><td> 5.792271e-09</td><td>-1.375877e-07</td><td> 1.268544e-07</td><td> 4.010196e-06</td><td>-2.538267e-07</td><td> 4.993312e-08</td><td>-3.393455e-07</td><td>-7.788371e-08</td><td> 2.927069e-08</td><td>⋯</td><td>-4.180435e-10</td><td> 9.930067e-09</td><td>-9.155417e-09</td><td>-2.894264e-07</td><td> 1.831934e-08</td><td>-3.603805e-09</td><td> 2.449146e-08</td><td> 5.621073e-09</td><td>-2.112543e-09</td><td> 3.923698e-09</td></tr>\n\t<tr><th scope=row>RH:x8</th><td> 3.080871e-04</td><td> 6.584273e-07</td><td>-1.098894e-07</td><td> 1.615070e-07</td><td> 1.803414e-06</td><td>-9.400616e-08</td><td> 6.100115e-07</td><td>-7.788371e-08</td><td>-1.522766e-06</td><td> 4.390758e-08</td><td>⋯</td><td>-4.752043e-08</td><td> 7.931007e-09</td><td>-1.165639e-08</td><td>-1.301572e-07</td><td> 6.784673e-09</td><td>-4.402614e-08</td><td> 5.621073e-09</td><td> 1.099020e-07</td><td>-3.168926e-09</td><td> 5.725637e-09</td></tr>\n\t<tr><th scope=row>RH:x9</th><td>-2.588516e-05</td><td> 2.128474e-08</td><td> 7.312331e-08</td><td> 5.993733e-09</td><td>-3.955930e-07</td><td> 2.523359e-07</td><td>-9.852744e-08</td><td> 2.927069e-08</td><td> 4.390758e-08</td><td>-1.758536e-07</td><td>⋯</td><td>-1.536176e-09</td><td>-5.277502e-09</td><td>-4.325835e-10</td><td> 2.855099e-08</td><td>-1.821175e-08</td><td> 7.110985e-09</td><td>-2.112543e-09</td><td>-3.168926e-09</td><td> 1.269181e-08</td><td> 2.860959e-09</td></tr>\n\t<tr><th scope=row>RH:x10</th><td>-4.579401e-05</td><td>-1.705008e-08</td><td> 2.458798e-07</td><td>-1.191548e-08</td><td>-1.830032e-07</td><td> 1.667213e-07</td><td> 7.627211e-08</td><td>-5.436546e-08</td><td>-7.933251e-08</td><td>-3.964049e-08</td><td>⋯</td><td> 1.230550e-09</td><td>-1.774580e-08</td><td> 8.599716e-10</td><td> 1.320782e-08</td><td>-1.203271e-08</td><td>-5.504760e-09</td><td> 3.923698e-09</td><td> 5.725637e-09</td><td> 2.860959e-09</td><td> 2.022800e-08</td></tr>\n\t<tr><th scope=row>AH:(Intercept)</th><td> 2.661507e-01</td><td> 3.655836e-06</td><td>-1.238093e-04</td><td> 6.896638e-05</td><td> 1.591609e-03</td><td>-7.047778e-05</td><td> 3.146106e-05</td><td>-9.935430e-05</td><td>-4.620594e-05</td><td> 3.882175e-06</td><td>⋯</td><td> 1.008854e-05</td><td>-3.416608e-04</td><td> 1.903177e-04</td><td> 4.392160e-03</td><td>-1.944885e-04</td><td> 8.681908e-05</td><td>-2.741754e-04</td><td>-1.275086e-04</td><td> 1.071314e-05</td><td> 1.895286e-05</td></tr>\n\t<tr><th scope=row>AH:x1</th><td> 3.655836e-06</td><td> 2.612855e-07</td><td> 1.156149e-09</td><td>-1.192228e-08</td><td>-6.969390e-08</td><td> 1.395391e-08</td><td>-1.067036e-08</td><td>-8.687065e-10</td><td>-9.874885e-08</td><td>-3.192219e-09</td><td>⋯</td><td> 7.210362e-07</td><td> 3.190477e-09</td><td>-3.290039e-08</td><td>-1.923253e-07</td><td> 3.850681e-08</td><td>-2.944563e-08</td><td>-2.397258e-09</td><td>-2.725046e-07</td><td>-8.809158e-09</td><td> 7.056551e-09</td></tr>\n\t<tr><th scope=row>AH:x2</th><td>-1.238093e-04</td><td> 1.156149e-09</td><td> 1.570825e-07</td><td>-3.821573e-08</td><td>-7.232521e-07</td><td>-1.011452e-08</td><td>-1.635009e-08</td><td> 2.063497e-08</td><td> 1.648086e-08</td><td>-1.096680e-08</td><td>⋯</td><td> 3.190477e-09</td><td> 4.334805e-07</td><td>-1.054591e-07</td><td>-1.995866e-06</td><td>-2.791174e-08</td><td>-4.511925e-08</td><td> 5.694369e-08</td><td> 4.548014e-08</td><td>-3.026369e-08</td><td>-1.017628e-07</td></tr>\n\t<tr><th scope=row>AH:x3</th><td> 6.896638e-05</td><td>-1.192228e-08</td><td>-3.821573e-08</td><td> 6.116769e-08</td><td> 3.721049e-07</td><td>-7.944861e-09</td><td> 1.719752e-08</td><td>-1.902522e-08</td><td>-2.422232e-08</td><td>-8.989212e-10</td><td>⋯</td><td>-3.290039e-08</td><td>-1.054591e-07</td><td> 1.687967e-07</td><td> 1.026850e-06</td><td>-2.192442e-08</td><td> 4.745780e-08</td><td>-5.250148e-08</td><td>-6.684324e-08</td><td>-2.480638e-09</td><td> 4.931483e-09</td></tr>\n\t<tr><th scope=row>AH:x4</th><td> 1.591609e-03</td><td>-6.969390e-08</td><td>-7.232521e-07</td><td> 3.721049e-07</td><td> 1.023860e-05</td><td>-5.059854e-07</td><td> 2.489964e-07</td><td>-6.014366e-07</td><td>-2.704704e-07</td><td> 5.932979e-08</td><td>⋯</td><td>-1.923253e-07</td><td>-1.995866e-06</td><td> 1.026850e-06</td><td> 2.825417e-05</td><td>-1.396303e-06</td><td> 6.871236e-07</td><td>-1.659708e-06</td><td>-7.463825e-07</td><td> 1.637248e-07</td><td> 7.573988e-08</td></tr>\n\t<tr><th scope=row>AH:x5</th><td>-7.047778e-05</td><td> 1.395391e-08</td><td>-1.011452e-08</td><td>-7.944861e-09</td><td>-5.059854e-07</td><td> 1.469880e-07</td><td>-2.545537e-08</td><td> 3.806812e-08</td><td> 1.409875e-08</td><td>-3.784455e-08</td><td>⋯</td><td> 3.850681e-08</td><td>-2.791174e-08</td><td>-2.192442e-08</td><td>-1.396303e-06</td><td> 4.056239e-07</td><td>-7.024594e-08</td><td> 1.050517e-07</td><td> 3.890651e-08</td><td>-1.044348e-07</td><td>-6.900126e-08</td></tr>\n\t<tr><th scope=row>AH:x6</th><td> 3.146106e-05</td><td>-1.067036e-08</td><td>-1.635009e-08</td><td> 1.719752e-08</td><td> 2.489964e-07</td><td>-2.545537e-08</td><td> 7.255699e-08</td><td>-7.488813e-09</td><td>-9.148761e-08</td><td> 1.477684e-08</td><td>⋯</td><td>-2.944563e-08</td><td>-4.511925e-08</td><td> 4.745780e-08</td><td> 6.871236e-07</td><td>-7.024594e-08</td><td> 2.002263e-07</td><td>-2.066592e-08</td><td>-2.524667e-07</td><td> 4.077774e-08</td><td>-3.156689e-08</td></tr>\n\t<tr><th scope=row>AH:x7</th><td>-9.935430e-05</td><td>-8.687065e-10</td><td> 2.063497e-08</td><td>-1.902522e-08</td><td>-6.014366e-07</td><td> 3.806812e-08</td><td>-7.488813e-09</td><td> 5.089397e-08</td><td> 1.168075e-08</td><td>-4.389925e-09</td><td>⋯</td><td>-2.397258e-09</td><td> 5.694369e-08</td><td>-5.250148e-08</td><td>-1.659708e-06</td><td> 1.050517e-07</td><td>-2.066592e-08</td><td> 1.404456e-07</td><td> 3.223388e-08</td><td>-1.211432e-08</td><td> 2.250034e-08</td></tr>\n\t<tr><th scope=row>AH:x8</th><td>-4.620594e-05</td><td>-9.874885e-08</td><td> 1.648086e-08</td><td>-2.422232e-08</td><td>-2.704704e-07</td><td> 1.409875e-08</td><td>-9.148761e-08</td><td> 1.168075e-08</td><td> 2.283797e-07</td><td>-6.585120e-09</td><td>⋯</td><td>-2.725046e-07</td><td> 4.548014e-08</td><td>-6.684324e-08</td><td>-7.463825e-07</td><td> 3.890651e-08</td><td>-2.524667e-07</td><td> 3.223388e-08</td><td> 6.302301e-07</td><td>-1.817211e-08</td><td> 3.283350e-08</td></tr>\n\t<tr><th scope=row>AH:x9</th><td> 3.882175e-06</td><td>-3.192219e-09</td><td>-1.096680e-08</td><td>-8.989212e-10</td><td> 5.932979e-08</td><td>-3.784455e-08</td><td> 1.477684e-08</td><td>-4.389925e-09</td><td>-6.585120e-09</td><td> 2.637396e-08</td><td>⋯</td><td>-8.809158e-09</td><td>-3.026369e-08</td><td>-2.480638e-09</td><td> 1.637248e-07</td><td>-1.044348e-07</td><td> 4.077774e-08</td><td>-1.211432e-08</td><td>-1.817211e-08</td><td> 7.278085e-08</td><td> 1.640609e-08</td></tr>\n\t<tr><th scope=row>AH:x10</th><td> 6.868042e-06</td><td> 2.557118e-09</td><td>-3.687628e-08</td><td> 1.787046e-09</td><td> 2.744624e-08</td><td>-2.500433e-08</td><td>-1.143905e-08</td><td> 8.153560e-09</td><td> 1.189804e-08</td><td> 5.945156e-09</td><td>⋯</td><td> 7.056551e-09</td><td>-1.017628e-07</td><td> 4.931483e-09</td><td> 7.573988e-08</td><td>-6.900126e-08</td><td>-3.156689e-08</td><td> 2.250034e-08</td><td> 3.283350e-08</td><td> 1.640609e-08</td><td> 1.159969e-07</td></tr>\n</tbody>\n</table>\n",
      "text/markdown": "\nA matrix: 33 × 33 of type dbl\n\n| <!--/--> | T:(Intercept) | T:x1 | T:x2 | T:x3 | T:x4 | T:x5 | T:x6 | T:x7 | T:x8 | T:x9 | ⋯ | AH:x1 | AH:x2 | AH:x3 | AH:x4 | AH:x5 | AH:x6 | AH:x7 | AH:x8 | AH:x9 | AH:x10 |\n|---|---|---|---|---|---|---|---|---|---|---|---|---|---|---|---|---|---|---|---|---|---|\n| T:(Intercept) |  1.158885e+00 |  1.591840e-05 | -5.390961e-04 |  3.002965e-04 |  6.930255e-03 | -3.068775e-04 |  1.369892e-04 | -4.326129e-04 | -2.011919e-04 |  1.690394e-05 | ⋯ |  3.655836e-06 | -1.238093e-04 |  6.896638e-05 |  1.591609e-03 | -7.047778e-05 |  3.146106e-05 | -9.935430e-05 | -4.620594e-05 |  3.882175e-06 |  6.868042e-06 |\n| T:x1 |  1.591840e-05 |  1.137701e-06 |  5.034156e-09 | -5.191252e-08 | -3.034643e-07 |  6.075872e-08 | -4.646136e-08 | -3.782561e-09 | -4.299766e-07 | -1.389970e-08 | ⋯ |  2.612855e-07 |  1.156149e-09 | -1.192228e-08 | -6.969390e-08 |  1.395391e-08 | -1.067036e-08 | -8.687065e-10 | -9.874885e-08 | -3.192219e-09 |  2.557118e-09 |\n| T:x2 | -5.390961e-04 |  5.034156e-09 |  6.839756e-07 | -1.664006e-07 | -3.149216e-06 | -4.404109e-08 | -7.119228e-08 |  8.984970e-08 |  7.176172e-08 | -4.775214e-08 | ⋯ |  1.156149e-09 |  1.570825e-07 | -3.821573e-08 | -7.232521e-07 | -1.011452e-08 | -1.635009e-08 |  2.063497e-08 |  1.648086e-08 | -1.096680e-08 | -3.687628e-08 |\n| T:x3 |  3.002965e-04 | -5.191252e-08 | -1.664006e-07 |  2.663391e-07 |  1.620236e-06 | -3.459387e-08 |  7.488221e-08 | -8.284048e-08 | -1.054699e-07 | -3.914123e-09 | ⋯ | -1.192228e-08 | -3.821573e-08 |  6.116769e-08 |  3.721049e-07 | -7.944861e-09 |  1.719752e-08 | -1.902522e-08 | -2.422232e-08 | -8.989212e-10 |  1.787046e-09 |\n| T:x4 |  6.930255e-03 | -3.034643e-07 | -3.149216e-06 |  1.620236e-06 |  4.458139e-05 | -2.203184e-06 |  1.084191e-06 | -2.618802e-06 | -1.177694e-06 |  2.583364e-07 | ⋯ | -6.969390e-08 | -7.232521e-07 |  3.721049e-07 |  1.023860e-05 | -5.059854e-07 |  2.489964e-07 | -6.014366e-07 | -2.704704e-07 |  5.932979e-08 |  2.744624e-08 |\n| T:x5 | -3.068775e-04 |  6.075872e-08 | -4.404109e-08 | -3.459387e-08 | -2.203184e-06 |  6.400215e-07 | -1.108389e-07 |  1.657579e-07 |  6.138940e-08 | -1.647844e-07 | ⋯ |  1.395391e-08 | -1.011452e-08 | -7.944861e-09 | -5.059854e-07 |  1.469880e-07 | -2.545537e-08 |  3.806812e-08 |  1.409875e-08 | -3.784455e-08 | -2.500433e-08 |\n| T:x6 |  1.369892e-04 | -4.646136e-08 | -7.119228e-08 |  7.488221e-08 |  1.084191e-06 | -1.108389e-07 |  3.159309e-07 | -3.260812e-08 | -3.983594e-07 |  6.434196e-08 | ⋯ | -1.067036e-08 | -1.635009e-08 |  1.719752e-08 |  2.489964e-07 | -2.545537e-08 |  7.255699e-08 | -7.488813e-09 | -9.148761e-08 |  1.477684e-08 | -1.143905e-08 |\n| T:x7 | -4.326129e-04 | -3.782561e-09 |  8.984970e-08 | -8.284048e-08 | -2.618802e-06 |  1.657579e-07 | -3.260812e-08 |  2.216048e-07 |  5.086086e-08 | -1.911481e-08 | ⋯ | -8.687065e-10 |  2.063497e-08 | -1.902522e-08 | -6.014366e-07 |  3.806812e-08 | -7.488813e-09 |  5.089397e-08 |  1.168075e-08 | -4.389925e-09 |  8.153560e-09 |\n| T:x8 | -2.011919e-04 | -4.299766e-07 |  7.176172e-08 | -1.054699e-07 | -1.177694e-06 |  6.138940e-08 | -3.983594e-07 |  5.086086e-08 |  9.944209e-07 | -2.867322e-08 | ⋯ | -9.874885e-08 |  1.648086e-08 | -2.422232e-08 | -2.704704e-07 |  1.409875e-08 | -9.148761e-08 |  1.168075e-08 |  2.283797e-07 | -6.585120e-09 |  1.189804e-08 |\n| T:x9 |  1.690394e-05 | -1.389970e-08 | -4.775214e-08 | -3.914123e-09 |  2.583364e-07 | -1.647844e-07 |  6.434196e-08 | -1.911481e-08 | -2.867322e-08 |  1.148387e-07 | ⋯ | -3.192219e-09 | -1.096680e-08 | -8.989212e-10 |  5.932979e-08 | -3.784455e-08 |  1.477684e-08 | -4.389925e-09 | -6.585120e-09 |  2.637396e-08 |  5.945156e-09 |\n| T:x10 |  2.990513e-05 |  1.113432e-08 | -1.605684e-07 |  7.781236e-09 |  1.195076e-07 | -1.088750e-07 | -4.980843e-08 |  3.550259e-08 |  5.180698e-08 |  2.588666e-08 | ⋯ |  2.557118e-09 | -3.687628e-08 |  1.787046e-09 |  2.744624e-08 | -2.500433e-08 | -1.143905e-08 |  8.153560e-09 |  1.189804e-08 |  5.945156e-09 |  4.203437e-08 |\n| RH:(Intercept) | -1.774612e+00 | -2.437600e-05 |  8.255229e-04 | -4.598468e-04 | -1.061236e-02 |  4.699244e-04 | -2.097728e-04 |  6.624642e-04 |  3.080871e-04 | -2.588516e-05 | ⋯ |  1.759280e-06 | -5.958017e-05 |  3.318836e-05 |  7.659223e-04 | -3.391568e-05 |  1.513986e-05 | -4.781179e-05 | -2.223546e-05 |  1.868200e-06 |  3.305075e-06 |\n| RH:x1 | -2.437600e-05 | -1.742172e-06 | -7.708850e-09 |  7.949413e-08 |  4.646977e-07 | -9.304041e-08 |  7.114671e-08 |  5.792271e-09 |  6.584273e-07 |  2.128474e-08 | ⋯ |  1.257372e-07 |  5.563680e-10 | -5.737301e-09 | -3.353846e-08 |  6.714972e-09 | -5.134846e-09 | -4.180435e-10 | -4.752043e-08 | -1.536176e-09 |  1.230550e-09 |\n| RH:x2 |  8.255229e-04 | -7.708850e-09 | -1.047378e-06 |  2.548109e-07 |  4.822425e-06 |  6.744053e-08 |  1.090174e-07 | -1.375877e-07 | -1.098894e-07 |  7.312331e-08 | ⋯ |  5.563680e-10 |  7.559205e-08 | -1.839037e-08 | -3.480471e-07 | -4.867361e-09 | -7.868074e-09 |  9.930067e-09 |  7.931007e-09 | -5.277502e-09 | -1.774580e-08 |\n| RH:x3 | -4.598468e-04 |  7.949413e-08 |  2.548109e-07 | -4.078476e-07 | -2.481082e-06 |  5.297391e-08 | -1.146678e-07 |  1.268544e-07 |  1.615070e-07 |  5.993733e-09 | ⋯ | -5.737301e-09 | -1.839037e-08 |  2.943543e-08 |  1.790662e-07 | -3.823267e-09 |  8.275880e-09 | -9.155417e-09 | -1.165639e-08 | -4.325835e-10 |  8.599716e-10 |\n| RH:x4 | -1.061236e-02 |  4.646977e-07 |  4.822425e-06 | -2.481082e-06 | -6.826790e-05 |  3.373757e-06 | -1.660232e-06 |  4.010196e-06 |  1.803414e-06 | -3.955930e-07 | ⋯ | -3.353846e-08 | -3.480471e-07 |  1.790662e-07 |  4.927074e-06 | -2.434929e-07 |  1.198234e-07 | -2.894264e-07 | -1.301572e-07 |  2.855099e-08 |  1.320782e-08 |\n| RH:x5 |  4.699244e-04 | -9.304041e-08 |  6.744053e-08 |  5.297391e-08 |  3.373757e-06 | -9.800710e-07 |  1.697287e-07 | -2.538267e-07 | -9.400616e-08 |  2.523359e-07 | ⋯ |  6.714972e-09 | -4.867361e-09 | -3.823267e-09 | -2.434929e-07 |  7.073431e-08 | -1.224977e-08 |  1.831934e-08 |  6.784673e-09 | -1.821175e-08 | -1.203271e-08 |\n| RH:x6 | -2.097728e-04 |  7.114671e-08 |  1.090174e-07 | -1.146678e-07 | -1.660232e-06 |  1.697287e-07 | -4.837880e-07 |  4.993312e-08 |  6.100115e-07 | -9.852744e-08 | ⋯ | -5.134846e-09 | -7.868074e-09 |  8.275880e-09 |  1.198234e-07 | -1.224977e-08 |  3.491625e-08 | -3.603805e-09 | -4.402614e-08 |  7.110985e-09 | -5.504760e-09 |\n| RH:x7 |  6.624642e-04 |  5.792271e-09 | -1.375877e-07 |  1.268544e-07 |  4.010196e-06 | -2.538267e-07 |  4.993312e-08 | -3.393455e-07 | -7.788371e-08 |  2.927069e-08 | ⋯ | -4.180435e-10 |  9.930067e-09 | -9.155417e-09 | -2.894264e-07 |  1.831934e-08 | -3.603805e-09 |  2.449146e-08 |  5.621073e-09 | -2.112543e-09 |  3.923698e-09 |\n| RH:x8 |  3.080871e-04 |  6.584273e-07 | -1.098894e-07 |  1.615070e-07 |  1.803414e-06 | -9.400616e-08 |  6.100115e-07 | -7.788371e-08 | -1.522766e-06 |  4.390758e-08 | ⋯ | -4.752043e-08 |  7.931007e-09 | -1.165639e-08 | -1.301572e-07 |  6.784673e-09 | -4.402614e-08 |  5.621073e-09 |  1.099020e-07 | -3.168926e-09 |  5.725637e-09 |\n| RH:x9 | -2.588516e-05 |  2.128474e-08 |  7.312331e-08 |  5.993733e-09 | -3.955930e-07 |  2.523359e-07 | -9.852744e-08 |  2.927069e-08 |  4.390758e-08 | -1.758536e-07 | ⋯ | -1.536176e-09 | -5.277502e-09 | -4.325835e-10 |  2.855099e-08 | -1.821175e-08 |  7.110985e-09 | -2.112543e-09 | -3.168926e-09 |  1.269181e-08 |  2.860959e-09 |\n| RH:x10 | -4.579401e-05 | -1.705008e-08 |  2.458798e-07 | -1.191548e-08 | -1.830032e-07 |  1.667213e-07 |  7.627211e-08 | -5.436546e-08 | -7.933251e-08 | -3.964049e-08 | ⋯ |  1.230550e-09 | -1.774580e-08 |  8.599716e-10 |  1.320782e-08 | -1.203271e-08 | -5.504760e-09 |  3.923698e-09 |  5.725637e-09 |  2.860959e-09 |  2.022800e-08 |\n| AH:(Intercept) |  2.661507e-01 |  3.655836e-06 | -1.238093e-04 |  6.896638e-05 |  1.591609e-03 | -7.047778e-05 |  3.146106e-05 | -9.935430e-05 | -4.620594e-05 |  3.882175e-06 | ⋯ |  1.008854e-05 | -3.416608e-04 |  1.903177e-04 |  4.392160e-03 | -1.944885e-04 |  8.681908e-05 | -2.741754e-04 | -1.275086e-04 |  1.071314e-05 |  1.895286e-05 |\n| AH:x1 |  3.655836e-06 |  2.612855e-07 |  1.156149e-09 | -1.192228e-08 | -6.969390e-08 |  1.395391e-08 | -1.067036e-08 | -8.687065e-10 | -9.874885e-08 | -3.192219e-09 | ⋯ |  7.210362e-07 |  3.190477e-09 | -3.290039e-08 | -1.923253e-07 |  3.850681e-08 | -2.944563e-08 | -2.397258e-09 | -2.725046e-07 | -8.809158e-09 |  7.056551e-09 |\n| AH:x2 | -1.238093e-04 |  1.156149e-09 |  1.570825e-07 | -3.821573e-08 | -7.232521e-07 | -1.011452e-08 | -1.635009e-08 |  2.063497e-08 |  1.648086e-08 | -1.096680e-08 | ⋯ |  3.190477e-09 |  4.334805e-07 | -1.054591e-07 | -1.995866e-06 | -2.791174e-08 | -4.511925e-08 |  5.694369e-08 |  4.548014e-08 | -3.026369e-08 | -1.017628e-07 |\n| AH:x3 |  6.896638e-05 | -1.192228e-08 | -3.821573e-08 |  6.116769e-08 |  3.721049e-07 | -7.944861e-09 |  1.719752e-08 | -1.902522e-08 | -2.422232e-08 | -8.989212e-10 | ⋯ | -3.290039e-08 | -1.054591e-07 |  1.687967e-07 |  1.026850e-06 | -2.192442e-08 |  4.745780e-08 | -5.250148e-08 | -6.684324e-08 | -2.480638e-09 |  4.931483e-09 |\n| AH:x4 |  1.591609e-03 | -6.969390e-08 | -7.232521e-07 |  3.721049e-07 |  1.023860e-05 | -5.059854e-07 |  2.489964e-07 | -6.014366e-07 | -2.704704e-07 |  5.932979e-08 | ⋯ | -1.923253e-07 | -1.995866e-06 |  1.026850e-06 |  2.825417e-05 | -1.396303e-06 |  6.871236e-07 | -1.659708e-06 | -7.463825e-07 |  1.637248e-07 |  7.573988e-08 |\n| AH:x5 | -7.047778e-05 |  1.395391e-08 | -1.011452e-08 | -7.944861e-09 | -5.059854e-07 |  1.469880e-07 | -2.545537e-08 |  3.806812e-08 |  1.409875e-08 | -3.784455e-08 | ⋯ |  3.850681e-08 | -2.791174e-08 | -2.192442e-08 | -1.396303e-06 |  4.056239e-07 | -7.024594e-08 |  1.050517e-07 |  3.890651e-08 | -1.044348e-07 | -6.900126e-08 |\n| AH:x6 |  3.146106e-05 | -1.067036e-08 | -1.635009e-08 |  1.719752e-08 |  2.489964e-07 | -2.545537e-08 |  7.255699e-08 | -7.488813e-09 | -9.148761e-08 |  1.477684e-08 | ⋯ | -2.944563e-08 | -4.511925e-08 |  4.745780e-08 |  6.871236e-07 | -7.024594e-08 |  2.002263e-07 | -2.066592e-08 | -2.524667e-07 |  4.077774e-08 | -3.156689e-08 |\n| AH:x7 | -9.935430e-05 | -8.687065e-10 |  2.063497e-08 | -1.902522e-08 | -6.014366e-07 |  3.806812e-08 | -7.488813e-09 |  5.089397e-08 |  1.168075e-08 | -4.389925e-09 | ⋯ | -2.397258e-09 |  5.694369e-08 | -5.250148e-08 | -1.659708e-06 |  1.050517e-07 | -2.066592e-08 |  1.404456e-07 |  3.223388e-08 | -1.211432e-08 |  2.250034e-08 |\n| AH:x8 | -4.620594e-05 | -9.874885e-08 |  1.648086e-08 | -2.422232e-08 | -2.704704e-07 |  1.409875e-08 | -9.148761e-08 |  1.168075e-08 |  2.283797e-07 | -6.585120e-09 | ⋯ | -2.725046e-07 |  4.548014e-08 | -6.684324e-08 | -7.463825e-07 |  3.890651e-08 | -2.524667e-07 |  3.223388e-08 |  6.302301e-07 | -1.817211e-08 |  3.283350e-08 |\n| AH:x9 |  3.882175e-06 | -3.192219e-09 | -1.096680e-08 | -8.989212e-10 |  5.932979e-08 | -3.784455e-08 |  1.477684e-08 | -4.389925e-09 | -6.585120e-09 |  2.637396e-08 | ⋯ | -8.809158e-09 | -3.026369e-08 | -2.480638e-09 |  1.637248e-07 | -1.044348e-07 |  4.077774e-08 | -1.211432e-08 | -1.817211e-08 |  7.278085e-08 |  1.640609e-08 |\n| AH:x10 |  6.868042e-06 |  2.557118e-09 | -3.687628e-08 |  1.787046e-09 |  2.744624e-08 | -2.500433e-08 | -1.143905e-08 |  8.153560e-09 |  1.189804e-08 |  5.945156e-09 | ⋯ |  7.056551e-09 | -1.017628e-07 |  4.931483e-09 |  7.573988e-08 | -6.900126e-08 | -3.156689e-08 |  2.250034e-08 |  3.283350e-08 |  1.640609e-08 |  1.159969e-07 |\n\n",
      "text/latex": "A matrix: 33 × 33 of type dbl\n\\begin{tabular}{r|lllllllllllllllllllll}\n  & T:(Intercept) & T:x1 & T:x2 & T:x3 & T:x4 & T:x5 & T:x6 & T:x7 & T:x8 & T:x9 & ⋯ & AH:x1 & AH:x2 & AH:x3 & AH:x4 & AH:x5 & AH:x6 & AH:x7 & AH:x8 & AH:x9 & AH:x10\\\\\n\\hline\n\tT:(Intercept) &  1.158885e+00 &  1.591840e-05 & -5.390961e-04 &  3.002965e-04 &  6.930255e-03 & -3.068775e-04 &  1.369892e-04 & -4.326129e-04 & -2.011919e-04 &  1.690394e-05 & ⋯ &  3.655836e-06 & -1.238093e-04 &  6.896638e-05 &  1.591609e-03 & -7.047778e-05 &  3.146106e-05 & -9.935430e-05 & -4.620594e-05 &  3.882175e-06 &  6.868042e-06\\\\\n\tT:x1 &  1.591840e-05 &  1.137701e-06 &  5.034156e-09 & -5.191252e-08 & -3.034643e-07 &  6.075872e-08 & -4.646136e-08 & -3.782561e-09 & -4.299766e-07 & -1.389970e-08 & ⋯ &  2.612855e-07 &  1.156149e-09 & -1.192228e-08 & -6.969390e-08 &  1.395391e-08 & -1.067036e-08 & -8.687065e-10 & -9.874885e-08 & -3.192219e-09 &  2.557118e-09\\\\\n\tT:x2 & -5.390961e-04 &  5.034156e-09 &  6.839756e-07 & -1.664006e-07 & -3.149216e-06 & -4.404109e-08 & -7.119228e-08 &  8.984970e-08 &  7.176172e-08 & -4.775214e-08 & ⋯ &  1.156149e-09 &  1.570825e-07 & -3.821573e-08 & -7.232521e-07 & -1.011452e-08 & -1.635009e-08 &  2.063497e-08 &  1.648086e-08 & -1.096680e-08 & -3.687628e-08\\\\\n\tT:x3 &  3.002965e-04 & -5.191252e-08 & -1.664006e-07 &  2.663391e-07 &  1.620236e-06 & -3.459387e-08 &  7.488221e-08 & -8.284048e-08 & -1.054699e-07 & -3.914123e-09 & ⋯ & -1.192228e-08 & -3.821573e-08 &  6.116769e-08 &  3.721049e-07 & -7.944861e-09 &  1.719752e-08 & -1.902522e-08 & -2.422232e-08 & -8.989212e-10 &  1.787046e-09\\\\\n\tT:x4 &  6.930255e-03 & -3.034643e-07 & -3.149216e-06 &  1.620236e-06 &  4.458139e-05 & -2.203184e-06 &  1.084191e-06 & -2.618802e-06 & -1.177694e-06 &  2.583364e-07 & ⋯ & -6.969390e-08 & -7.232521e-07 &  3.721049e-07 &  1.023860e-05 & -5.059854e-07 &  2.489964e-07 & -6.014366e-07 & -2.704704e-07 &  5.932979e-08 &  2.744624e-08\\\\\n\tT:x5 & -3.068775e-04 &  6.075872e-08 & -4.404109e-08 & -3.459387e-08 & -2.203184e-06 &  6.400215e-07 & -1.108389e-07 &  1.657579e-07 &  6.138940e-08 & -1.647844e-07 & ⋯ &  1.395391e-08 & -1.011452e-08 & -7.944861e-09 & -5.059854e-07 &  1.469880e-07 & -2.545537e-08 &  3.806812e-08 &  1.409875e-08 & -3.784455e-08 & -2.500433e-08\\\\\n\tT:x6 &  1.369892e-04 & -4.646136e-08 & -7.119228e-08 &  7.488221e-08 &  1.084191e-06 & -1.108389e-07 &  3.159309e-07 & -3.260812e-08 & -3.983594e-07 &  6.434196e-08 & ⋯ & -1.067036e-08 & -1.635009e-08 &  1.719752e-08 &  2.489964e-07 & -2.545537e-08 &  7.255699e-08 & -7.488813e-09 & -9.148761e-08 &  1.477684e-08 & -1.143905e-08\\\\\n\tT:x7 & -4.326129e-04 & -3.782561e-09 &  8.984970e-08 & -8.284048e-08 & -2.618802e-06 &  1.657579e-07 & -3.260812e-08 &  2.216048e-07 &  5.086086e-08 & -1.911481e-08 & ⋯ & -8.687065e-10 &  2.063497e-08 & -1.902522e-08 & -6.014366e-07 &  3.806812e-08 & -7.488813e-09 &  5.089397e-08 &  1.168075e-08 & -4.389925e-09 &  8.153560e-09\\\\\n\tT:x8 & -2.011919e-04 & -4.299766e-07 &  7.176172e-08 & -1.054699e-07 & -1.177694e-06 &  6.138940e-08 & -3.983594e-07 &  5.086086e-08 &  9.944209e-07 & -2.867322e-08 & ⋯ & -9.874885e-08 &  1.648086e-08 & -2.422232e-08 & -2.704704e-07 &  1.409875e-08 & -9.148761e-08 &  1.168075e-08 &  2.283797e-07 & -6.585120e-09 &  1.189804e-08\\\\\n\tT:x9 &  1.690394e-05 & -1.389970e-08 & -4.775214e-08 & -3.914123e-09 &  2.583364e-07 & -1.647844e-07 &  6.434196e-08 & -1.911481e-08 & -2.867322e-08 &  1.148387e-07 & ⋯ & -3.192219e-09 & -1.096680e-08 & -8.989212e-10 &  5.932979e-08 & -3.784455e-08 &  1.477684e-08 & -4.389925e-09 & -6.585120e-09 &  2.637396e-08 &  5.945156e-09\\\\\n\tT:x10 &  2.990513e-05 &  1.113432e-08 & -1.605684e-07 &  7.781236e-09 &  1.195076e-07 & -1.088750e-07 & -4.980843e-08 &  3.550259e-08 &  5.180698e-08 &  2.588666e-08 & ⋯ &  2.557118e-09 & -3.687628e-08 &  1.787046e-09 &  2.744624e-08 & -2.500433e-08 & -1.143905e-08 &  8.153560e-09 &  1.189804e-08 &  5.945156e-09 &  4.203437e-08\\\\\n\tRH:(Intercept) & -1.774612e+00 & -2.437600e-05 &  8.255229e-04 & -4.598468e-04 & -1.061236e-02 &  4.699244e-04 & -2.097728e-04 &  6.624642e-04 &  3.080871e-04 & -2.588516e-05 & ⋯ &  1.759280e-06 & -5.958017e-05 &  3.318836e-05 &  7.659223e-04 & -3.391568e-05 &  1.513986e-05 & -4.781179e-05 & -2.223546e-05 &  1.868200e-06 &  3.305075e-06\\\\\n\tRH:x1 & -2.437600e-05 & -1.742172e-06 & -7.708850e-09 &  7.949413e-08 &  4.646977e-07 & -9.304041e-08 &  7.114671e-08 &  5.792271e-09 &  6.584273e-07 &  2.128474e-08 & ⋯ &  1.257372e-07 &  5.563680e-10 & -5.737301e-09 & -3.353846e-08 &  6.714972e-09 & -5.134846e-09 & -4.180435e-10 & -4.752043e-08 & -1.536176e-09 &  1.230550e-09\\\\\n\tRH:x2 &  8.255229e-04 & -7.708850e-09 & -1.047378e-06 &  2.548109e-07 &  4.822425e-06 &  6.744053e-08 &  1.090174e-07 & -1.375877e-07 & -1.098894e-07 &  7.312331e-08 & ⋯ &  5.563680e-10 &  7.559205e-08 & -1.839037e-08 & -3.480471e-07 & -4.867361e-09 & -7.868074e-09 &  9.930067e-09 &  7.931007e-09 & -5.277502e-09 & -1.774580e-08\\\\\n\tRH:x3 & -4.598468e-04 &  7.949413e-08 &  2.548109e-07 & -4.078476e-07 & -2.481082e-06 &  5.297391e-08 & -1.146678e-07 &  1.268544e-07 &  1.615070e-07 &  5.993733e-09 & ⋯ & -5.737301e-09 & -1.839037e-08 &  2.943543e-08 &  1.790662e-07 & -3.823267e-09 &  8.275880e-09 & -9.155417e-09 & -1.165639e-08 & -4.325835e-10 &  8.599716e-10\\\\\n\tRH:x4 & -1.061236e-02 &  4.646977e-07 &  4.822425e-06 & -2.481082e-06 & -6.826790e-05 &  3.373757e-06 & -1.660232e-06 &  4.010196e-06 &  1.803414e-06 & -3.955930e-07 & ⋯ & -3.353846e-08 & -3.480471e-07 &  1.790662e-07 &  4.927074e-06 & -2.434929e-07 &  1.198234e-07 & -2.894264e-07 & -1.301572e-07 &  2.855099e-08 &  1.320782e-08\\\\\n\tRH:x5 &  4.699244e-04 & -9.304041e-08 &  6.744053e-08 &  5.297391e-08 &  3.373757e-06 & -9.800710e-07 &  1.697287e-07 & -2.538267e-07 & -9.400616e-08 &  2.523359e-07 & ⋯ &  6.714972e-09 & -4.867361e-09 & -3.823267e-09 & -2.434929e-07 &  7.073431e-08 & -1.224977e-08 &  1.831934e-08 &  6.784673e-09 & -1.821175e-08 & -1.203271e-08\\\\\n\tRH:x6 & -2.097728e-04 &  7.114671e-08 &  1.090174e-07 & -1.146678e-07 & -1.660232e-06 &  1.697287e-07 & -4.837880e-07 &  4.993312e-08 &  6.100115e-07 & -9.852744e-08 & ⋯ & -5.134846e-09 & -7.868074e-09 &  8.275880e-09 &  1.198234e-07 & -1.224977e-08 &  3.491625e-08 & -3.603805e-09 & -4.402614e-08 &  7.110985e-09 & -5.504760e-09\\\\\n\tRH:x7 &  6.624642e-04 &  5.792271e-09 & -1.375877e-07 &  1.268544e-07 &  4.010196e-06 & -2.538267e-07 &  4.993312e-08 & -3.393455e-07 & -7.788371e-08 &  2.927069e-08 & ⋯ & -4.180435e-10 &  9.930067e-09 & -9.155417e-09 & -2.894264e-07 &  1.831934e-08 & -3.603805e-09 &  2.449146e-08 &  5.621073e-09 & -2.112543e-09 &  3.923698e-09\\\\\n\tRH:x8 &  3.080871e-04 &  6.584273e-07 & -1.098894e-07 &  1.615070e-07 &  1.803414e-06 & -9.400616e-08 &  6.100115e-07 & -7.788371e-08 & -1.522766e-06 &  4.390758e-08 & ⋯ & -4.752043e-08 &  7.931007e-09 & -1.165639e-08 & -1.301572e-07 &  6.784673e-09 & -4.402614e-08 &  5.621073e-09 &  1.099020e-07 & -3.168926e-09 &  5.725637e-09\\\\\n\tRH:x9 & -2.588516e-05 &  2.128474e-08 &  7.312331e-08 &  5.993733e-09 & -3.955930e-07 &  2.523359e-07 & -9.852744e-08 &  2.927069e-08 &  4.390758e-08 & -1.758536e-07 & ⋯ & -1.536176e-09 & -5.277502e-09 & -4.325835e-10 &  2.855099e-08 & -1.821175e-08 &  7.110985e-09 & -2.112543e-09 & -3.168926e-09 &  1.269181e-08 &  2.860959e-09\\\\\n\tRH:x10 & -4.579401e-05 & -1.705008e-08 &  2.458798e-07 & -1.191548e-08 & -1.830032e-07 &  1.667213e-07 &  7.627211e-08 & -5.436546e-08 & -7.933251e-08 & -3.964049e-08 & ⋯ &  1.230550e-09 & -1.774580e-08 &  8.599716e-10 &  1.320782e-08 & -1.203271e-08 & -5.504760e-09 &  3.923698e-09 &  5.725637e-09 &  2.860959e-09 &  2.022800e-08\\\\\n\tAH:(Intercept) &  2.661507e-01 &  3.655836e-06 & -1.238093e-04 &  6.896638e-05 &  1.591609e-03 & -7.047778e-05 &  3.146106e-05 & -9.935430e-05 & -4.620594e-05 &  3.882175e-06 & ⋯ &  1.008854e-05 & -3.416608e-04 &  1.903177e-04 &  4.392160e-03 & -1.944885e-04 &  8.681908e-05 & -2.741754e-04 & -1.275086e-04 &  1.071314e-05 &  1.895286e-05\\\\\n\tAH:x1 &  3.655836e-06 &  2.612855e-07 &  1.156149e-09 & -1.192228e-08 & -6.969390e-08 &  1.395391e-08 & -1.067036e-08 & -8.687065e-10 & -9.874885e-08 & -3.192219e-09 & ⋯ &  7.210362e-07 &  3.190477e-09 & -3.290039e-08 & -1.923253e-07 &  3.850681e-08 & -2.944563e-08 & -2.397258e-09 & -2.725046e-07 & -8.809158e-09 &  7.056551e-09\\\\\n\tAH:x2 & -1.238093e-04 &  1.156149e-09 &  1.570825e-07 & -3.821573e-08 & -7.232521e-07 & -1.011452e-08 & -1.635009e-08 &  2.063497e-08 &  1.648086e-08 & -1.096680e-08 & ⋯ &  3.190477e-09 &  4.334805e-07 & -1.054591e-07 & -1.995866e-06 & -2.791174e-08 & -4.511925e-08 &  5.694369e-08 &  4.548014e-08 & -3.026369e-08 & -1.017628e-07\\\\\n\tAH:x3 &  6.896638e-05 & -1.192228e-08 & -3.821573e-08 &  6.116769e-08 &  3.721049e-07 & -7.944861e-09 &  1.719752e-08 & -1.902522e-08 & -2.422232e-08 & -8.989212e-10 & ⋯ & -3.290039e-08 & -1.054591e-07 &  1.687967e-07 &  1.026850e-06 & -2.192442e-08 &  4.745780e-08 & -5.250148e-08 & -6.684324e-08 & -2.480638e-09 &  4.931483e-09\\\\\n\tAH:x4 &  1.591609e-03 & -6.969390e-08 & -7.232521e-07 &  3.721049e-07 &  1.023860e-05 & -5.059854e-07 &  2.489964e-07 & -6.014366e-07 & -2.704704e-07 &  5.932979e-08 & ⋯ & -1.923253e-07 & -1.995866e-06 &  1.026850e-06 &  2.825417e-05 & -1.396303e-06 &  6.871236e-07 & -1.659708e-06 & -7.463825e-07 &  1.637248e-07 &  7.573988e-08\\\\\n\tAH:x5 & -7.047778e-05 &  1.395391e-08 & -1.011452e-08 & -7.944861e-09 & -5.059854e-07 &  1.469880e-07 & -2.545537e-08 &  3.806812e-08 &  1.409875e-08 & -3.784455e-08 & ⋯ &  3.850681e-08 & -2.791174e-08 & -2.192442e-08 & -1.396303e-06 &  4.056239e-07 & -7.024594e-08 &  1.050517e-07 &  3.890651e-08 & -1.044348e-07 & -6.900126e-08\\\\\n\tAH:x6 &  3.146106e-05 & -1.067036e-08 & -1.635009e-08 &  1.719752e-08 &  2.489964e-07 & -2.545537e-08 &  7.255699e-08 & -7.488813e-09 & -9.148761e-08 &  1.477684e-08 & ⋯ & -2.944563e-08 & -4.511925e-08 &  4.745780e-08 &  6.871236e-07 & -7.024594e-08 &  2.002263e-07 & -2.066592e-08 & -2.524667e-07 &  4.077774e-08 & -3.156689e-08\\\\\n\tAH:x7 & -9.935430e-05 & -8.687065e-10 &  2.063497e-08 & -1.902522e-08 & -6.014366e-07 &  3.806812e-08 & -7.488813e-09 &  5.089397e-08 &  1.168075e-08 & -4.389925e-09 & ⋯ & -2.397258e-09 &  5.694369e-08 & -5.250148e-08 & -1.659708e-06 &  1.050517e-07 & -2.066592e-08 &  1.404456e-07 &  3.223388e-08 & -1.211432e-08 &  2.250034e-08\\\\\n\tAH:x8 & -4.620594e-05 & -9.874885e-08 &  1.648086e-08 & -2.422232e-08 & -2.704704e-07 &  1.409875e-08 & -9.148761e-08 &  1.168075e-08 &  2.283797e-07 & -6.585120e-09 & ⋯ & -2.725046e-07 &  4.548014e-08 & -6.684324e-08 & -7.463825e-07 &  3.890651e-08 & -2.524667e-07 &  3.223388e-08 &  6.302301e-07 & -1.817211e-08 &  3.283350e-08\\\\\n\tAH:x9 &  3.882175e-06 & -3.192219e-09 & -1.096680e-08 & -8.989212e-10 &  5.932979e-08 & -3.784455e-08 &  1.477684e-08 & -4.389925e-09 & -6.585120e-09 &  2.637396e-08 & ⋯ & -8.809158e-09 & -3.026369e-08 & -2.480638e-09 &  1.637248e-07 & -1.044348e-07 &  4.077774e-08 & -1.211432e-08 & -1.817211e-08 &  7.278085e-08 &  1.640609e-08\\\\\n\tAH:x10 &  6.868042e-06 &  2.557118e-09 & -3.687628e-08 &  1.787046e-09 &  2.744624e-08 & -2.500433e-08 & -1.143905e-08 &  8.153560e-09 &  1.189804e-08 &  5.945156e-09 & ⋯ &  7.056551e-09 & -1.017628e-07 &  4.931483e-09 &  7.573988e-08 & -6.900126e-08 & -3.156689e-08 &  2.250034e-08 &  3.283350e-08 &  1.640609e-08 &  1.159969e-07\\\\\n\\end{tabular}\n",
      "text/plain": "               T:(Intercept) T:x1          T:x2          T:x3         \nT:(Intercept)   1.158885e+00  1.591840e-05 -5.390961e-04  3.002965e-04\nT:x1            1.591840e-05  1.137701e-06  5.034156e-09 -5.191252e-08\nT:x2           -5.390961e-04  5.034156e-09  6.839756e-07 -1.664006e-07\nT:x3            3.002965e-04 -5.191252e-08 -1.664006e-07  2.663391e-07\nT:x4            6.930255e-03 -3.034643e-07 -3.149216e-06  1.620236e-06\nT:x5           -3.068775e-04  6.075872e-08 -4.404109e-08 -3.459387e-08\nT:x6            1.369892e-04 -4.646136e-08 -7.119228e-08  7.488221e-08\nT:x7           -4.326129e-04 -3.782561e-09  8.984970e-08 -8.284048e-08\nT:x8           -2.011919e-04 -4.299766e-07  7.176172e-08 -1.054699e-07\nT:x9            1.690394e-05 -1.389970e-08 -4.775214e-08 -3.914123e-09\nT:x10           2.990513e-05  1.113432e-08 -1.605684e-07  7.781236e-09\nRH:(Intercept) -1.774612e+00 -2.437600e-05  8.255229e-04 -4.598468e-04\nRH:x1          -2.437600e-05 -1.742172e-06 -7.708850e-09  7.949413e-08\nRH:x2           8.255229e-04 -7.708850e-09 -1.047378e-06  2.548109e-07\nRH:x3          -4.598468e-04  7.949413e-08  2.548109e-07 -4.078476e-07\nRH:x4          -1.061236e-02  4.646977e-07  4.822425e-06 -2.481082e-06\nRH:x5           4.699244e-04 -9.304041e-08  6.744053e-08  5.297391e-08\nRH:x6          -2.097728e-04  7.114671e-08  1.090174e-07 -1.146678e-07\nRH:x7           6.624642e-04  5.792271e-09 -1.375877e-07  1.268544e-07\nRH:x8           3.080871e-04  6.584273e-07 -1.098894e-07  1.615070e-07\nRH:x9          -2.588516e-05  2.128474e-08  7.312331e-08  5.993733e-09\nRH:x10         -4.579401e-05 -1.705008e-08  2.458798e-07 -1.191548e-08\nAH:(Intercept)  2.661507e-01  3.655836e-06 -1.238093e-04  6.896638e-05\nAH:x1           3.655836e-06  2.612855e-07  1.156149e-09 -1.192228e-08\nAH:x2          -1.238093e-04  1.156149e-09  1.570825e-07 -3.821573e-08\nAH:x3           6.896638e-05 -1.192228e-08 -3.821573e-08  6.116769e-08\nAH:x4           1.591609e-03 -6.969390e-08 -7.232521e-07  3.721049e-07\nAH:x5          -7.047778e-05  1.395391e-08 -1.011452e-08 -7.944861e-09\nAH:x6           3.146106e-05 -1.067036e-08 -1.635009e-08  1.719752e-08\nAH:x7          -9.935430e-05 -8.687065e-10  2.063497e-08 -1.902522e-08\nAH:x8          -4.620594e-05 -9.874885e-08  1.648086e-08 -2.422232e-08\nAH:x9           3.882175e-06 -3.192219e-09 -1.096680e-08 -8.989212e-10\nAH:x10          6.868042e-06  2.557118e-09 -3.687628e-08  1.787046e-09\n               T:x4          T:x5          T:x6          T:x7         \nT:(Intercept)   6.930255e-03 -3.068775e-04  1.369892e-04 -4.326129e-04\nT:x1           -3.034643e-07  6.075872e-08 -4.646136e-08 -3.782561e-09\nT:x2           -3.149216e-06 -4.404109e-08 -7.119228e-08  8.984970e-08\nT:x3            1.620236e-06 -3.459387e-08  7.488221e-08 -8.284048e-08\nT:x4            4.458139e-05 -2.203184e-06  1.084191e-06 -2.618802e-06\nT:x5           -2.203184e-06  6.400215e-07 -1.108389e-07  1.657579e-07\nT:x6            1.084191e-06 -1.108389e-07  3.159309e-07 -3.260812e-08\nT:x7           -2.618802e-06  1.657579e-07 -3.260812e-08  2.216048e-07\nT:x8           -1.177694e-06  6.138940e-08 -3.983594e-07  5.086086e-08\nT:x9            2.583364e-07 -1.647844e-07  6.434196e-08 -1.911481e-08\nT:x10           1.195076e-07 -1.088750e-07 -4.980843e-08  3.550259e-08\nRH:(Intercept) -1.061236e-02  4.699244e-04 -2.097728e-04  6.624642e-04\nRH:x1           4.646977e-07 -9.304041e-08  7.114671e-08  5.792271e-09\nRH:x2           4.822425e-06  6.744053e-08  1.090174e-07 -1.375877e-07\nRH:x3          -2.481082e-06  5.297391e-08 -1.146678e-07  1.268544e-07\nRH:x4          -6.826790e-05  3.373757e-06 -1.660232e-06  4.010196e-06\nRH:x5           3.373757e-06 -9.800710e-07  1.697287e-07 -2.538267e-07\nRH:x6          -1.660232e-06  1.697287e-07 -4.837880e-07  4.993312e-08\nRH:x7           4.010196e-06 -2.538267e-07  4.993312e-08 -3.393455e-07\nRH:x8           1.803414e-06 -9.400616e-08  6.100115e-07 -7.788371e-08\nRH:x9          -3.955930e-07  2.523359e-07 -9.852744e-08  2.927069e-08\nRH:x10         -1.830032e-07  1.667213e-07  7.627211e-08 -5.436546e-08\nAH:(Intercept)  1.591609e-03 -7.047778e-05  3.146106e-05 -9.935430e-05\nAH:x1          -6.969390e-08  1.395391e-08 -1.067036e-08 -8.687065e-10\nAH:x2          -7.232521e-07 -1.011452e-08 -1.635009e-08  2.063497e-08\nAH:x3           3.721049e-07 -7.944861e-09  1.719752e-08 -1.902522e-08\nAH:x4           1.023860e-05 -5.059854e-07  2.489964e-07 -6.014366e-07\nAH:x5          -5.059854e-07  1.469880e-07 -2.545537e-08  3.806812e-08\nAH:x6           2.489964e-07 -2.545537e-08  7.255699e-08 -7.488813e-09\nAH:x7          -6.014366e-07  3.806812e-08 -7.488813e-09  5.089397e-08\nAH:x8          -2.704704e-07  1.409875e-08 -9.148761e-08  1.168075e-08\nAH:x9           5.932979e-08 -3.784455e-08  1.477684e-08 -4.389925e-09\nAH:x10          2.744624e-08 -2.500433e-08 -1.143905e-08  8.153560e-09\n               T:x8          T:x9          ⋯ AH:x1         AH:x2        \nT:(Intercept)  -2.011919e-04  1.690394e-05 ⋯  3.655836e-06 -1.238093e-04\nT:x1           -4.299766e-07 -1.389970e-08 ⋯  2.612855e-07  1.156149e-09\nT:x2            7.176172e-08 -4.775214e-08 ⋯  1.156149e-09  1.570825e-07\nT:x3           -1.054699e-07 -3.914123e-09 ⋯ -1.192228e-08 -3.821573e-08\nT:x4           -1.177694e-06  2.583364e-07 ⋯ -6.969390e-08 -7.232521e-07\nT:x5            6.138940e-08 -1.647844e-07 ⋯  1.395391e-08 -1.011452e-08\nT:x6           -3.983594e-07  6.434196e-08 ⋯ -1.067036e-08 -1.635009e-08\nT:x7            5.086086e-08 -1.911481e-08 ⋯ -8.687065e-10  2.063497e-08\nT:x8            9.944209e-07 -2.867322e-08 ⋯ -9.874885e-08  1.648086e-08\nT:x9           -2.867322e-08  1.148387e-07 ⋯ -3.192219e-09 -1.096680e-08\nT:x10           5.180698e-08  2.588666e-08 ⋯  2.557118e-09 -3.687628e-08\nRH:(Intercept)  3.080871e-04 -2.588516e-05 ⋯  1.759280e-06 -5.958017e-05\nRH:x1           6.584273e-07  2.128474e-08 ⋯  1.257372e-07  5.563680e-10\nRH:x2          -1.098894e-07  7.312331e-08 ⋯  5.563680e-10  7.559205e-08\nRH:x3           1.615070e-07  5.993733e-09 ⋯ -5.737301e-09 -1.839037e-08\nRH:x4           1.803414e-06 -3.955930e-07 ⋯ -3.353846e-08 -3.480471e-07\nRH:x5          -9.400616e-08  2.523359e-07 ⋯  6.714972e-09 -4.867361e-09\nRH:x6           6.100115e-07 -9.852744e-08 ⋯ -5.134846e-09 -7.868074e-09\nRH:x7          -7.788371e-08  2.927069e-08 ⋯ -4.180435e-10  9.930067e-09\nRH:x8          -1.522766e-06  4.390758e-08 ⋯ -4.752043e-08  7.931007e-09\nRH:x9           4.390758e-08 -1.758536e-07 ⋯ -1.536176e-09 -5.277502e-09\nRH:x10         -7.933251e-08 -3.964049e-08 ⋯  1.230550e-09 -1.774580e-08\nAH:(Intercept) -4.620594e-05  3.882175e-06 ⋯  1.008854e-05 -3.416608e-04\nAH:x1          -9.874885e-08 -3.192219e-09 ⋯  7.210362e-07  3.190477e-09\nAH:x2           1.648086e-08 -1.096680e-08 ⋯  3.190477e-09  4.334805e-07\nAH:x3          -2.422232e-08 -8.989212e-10 ⋯ -3.290039e-08 -1.054591e-07\nAH:x4          -2.704704e-07  5.932979e-08 ⋯ -1.923253e-07 -1.995866e-06\nAH:x5           1.409875e-08 -3.784455e-08 ⋯  3.850681e-08 -2.791174e-08\nAH:x6          -9.148761e-08  1.477684e-08 ⋯ -2.944563e-08 -4.511925e-08\nAH:x7           1.168075e-08 -4.389925e-09 ⋯ -2.397258e-09  5.694369e-08\nAH:x8           2.283797e-07 -6.585120e-09 ⋯ -2.725046e-07  4.548014e-08\nAH:x9          -6.585120e-09  2.637396e-08 ⋯ -8.809158e-09 -3.026369e-08\nAH:x10          1.189804e-08  5.945156e-09 ⋯  7.056551e-09 -1.017628e-07\n               AH:x3         AH:x4         AH:x5         AH:x6        \nT:(Intercept)   6.896638e-05  1.591609e-03 -7.047778e-05  3.146106e-05\nT:x1           -1.192228e-08 -6.969390e-08  1.395391e-08 -1.067036e-08\nT:x2           -3.821573e-08 -7.232521e-07 -1.011452e-08 -1.635009e-08\nT:x3            6.116769e-08  3.721049e-07 -7.944861e-09  1.719752e-08\nT:x4            3.721049e-07  1.023860e-05 -5.059854e-07  2.489964e-07\nT:x5           -7.944861e-09 -5.059854e-07  1.469880e-07 -2.545537e-08\nT:x6            1.719752e-08  2.489964e-07 -2.545537e-08  7.255699e-08\nT:x7           -1.902522e-08 -6.014366e-07  3.806812e-08 -7.488813e-09\nT:x8           -2.422232e-08 -2.704704e-07  1.409875e-08 -9.148761e-08\nT:x9           -8.989212e-10  5.932979e-08 -3.784455e-08  1.477684e-08\nT:x10           1.787046e-09  2.744624e-08 -2.500433e-08 -1.143905e-08\nRH:(Intercept)  3.318836e-05  7.659223e-04 -3.391568e-05  1.513986e-05\nRH:x1          -5.737301e-09 -3.353846e-08  6.714972e-09 -5.134846e-09\nRH:x2          -1.839037e-08 -3.480471e-07 -4.867361e-09 -7.868074e-09\nRH:x3           2.943543e-08  1.790662e-07 -3.823267e-09  8.275880e-09\nRH:x4           1.790662e-07  4.927074e-06 -2.434929e-07  1.198234e-07\nRH:x5          -3.823267e-09 -2.434929e-07  7.073431e-08 -1.224977e-08\nRH:x6           8.275880e-09  1.198234e-07 -1.224977e-08  3.491625e-08\nRH:x7          -9.155417e-09 -2.894264e-07  1.831934e-08 -3.603805e-09\nRH:x8          -1.165639e-08 -1.301572e-07  6.784673e-09 -4.402614e-08\nRH:x9          -4.325835e-10  2.855099e-08 -1.821175e-08  7.110985e-09\nRH:x10          8.599716e-10  1.320782e-08 -1.203271e-08 -5.504760e-09\nAH:(Intercept)  1.903177e-04  4.392160e-03 -1.944885e-04  8.681908e-05\nAH:x1          -3.290039e-08 -1.923253e-07  3.850681e-08 -2.944563e-08\nAH:x2          -1.054591e-07 -1.995866e-06 -2.791174e-08 -4.511925e-08\nAH:x3           1.687967e-07  1.026850e-06 -2.192442e-08  4.745780e-08\nAH:x4           1.026850e-06  2.825417e-05 -1.396303e-06  6.871236e-07\nAH:x5          -2.192442e-08 -1.396303e-06  4.056239e-07 -7.024594e-08\nAH:x6           4.745780e-08  6.871236e-07 -7.024594e-08  2.002263e-07\nAH:x7          -5.250148e-08 -1.659708e-06  1.050517e-07 -2.066592e-08\nAH:x8          -6.684324e-08 -7.463825e-07  3.890651e-08 -2.524667e-07\nAH:x9          -2.480638e-09  1.637248e-07 -1.044348e-07  4.077774e-08\nAH:x10          4.931483e-09  7.573988e-08 -6.900126e-08 -3.156689e-08\n               AH:x7         AH:x8         AH:x9         AH:x10       \nT:(Intercept)  -9.935430e-05 -4.620594e-05  3.882175e-06  6.868042e-06\nT:x1           -8.687065e-10 -9.874885e-08 -3.192219e-09  2.557118e-09\nT:x2            2.063497e-08  1.648086e-08 -1.096680e-08 -3.687628e-08\nT:x3           -1.902522e-08 -2.422232e-08 -8.989212e-10  1.787046e-09\nT:x4           -6.014366e-07 -2.704704e-07  5.932979e-08  2.744624e-08\nT:x5            3.806812e-08  1.409875e-08 -3.784455e-08 -2.500433e-08\nT:x6           -7.488813e-09 -9.148761e-08  1.477684e-08 -1.143905e-08\nT:x7            5.089397e-08  1.168075e-08 -4.389925e-09  8.153560e-09\nT:x8            1.168075e-08  2.283797e-07 -6.585120e-09  1.189804e-08\nT:x9           -4.389925e-09 -6.585120e-09  2.637396e-08  5.945156e-09\nT:x10           8.153560e-09  1.189804e-08  5.945156e-09  4.203437e-08\nRH:(Intercept) -4.781179e-05 -2.223546e-05  1.868200e-06  3.305075e-06\nRH:x1          -4.180435e-10 -4.752043e-08 -1.536176e-09  1.230550e-09\nRH:x2           9.930067e-09  7.931007e-09 -5.277502e-09 -1.774580e-08\nRH:x3          -9.155417e-09 -1.165639e-08 -4.325835e-10  8.599716e-10\nRH:x4          -2.894264e-07 -1.301572e-07  2.855099e-08  1.320782e-08\nRH:x5           1.831934e-08  6.784673e-09 -1.821175e-08 -1.203271e-08\nRH:x6          -3.603805e-09 -4.402614e-08  7.110985e-09 -5.504760e-09\nRH:x7           2.449146e-08  5.621073e-09 -2.112543e-09  3.923698e-09\nRH:x8           5.621073e-09  1.099020e-07 -3.168926e-09  5.725637e-09\nRH:x9          -2.112543e-09 -3.168926e-09  1.269181e-08  2.860959e-09\nRH:x10          3.923698e-09  5.725637e-09  2.860959e-09  2.022800e-08\nAH:(Intercept) -2.741754e-04 -1.275086e-04  1.071314e-05  1.895286e-05\nAH:x1          -2.397258e-09 -2.725046e-07 -8.809158e-09  7.056551e-09\nAH:x2           5.694369e-08  4.548014e-08 -3.026369e-08 -1.017628e-07\nAH:x3          -5.250148e-08 -6.684324e-08 -2.480638e-09  4.931483e-09\nAH:x4          -1.659708e-06 -7.463825e-07  1.637248e-07  7.573988e-08\nAH:x5           1.050517e-07  3.890651e-08 -1.044348e-07 -6.900126e-08\nAH:x6          -2.066592e-08 -2.524667e-07  4.077774e-08 -3.156689e-08\nAH:x7           1.404456e-07  3.223388e-08 -1.211432e-08  2.250034e-08\nAH:x8           3.223388e-08  6.302301e-07 -1.817211e-08  3.283350e-08\nAH:x9          -1.211432e-08 -1.817211e-08  7.278085e-08  1.640609e-08\nAH:x10          2.250034e-08  3.283350e-08  1.640609e-08  1.159969e-07"
     },
     "metadata": {},
     "output_type": "display_data"
    }
   ]
  },
  {
   "cell_type": "markdown",
   "source": "#### Analisis Regresi Secara Multivariat untuk Variabel Dependen Y",
   "metadata": {
    "cell_id": "65fa57e442ca4b2992a1d4a40cf335a9",
    "tags": [],
    "owner_user_id": "c9941688-9afd-42cd-ab25-bb33f761c870",
    "deepnote_cell_type": "markdown",
    "deepnote_cell_height": 54
   }
  },
  {
   "cell_type": "code",
   "metadata": {
    "cell_id": "0115e4c8388644049a1dac333bd13117",
    "tags": [],
    "deepnote_to_be_reexecuted": false,
    "source_hash": "405a6bc4",
    "execution_start": 1651561552118,
    "execution_millis": 94,
    "deepnote_cell_type": "code",
    "deepnote_cell_height": 471.1875,
    "deepnote_output_heights": [
     null,
     289.8125
    ]
   },
   "source": "library(car)\nAnova(mmr)",
   "execution_count": null,
   "outputs": [
    {
     "name": "stderr",
     "text": "Warning message in cbind(x$df, tests, pf(tests[ok, 2], tests[ok, 3], tests[ok, 4], :\n“number of rows of result is not a multiple of vector length (arg 3)”\n",
     "output_type": "stream"
    },
    {
     "data": {
      "text/plain": "\nType II MANOVA Tests: Pillai test statistic\n    Df test stat approx F num Df den Df    Pr(>F)    \nx1   1   -0.0001        0      3   9344     0.638    \nx2   1    0.0002        1      3   9344 < 2.2e-16 ***\nx3   1   -0.0502     -149      3   9344 < 2.2e-16 ***\nx4   1    0.9370    46286      3   9344 1.053e-14 ***\nx5   1    0.7041     7413      3   9344 < 2.2e-16 ***\nx6   1    0.0073       23      3   9344 < 2.2e-16 ***\nx7   1   -0.0060      -19      3   9344     0.638    \nx8   1    0.0412      134      3   9344 < 2.2e-16 ***\nx9   1  -11.3348    -2862      3   9344 < 2.2e-16 ***\nx10  1    0.0766      258      3   9344 1.053e-14 ***\n---\nSignif. codes:  0 ‘***’ 0.001 ‘**’ 0.01 ‘*’ 0.05 ‘.’ 0.1 ‘ ’ 1"
     },
     "metadata": {},
     "output_type": "display_data"
    }
   ]
  },
  {
   "cell_type": "markdown",
   "source": "#### Karena x1 dan x7 tidak signifikan maka akan dipisahkan untuk model ke-2 nya",
   "metadata": {
    "cell_id": "3658a1eadb1f4006aadbefdaee9b575f",
    "tags": [],
    "deepnote_cell_type": "markdown",
    "deepnote_cell_height": 54
   }
  },
  {
   "cell_type": "code",
   "metadata": {
    "cell_id": "fd827e5eb1ed4bb2a0a0258feb16adfe",
    "tags": [],
    "deepnote_to_be_reexecuted": false,
    "source_hash": "de602526",
    "execution_start": 1651561976828,
    "execution_millis": 42,
    "deepnote_cell_type": "code",
    "deepnote_cell_height": 276,
    "deepnote_output_heights": [
     161
    ]
   },
   "source": "mmr2 <- update(mmr, . ~ . - x1 - x7)\nanova(mmr, mmr2)",
   "execution_count": null,
   "outputs": [
    {
     "data": {
      "text/html": "<table class=\"dataframe\">\n<caption>A anova: 2 × 8</caption>\n<thead>\n\t<tr><th></th><th scope=col>Res.Df</th><th scope=col>Df</th><th scope=col>Gen.var.</th><th scope=col>Pillai</th><th scope=col>approx F</th><th scope=col>num Df</th><th scope=col>den Df</th><th scope=col>Pr(&gt;F)</th></tr>\n\t<tr><th></th><th scope=col>&lt;dbl&gt;</th><th scope=col>&lt;dbl&gt;</th><th scope=col>&lt;dbl&gt;</th><th scope=col>&lt;dbl&gt;</th><th scope=col>&lt;dbl&gt;</th><th scope=col>&lt;dbl&gt;</th><th scope=col>&lt;dbl&gt;</th><th scope=col>&lt;dbl&gt;</th></tr>\n</thead>\n<tbody>\n\t<tr><th scope=row>1</th><td>9346</td><td>NA</td><td>37.55749</td><td>      NA</td><td>      NA</td><td>NA</td><td>   NA</td><td>NA</td></tr>\n\t<tr><th scope=row>2</th><td>9348</td><td> 2</td><td>41.36782</td><td>0.252164</td><td>449.4077</td><td> 6</td><td>18690</td><td> 0</td></tr>\n</tbody>\n</table>\n",
      "text/markdown": "\nA anova: 2 × 8\n\n| <!--/--> | Res.Df &lt;dbl&gt; | Df &lt;dbl&gt; | Gen.var. &lt;dbl&gt; | Pillai &lt;dbl&gt; | approx F &lt;dbl&gt; | num Df &lt;dbl&gt; | den Df &lt;dbl&gt; | Pr(&gt;F) &lt;dbl&gt; |\n|---|---|---|---|---|---|---|---|---|\n| 1 | 9346 | NA | 37.55749 |       NA |       NA | NA |    NA | NA |\n| 2 | 9348 |  2 | 41.36782 | 0.252164 | 449.4077 |  6 | 18690 |  0 |\n\n",
      "text/latex": "A anova: 2 × 8\n\\begin{tabular}{r|llllllll}\n  & Res.Df & Df & Gen.var. & Pillai & approx F & num Df & den Df & Pr(>F)\\\\\n  & <dbl> & <dbl> & <dbl> & <dbl> & <dbl> & <dbl> & <dbl> & <dbl>\\\\\n\\hline\n\t1 & 9346 & NA & 37.55749 &       NA &       NA & NA &    NA & NA\\\\\n\t2 & 9348 &  2 & 41.36782 & 0.252164 & 449.4077 &  6 & 18690 &  0\\\\\n\\end{tabular}\n",
      "text/plain": "  Res.Df Df Gen.var. Pillai   approx F num Df den Df Pr(>F)\n1 9346   NA 37.55749       NA       NA NA        NA  NA    \n2 9348    2 41.36782 0.252164 449.4077  6     18690   0    "
     },
     "metadata": {},
     "output_type": "display_data"
    }
   ]
  },
  {
   "cell_type": "code",
   "metadata": {
    "cell_id": "d43230e5c26f4cdb8a0b166a90314129",
    "tags": [],
    "deepnote_to_be_reexecuted": false,
    "source_hash": "afdc50b6",
    "execution_start": 1651562072232,
    "execution_millis": 67,
    "deepnote_cell_type": "code",
    "deepnote_cell_height": 481.5625,
    "deepnote_output_heights": [
     366.5625
    ]
   },
   "source": "lh.out <- linearHypothesis(mmr, hypothesis.matrix = c(\"x1 = 0\", \"x7 = 0\"))\nlh.out",
   "execution_count": null,
   "outputs": [
    {
     "data": {
      "text/plain": "\nSum of squares and products for the hypothesis:\n            T         RH         AH\nT   1538.6408  2698.1802  2274.6997\nRH -3258.3836 -5751.3974 -4833.3904\nAH  -310.0926  -560.0352  -465.4882\n\nSum of squares and products for error:\n            T         RH        AH\nT   316254.94 -484284.16  72631.41\nRH -484284.16 1602086.66  34952.07\nAH   72631.41   34952.07 200431.63\n\nMultivariate Tests: \n                 Df  test stat   approx F num Df den Df  Pr(>F)\nPillai            2 -0.0008578 -1.3355282      6  18690 0.47029\nWilks             2  1.0008575 -1.3346245      6  18688 0.47029\nHotelling-Lawley  2 -0.0008565 -1.3337210      6  18686 0.47029\nRoy               2  0.0002705  0.8426716      3   9345 0.47029"
     },
     "metadata": {},
     "output_type": "display_data"
    }
   ]
  },
  {
   "cell_type": "markdown",
   "source": "### Uji Hipotesis Secara Manual",
   "metadata": {
    "cell_id": "c6c1dd2732f24b35a4956adc3a027f68",
    "tags": [],
    "deepnote_cell_type": "markdown",
    "deepnote_cell_height": 62
   }
  },
  {
   "cell_type": "markdown",
   "source": "#### Matriks E",
   "metadata": {
    "cell_id": "67014a49ce224a75b2760b26ed9a4c13",
    "tags": [],
    "deepnote_cell_type": "markdown",
    "deepnote_cell_height": 54
   }
  },
  {
   "cell_type": "code",
   "metadata": {
    "cell_id": "a613ef2a60e240d7966613b0c7394e97",
    "tags": [],
    "deepnote_to_be_reexecuted": false,
    "source_hash": "58296ee2",
    "execution_start": 1651562102341,
    "execution_millis": 17,
    "deepnote_cell_type": "code",
    "deepnote_cell_height": 276,
    "deepnote_output_heights": [
     161
    ]
   },
   "source": "E <- lh.out$SSPE\nE",
   "execution_count": null,
   "outputs": [
    {
     "data": {
      "text/html": "<table class=\"dataframe\">\n<caption>A matrix: 3 × 3 of type dbl</caption>\n<thead>\n\t<tr><th></th><th scope=col>T</th><th scope=col>RH</th><th scope=col>AH</th></tr>\n</thead>\n<tbody>\n\t<tr><th scope=row>T</th><td> 316254.94</td><td>-484284.16</td><td> 72631.41</td></tr>\n\t<tr><th scope=row>RH</th><td>-484284.16</td><td>1602086.66</td><td> 34952.07</td></tr>\n\t<tr><th scope=row>AH</th><td>  72631.41</td><td>  34952.07</td><td>200431.63</td></tr>\n</tbody>\n</table>\n",
      "text/markdown": "\nA matrix: 3 × 3 of type dbl\n\n| <!--/--> | T | RH | AH |\n|---|---|---|---|\n| T |  316254.94 | -484284.16 |  72631.41 |\n| RH | -484284.16 | 1602086.66 |  34952.07 |\n| AH |   72631.41 |   34952.07 | 200431.63 |\n\n",
      "text/latex": "A matrix: 3 × 3 of type dbl\n\\begin{tabular}{r|lll}\n  & T & RH & AH\\\\\n\\hline\n\tT &  316254.94 & -484284.16 &  72631.41\\\\\n\tRH & -484284.16 & 1602086.66 &  34952.07\\\\\n\tAH &   72631.41 &   34952.07 & 200431.63\\\\\n\\end{tabular}\n",
      "text/plain": "   T          RH         AH       \nT   316254.94 -484284.16  72631.41\nRH -484284.16 1602086.66  34952.07\nAH   72631.41   34952.07 200431.63"
     },
     "metadata": {},
     "output_type": "display_data"
    }
   ]
  },
  {
   "cell_type": "markdown",
   "source": "#### Matriks H",
   "metadata": {
    "cell_id": "3bd109f0f59d404c980b34ae7d6d478d",
    "tags": [],
    "deepnote_cell_type": "markdown",
    "deepnote_cell_height": 54
   }
  },
  {
   "cell_type": "code",
   "metadata": {
    "cell_id": "4724a2e1f247413fb31e4e871dcef6a8",
    "tags": [],
    "deepnote_to_be_reexecuted": false,
    "source_hash": "60cf1f09",
    "execution_start": 1651562145095,
    "execution_millis": 24,
    "deepnote_cell_type": "code",
    "deepnote_cell_height": 276,
    "deepnote_output_heights": [
     161
    ]
   },
   "source": "H <- lh.out$SSPH\nH",
   "execution_count": null,
   "outputs": [
    {
     "data": {
      "text/html": "<table class=\"dataframe\">\n<caption>A matrix: 3 × 3 of type dbl</caption>\n<thead>\n\t<tr><th></th><th scope=col>T</th><th scope=col>RH</th><th scope=col>AH</th></tr>\n</thead>\n<tbody>\n\t<tr><th scope=row>T</th><td> 1538.6408</td><td> 2698.1802</td><td> 2274.6997</td></tr>\n\t<tr><th scope=row>RH</th><td>-3258.3836</td><td>-5751.3974</td><td>-4833.3904</td></tr>\n\t<tr><th scope=row>AH</th><td> -310.0926</td><td> -560.0352</td><td> -465.4882</td></tr>\n</tbody>\n</table>\n",
      "text/markdown": "\nA matrix: 3 × 3 of type dbl\n\n| <!--/--> | T | RH | AH |\n|---|---|---|---|\n| T |  1538.6408 |  2698.1802 |  2274.6997 |\n| RH | -3258.3836 | -5751.3974 | -4833.3904 |\n| AH |  -310.0926 |  -560.0352 |  -465.4882 |\n\n",
      "text/latex": "A matrix: 3 × 3 of type dbl\n\\begin{tabular}{r|lll}\n  & T & RH & AH\\\\\n\\hline\n\tT &  1538.6408 &  2698.1802 &  2274.6997\\\\\n\tRH & -3258.3836 & -5751.3974 & -4833.3904\\\\\n\tAH &  -310.0926 &  -560.0352 &  -465.4882\\\\\n\\end{tabular}\n",
      "text/plain": "   T          RH         AH        \nT   1538.6408  2698.1802  2274.6997\nRH -3258.3836 -5751.3974 -4833.3904\nAH  -310.0926  -560.0352  -465.4882"
     },
     "metadata": {},
     "output_type": "display_data"
    }
   ]
  },
  {
   "cell_type": "markdown",
   "source": "#### Wilks Lambda",
   "metadata": {
    "cell_id": "959de4a7cb7c44d595c2c6ae6783c635",
    "tags": [],
    "deepnote_cell_type": "markdown",
    "deepnote_cell_height": 54
   }
  },
  {
   "cell_type": "code",
   "metadata": {
    "cell_id": "d0ef99ffd2a34a6a8403dc952682d849",
    "tags": [],
    "deepnote_to_be_reexecuted": false,
    "source_hash": "44c4bc14",
    "execution_start": 1651562290931,
    "execution_millis": 1,
    "deepnote_cell_type": "code",
    "deepnote_cell_height": 118.1875
   },
   "source": "Lambda <- det(E)/det(E + H); Lambda",
   "execution_count": null,
   "outputs": [
    {
     "data": {
      "text/html": "1.00085754462057",
      "text/markdown": "1.00085754462057",
      "text/latex": "1.00085754462057",
      "text/plain": "[1] 1.000858"
     },
     "metadata": {},
     "output_type": "display_data"
    }
   ]
  },
  {
   "cell_type": "markdown",
   "source": "#### Roy's Test",
   "metadata": {
    "cell_id": "61a6c44d845f4151b2a9677008009b01",
    "tags": [],
    "deepnote_cell_type": "markdown",
    "deepnote_cell_height": 54
   }
  },
  {
   "cell_type": "code",
   "metadata": {
    "cell_id": "44190e142c064d6f914501744fe8c631",
    "tags": [],
    "deepnote_to_be_reexecuted": false,
    "source_hash": "72210d38",
    "execution_start": 1651562362807,
    "execution_millis": 1,
    "deepnote_cell_type": "code",
    "deepnote_cell_height": 206.375
   },
   "source": "EinvH.eigen <- eigen(inv(E) %*% H)\nroy.stat <- EinvH.eigen$values[1]; roy.stat\ntheta <- roy.stat/(1+roy.stat); theta",
   "execution_count": null,
   "outputs": [
    {
     "data": {
      "text/html": "-0.0010953082719726",
      "text/markdown": "-0.0010953082719726",
      "text/latex": "-0.0010953082719726",
      "text/plain": "[1] -0.001095308"
     },
     "metadata": {},
     "output_type": "display_data"
    },
    {
     "data": {
      "text/html": "-0.00109650928766567",
      "text/markdown": "-0.00109650928766567",
      "text/latex": "-0.00109650928766567",
      "text/plain": "[1] -0.001096509"
     },
     "metadata": {},
     "output_type": "display_data"
    }
   ]
  },
  {
   "cell_type": "markdown",
   "source": "#### Pillai Test",
   "metadata": {
    "cell_id": "eef94435542047ff99af0e79a7d2606c",
    "tags": [],
    "deepnote_cell_type": "markdown",
    "deepnote_cell_height": 54
   }
  },
  {
   "cell_type": "code",
   "metadata": {
    "cell_id": "0ff93ccbe01043e29ac3543dac7056b0",
    "tags": [],
    "deepnote_to_be_reexecuted": false,
    "source_hash": "18c6de0f",
    "execution_start": 1651562435581,
    "execution_millis": 22,
    "deepnote_cell_type": "code",
    "deepnote_cell_height": 188.375
   },
   "source": "pillai.stat <- sum(diag(inv(E + H) %*% H)); pillai.stat\nsum(EinvH.eigen$values / (1 + EinvH.eigen$values))",
   "execution_count": null,
   "outputs": [
    {
     "data": {
      "text/html": "-0.000882785841906926",
      "text/markdown": "-0.000882785841906926",
      "text/latex": "-0.000882785841906926",
      "text/plain": "[1] -0.0008827858"
     },
     "metadata": {},
     "output_type": "display_data"
    },
    {
     "data": {
      "text/html": "-0.000818622310473717",
      "text/markdown": "-0.000818622310473717",
      "text/latex": "-0.000818622310473717",
      "text/plain": "[1] -0.0008186223"
     },
     "metadata": {},
     "output_type": "display_data"
    }
   ]
  },
  {
   "cell_type": "markdown",
   "source": "#### Lawley-Hotelling Test",
   "metadata": {
    "cell_id": "d837466536fe4cf880b28e3c28d01105",
    "tags": [],
    "owner_user_id": "88bb285e-1821-4303-b73f-9604c9b85243",
    "deepnote_cell_type": "markdown",
    "deepnote_cell_height": 54
   }
  },
  {
   "cell_type": "code",
   "metadata": {
    "cell_id": "6dc4456104ff4854b7300910def3f360",
    "tags": [],
    "deepnote_to_be_reexecuted": false,
    "source_hash": "f872f662",
    "execution_start": 1651562460155,
    "execution_millis": 491,
    "deepnote_cell_type": "code",
    "deepnote_cell_height": 258.5625
   },
   "source": "lawhot.stat <- sum(diag(inv(E) %*% H)); lawhot.stat\nsum(EinvH.eigen$values)\n(28/4)*sum(EinvH.eigen$values)",
   "execution_count": null,
   "outputs": [
    {
     "data": {
      "text/html": "-0.000817344052143828",
      "text/markdown": "-0.000817344052143828",
      "text/latex": "-0.000817344052143828",
      "text/plain": "[1] -0.0008173441"
     },
     "metadata": {},
     "output_type": "display_data"
    },
    {
     "data": {
      "text/html": "-0.000817344052143826",
      "text/markdown": "-0.000817344052143826",
      "text/latex": "-0.000817344052143826",
      "text/plain": "[1] -0.0008173441"
     },
     "metadata": {},
     "output_type": "display_data"
    },
    {
     "data": {
      "text/html": "-0.00572140836500678",
      "text/markdown": "-0.00572140836500678",
      "text/latex": "-0.00572140836500678",
      "text/plain": "[1] -0.005721408"
     },
     "metadata": {},
     "output_type": "display_data"
    }
   ]
  },
  {
   "cell_type": "code",
   "metadata": {
    "cell_id": "1d93b5a44c594c96b31d91f2549db34a",
    "tags": [],
    "deepnote_cell_type": "code",
    "deepnote_cell_height": 66
   },
   "source": "",
   "execution_count": null,
   "outputs": []
  },
  {
   "cell_type": "markdown",
   "source": "<a style='text-decoration:none;line-height:16px;display:flex;color:#5B5B62;padding:10px;justify-content:end;' href='https://deepnote.com?utm_source=created-in-deepnote-cell&projectId=9416f3b3-1e5d-414d-be63-3674a828c8b9' target=\"_blank\">\n<img alt='Created in deepnote.com' style='display:inline;max-height:16px;margin:0px;margin-right:7.5px;' src='data:image/svg+xml;base64,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' > </img>\nCreated in <span style='font-weight:600;margin-left:4px;'>Deepnote</span></a>",
   "metadata": {
    "tags": [],
    "created_in_deepnote_cell": true,
    "deepnote_cell_type": "markdown"
   }
  }
 ],
 "nbformat": 4,
 "nbformat_minor": 2,
 "metadata": {
  "orig_nbformat": 2,
  "deepnote": {},
  "deepnote_notebook_id": "afa776a2-ce57-4057-9615-1257a2fb4dd5",
  "deepnote_execution_queue": []
 }
}