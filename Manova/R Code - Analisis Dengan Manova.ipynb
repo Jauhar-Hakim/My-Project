{
 "cells": [
  {
   "cell_type": "markdown",
   "source": "# Nama : Muhammad Jauhar Hakim\n# NPM : 2006463982\n\nSumber Data : https://www.kaggle.com/wyewlee/asean-sdg3-good-health-and-wellbeing?select=Infant+mortality+rate.csv\n\nPre-processing data : https://colab.research.google.com/drive/1hhxcMf63ABVuzh1IDDXQ42sCKISaFcoZ?usp=sharing",
   "metadata": {
    "cell_id": "00000-47368df7-6092-4127-a99f-aa87a9f6a2e3",
    "deepnote_app_coordinates": {
     "x": 0,
     "y": null,
     "w": 12,
     "h": 5
    },
    "deepnote_cell_type": "markdown"
   }
  },
  {
   "cell_type": "markdown",
   "source": "# Import Pacakge",
   "metadata": {
    "cell_id": "00001-67972827-dd71-4428-ae55-dadd69fbfcdd",
    "deepnote_app_coordinates": {
     "x": 0,
     "y": 6,
     "w": 12,
     "h": 5
    },
    "deepnote_cell_type": "markdown"
   }
  },
  {
   "cell_type": "code",
   "metadata": {
    "cell_id": "00002-9f635b3c-0983-448d-a735-3a4d37faf551",
    "deepnote_to_be_reexecuted": false,
    "source_hash": "d95901ef",
    "execution_start": 1641132237510,
    "execution_millis": 3025,
    "deepnote_app_coordinates": {
     "x": 0,
     "y": 12,
     "w": 12,
     "h": 5
    },
    "deepnote_cell_type": "code",
    "deepnote_output_heights": [
     null,
     1
    ]
   },
   "source": "packages <- c(\"matlib\",\"QuantPsyc\",\"biotools\",\"rstatix\",\"psych\")\nif ( length(missing_pkgs <- setdiff(packages, rownames(installed.packages()))) > 0) {\n  message(\"Installing missing package(s): \", paste(missing_pkgs, collapse = \", \"))\n  install.packages(missing_pkgs)\n}\nlapply(packages, library, character.only = TRUE)",
   "execution_count": null,
   "outputs": [
    {
     "name": "stderr",
     "text": "Loading required package: boot\n\nLoading required package: MASS\n\n\nAttaching package: ‘QuantPsyc’\n\n\nThe following object is masked from ‘package:base’:\n\n    norm\n\n\n---\nbiotools version 4.2\n\n\nAttaching package: ‘rstatix’\n\n\nThe following object is masked from ‘package:MASS’:\n\n    select\n\n\nThe following object is masked from ‘package:stats’:\n\n    filter\n\n\n\nAttaching package: ‘psych’\n\n\nThe following object is masked from ‘package:boot’:\n\n    logit\n\n\nThe following object is masked from ‘package:matlib’:\n\n    tr\n\n\n",
     "output_type": "stream",
     "data": {}
    },
    {
     "data": {
      "text/html": "<ol>\n\t<li><style>\n.list-inline {list-style: none; margin:0; padding: 0}\n.list-inline>li {display: inline-block}\n.list-inline>li:not(:last-child)::after {content: \"\\00b7\"; padding: 0 .5ex}\n</style>\n<ol class=list-inline><li>'matlib'</li><li>'stats'</li><li>'graphics'</li><li>'grDevices'</li><li>'utils'</li><li>'datasets'</li><li>'methods'</li><li>'base'</li></ol>\n</li>\n\t<li><style>\n.list-inline {list-style: none; margin:0; padding: 0}\n.list-inline>li {display: inline-block}\n.list-inline>li:not(:last-child)::after {content: \"\\00b7\"; padding: 0 .5ex}\n</style>\n<ol class=list-inline><li>'QuantPsyc'</li><li>'MASS'</li><li>'boot'</li><li>'matlib'</li><li>'stats'</li><li>'graphics'</li><li>'grDevices'</li><li>'utils'</li><li>'datasets'</li><li>'methods'</li><li>'base'</li></ol>\n</li>\n\t<li><style>\n.list-inline {list-style: none; margin:0; padding: 0}\n.list-inline>li {display: inline-block}\n.list-inline>li:not(:last-child)::after {content: \"\\00b7\"; padding: 0 .5ex}\n</style>\n<ol class=list-inline><li>'biotools'</li><li>'QuantPsyc'</li><li>'MASS'</li><li>'boot'</li><li>'matlib'</li><li>'stats'</li><li>'graphics'</li><li>'grDevices'</li><li>'utils'</li><li>'datasets'</li><li>'methods'</li><li>'base'</li></ol>\n</li>\n\t<li><style>\n.list-inline {list-style: none; margin:0; padding: 0}\n.list-inline>li {display: inline-block}\n.list-inline>li:not(:last-child)::after {content: \"\\00b7\"; padding: 0 .5ex}\n</style>\n<ol class=list-inline><li>'rstatix'</li><li>'biotools'</li><li>'QuantPsyc'</li><li>'MASS'</li><li>'boot'</li><li>'matlib'</li><li>'stats'</li><li>'graphics'</li><li>'grDevices'</li><li>'utils'</li><li>'datasets'</li><li>'methods'</li><li>'base'</li></ol>\n</li>\n\t<li><style>\n.list-inline {list-style: none; margin:0; padding: 0}\n.list-inline>li {display: inline-block}\n.list-inline>li:not(:last-child)::after {content: \"\\00b7\"; padding: 0 .5ex}\n</style>\n<ol class=list-inline><li>'psych'</li><li>'rstatix'</li><li>'biotools'</li><li>'QuantPsyc'</li><li>'MASS'</li><li>'boot'</li><li>'matlib'</li><li>'stats'</li><li>'graphics'</li><li>'grDevices'</li><li>'utils'</li><li>'datasets'</li><li>'methods'</li><li>'base'</li></ol>\n</li>\n</ol>\n",
      "text/markdown": "1. 1. 'matlib'\n2. 'stats'\n3. 'graphics'\n4. 'grDevices'\n5. 'utils'\n6. 'datasets'\n7. 'methods'\n8. 'base'\n\n\n\n2. 1. 'QuantPsyc'\n2. 'MASS'\n3. 'boot'\n4. 'matlib'\n5. 'stats'\n6. 'graphics'\n7. 'grDevices'\n8. 'utils'\n9. 'datasets'\n10. 'methods'\n11. 'base'\n\n\n\n3. 1. 'biotools'\n2. 'QuantPsyc'\n3. 'MASS'\n4. 'boot'\n5. 'matlib'\n6. 'stats'\n7. 'graphics'\n8. 'grDevices'\n9. 'utils'\n10. 'datasets'\n11. 'methods'\n12. 'base'\n\n\n\n4. 1. 'rstatix'\n2. 'biotools'\n3. 'QuantPsyc'\n4. 'MASS'\n5. 'boot'\n6. 'matlib'\n7. 'stats'\n8. 'graphics'\n9. 'grDevices'\n10. 'utils'\n11. 'datasets'\n12. 'methods'\n13. 'base'\n\n\n\n5. 1. 'psych'\n2. 'rstatix'\n3. 'biotools'\n4. 'QuantPsyc'\n5. 'MASS'\n6. 'boot'\n7. 'matlib'\n8. 'stats'\n9. 'graphics'\n10. 'grDevices'\n11. 'utils'\n12. 'datasets'\n13. 'methods'\n14. 'base'\n\n\n\n\n\n",
      "text/latex": "\\begin{enumerate}\n\\item \\begin{enumerate*}\n\\item 'matlib'\n\\item 'stats'\n\\item 'graphics'\n\\item 'grDevices'\n\\item 'utils'\n\\item 'datasets'\n\\item 'methods'\n\\item 'base'\n\\end{enumerate*}\n\n\\item \\begin{enumerate*}\n\\item 'QuantPsyc'\n\\item 'MASS'\n\\item 'boot'\n\\item 'matlib'\n\\item 'stats'\n\\item 'graphics'\n\\item 'grDevices'\n\\item 'utils'\n\\item 'datasets'\n\\item 'methods'\n\\item 'base'\n\\end{enumerate*}\n\n\\item \\begin{enumerate*}\n\\item 'biotools'\n\\item 'QuantPsyc'\n\\item 'MASS'\n\\item 'boot'\n\\item 'matlib'\n\\item 'stats'\n\\item 'graphics'\n\\item 'grDevices'\n\\item 'utils'\n\\item 'datasets'\n\\item 'methods'\n\\item 'base'\n\\end{enumerate*}\n\n\\item \\begin{enumerate*}\n\\item 'rstatix'\n\\item 'biotools'\n\\item 'QuantPsyc'\n\\item 'MASS'\n\\item 'boot'\n\\item 'matlib'\n\\item 'stats'\n\\item 'graphics'\n\\item 'grDevices'\n\\item 'utils'\n\\item 'datasets'\n\\item 'methods'\n\\item 'base'\n\\end{enumerate*}\n\n\\item \\begin{enumerate*}\n\\item 'psych'\n\\item 'rstatix'\n\\item 'biotools'\n\\item 'QuantPsyc'\n\\item 'MASS'\n\\item 'boot'\n\\item 'matlib'\n\\item 'stats'\n\\item 'graphics'\n\\item 'grDevices'\n\\item 'utils'\n\\item 'datasets'\n\\item 'methods'\n\\item 'base'\n\\end{enumerate*}\n\n\\end{enumerate}\n",
      "text/plain": "[[1]]\n[1] \"matlib\"    \"stats\"     \"graphics\"  \"grDevices\" \"utils\"     \"datasets\" \n[7] \"methods\"   \"base\"     \n\n[[2]]\n [1] \"QuantPsyc\" \"MASS\"      \"boot\"      \"matlib\"    \"stats\"     \"graphics\" \n [7] \"grDevices\" \"utils\"     \"datasets\"  \"methods\"   \"base\"     \n\n[[3]]\n [1] \"biotools\"  \"QuantPsyc\" \"MASS\"      \"boot\"      \"matlib\"    \"stats\"    \n [7] \"graphics\"  \"grDevices\" \"utils\"     \"datasets\"  \"methods\"   \"base\"     \n\n[[4]]\n [1] \"rstatix\"   \"biotools\"  \"QuantPsyc\" \"MASS\"      \"boot\"      \"matlib\"   \n [7] \"stats\"     \"graphics\"  \"grDevices\" \"utils\"     \"datasets\"  \"methods\"  \n[13] \"base\"     \n\n[[5]]\n [1] \"psych\"     \"rstatix\"   \"biotools\"  \"QuantPsyc\" \"MASS\"      \"boot\"     \n [7] \"matlib\"    \"stats\"     \"graphics\"  \"grDevices\" \"utils\"     \"datasets\" \n[13] \"methods\"   \"base\"     \n"
     },
     "metadata": {},
     "output_type": "display_data"
    }
   ]
  },
  {
   "cell_type": "markdown",
   "source": "# Import Data",
   "metadata": {
    "cell_id": "00005-2375a077-88c6-4233-a14c-6a1e7c352a9f",
    "deepnote_app_coordinates": {
     "x": 0,
     "y": 18,
     "w": 12,
     "h": 5
    },
    "deepnote_cell_type": "markdown"
   }
  },
  {
   "cell_type": "code",
   "metadata": {
    "cell_id": "00006-e69b700b-4cb9-4d59-b0b4-87c360e1d9c4",
    "deepnote_to_be_reexecuted": false,
    "source_hash": "19d820f3",
    "execution_start": 1641132240589,
    "execution_millis": 283,
    "deepnote_app_coordinates": {
     "x": 0,
     "y": 24,
     "w": 12,
     "h": 5
    },
    "deepnote_cell_type": "code",
    "deepnote_output_heights": [
     1
    ]
   },
   "source": "gabungan<-read.table(\"datasetfinal.csv\", header=TRUE, sep=\",\")\ny22 <- cbind('V1'=gabungan$Data.IMR,'V2'=gabungan$Data.CDR,'V3'=gabungan$Data.CBR)\ngabungan",
   "execution_count": null,
   "outputs": [
    {
     "data": {
      "text/html": "<table class=\"dataframe\">\n<caption>A data.frame: 35 × 5</caption>\n<thead>\n\t<tr><th scope=col>Negara</th><th scope=col>Tahun</th><th scope=col>Data.IMR</th><th scope=col>Data.CDR</th><th scope=col>Data.CBR</th></tr>\n\t<tr><th scope=col>&lt;chr&gt;</th><th scope=col>&lt;int&gt;</th><th scope=col>&lt;dbl&gt;</th><th scope=col>&lt;dbl&gt;</th><th scope=col>&lt;dbl&gt;</th></tr>\n</thead>\n<tbody>\n\t<tr><td>Indonesia</td><td>2004</td><td>33.9</td><td>7.2</td><td>20.2</td></tr>\n\t<tr><td>Indonesia</td><td>2005</td><td>28.9</td><td>7.3</td><td>20.1</td></tr>\n\t<tr><td>Indonesia</td><td>2006</td><td>30.8</td><td>7.2</td><td>17.7</td></tr>\n\t<tr><td>Indonesia</td><td>2007</td><td>31.9</td><td>6.3</td><td>18.7</td></tr>\n\t<tr><td>Indonesia</td><td>2008</td><td>31.9</td><td>6.3</td><td>18.6</td></tr>\n\t<tr><td>Indonesia</td><td>2009</td><td>31.9</td><td>6.3</td><td>18.2</td></tr>\n\t<tr><td>Indonesia</td><td>2010</td><td>34.0</td><td>7.0</td><td>18.2</td></tr>\n\t<tr><td>Malaysia </td><td>2004</td><td> 6.5</td><td>4.5</td><td>19.1</td></tr>\n\t<tr><td>Malaysia </td><td>2005</td><td> 6.6</td><td>4.5</td><td>18.5</td></tr>\n\t<tr><td>Malaysia </td><td>2006</td><td> 6.1</td><td>4.5</td><td>18.1</td></tr>\n\t<tr><td>Malaysia </td><td>2007</td><td> 6.3</td><td>4.4</td><td>17.6</td></tr>\n\t<tr><td>Malaysia </td><td>2008</td><td> 6.2</td><td>4.5</td><td>20.4</td></tr>\n\t<tr><td>Malaysia </td><td>2009</td><td> 6.9</td><td>4.5</td><td>20.0</td></tr>\n\t<tr><td>Malaysia </td><td>2010</td><td> 6.8</td><td>4.7</td><td>20.3</td></tr>\n\t<tr><td>Filipina </td><td>2004</td><td>35.0</td><td>5.1</td><td>24.6</td></tr>\n\t<tr><td>Filipina </td><td>2005</td><td>27.0</td><td>5.1</td><td>25.6</td></tr>\n\t<tr><td>Filipina </td><td>2006</td><td>25.0</td><td>5.6</td><td>24.1</td></tr>\n\t<tr><td>Filipina </td><td>2007</td><td>23.0</td><td>4.8</td><td>25.8</td></tr>\n\t<tr><td>Filipina </td><td>2008</td><td>24.5</td><td>4.8</td><td>24.7</td></tr>\n\t<tr><td>Filipina </td><td>2009</td><td>23.0</td><td>4.8</td><td>24.4</td></tr>\n\t<tr><td>Filipina </td><td>2010</td><td>24.5</td><td>5.8</td><td>25.1</td></tr>\n\t<tr><td>Singapur </td><td>2004</td><td> 2.0</td><td>4.4</td><td>11.4</td></tr>\n\t<tr><td>Singapur </td><td>2005</td><td> 2.1</td><td>4.4</td><td>10.4</td></tr>\n\t<tr><td>Singapur </td><td>2006</td><td> 2.6</td><td>4.3</td><td>10.1</td></tr>\n\t<tr><td>Singapur </td><td>2007</td><td> 2.1</td><td>4.5</td><td>10.3</td></tr>\n\t<tr><td>Singapur </td><td>2008</td><td> 2.1</td><td>4.4</td><td>10.2</td></tr>\n\t<tr><td>Singapur </td><td>2009</td><td> 2.2</td><td>4.3</td><td> 9.9</td></tr>\n\t<tr><td>Singapur </td><td>2010</td><td> 2.0</td><td>4.4</td><td> 9.3</td></tr>\n\t<tr><td>Thailand </td><td>2004</td><td> 7.5</td><td>6.8</td><td>14.5</td></tr>\n\t<tr><td>Thailand </td><td>2005</td><td> 7.6</td><td>6.8</td><td>13.0</td></tr>\n\t<tr><td>Thailand </td><td>2006</td><td> 7.4</td><td>7.9</td><td>12.9</td></tr>\n\t<tr><td>Thailand </td><td>2007</td><td> 7.2</td><td>8.5</td><td>14.6</td></tr>\n\t<tr><td>Thailand </td><td>2008</td><td> 7.3</td><td>9.0</td><td>14.5</td></tr>\n\t<tr><td>Thailand </td><td>2009</td><td> 7.1</td><td>6.2</td><td>14.4</td></tr>\n\t<tr><td>Thailand </td><td>2010</td><td> 7.0</td><td>6.5</td><td>12.1</td></tr>\n</tbody>\n</table>\n",
      "text/markdown": "\nA data.frame: 35 × 5\n\n| Negara &lt;chr&gt; | Tahun &lt;int&gt; | Data.IMR &lt;dbl&gt; | Data.CDR &lt;dbl&gt; | Data.CBR &lt;dbl&gt; |\n|---|---|---|---|---|\n| Indonesia | 2004 | 33.9 | 7.2 | 20.2 |\n| Indonesia | 2005 | 28.9 | 7.3 | 20.1 |\n| Indonesia | 2006 | 30.8 | 7.2 | 17.7 |\n| Indonesia | 2007 | 31.9 | 6.3 | 18.7 |\n| Indonesia | 2008 | 31.9 | 6.3 | 18.6 |\n| Indonesia | 2009 | 31.9 | 6.3 | 18.2 |\n| Indonesia | 2010 | 34.0 | 7.0 | 18.2 |\n| Malaysia  | 2004 |  6.5 | 4.5 | 19.1 |\n| Malaysia  | 2005 |  6.6 | 4.5 | 18.5 |\n| Malaysia  | 2006 |  6.1 | 4.5 | 18.1 |\n| Malaysia  | 2007 |  6.3 | 4.4 | 17.6 |\n| Malaysia  | 2008 |  6.2 | 4.5 | 20.4 |\n| Malaysia  | 2009 |  6.9 | 4.5 | 20.0 |\n| Malaysia  | 2010 |  6.8 | 4.7 | 20.3 |\n| Filipina  | 2004 | 35.0 | 5.1 | 24.6 |\n| Filipina  | 2005 | 27.0 | 5.1 | 25.6 |\n| Filipina  | 2006 | 25.0 | 5.6 | 24.1 |\n| Filipina  | 2007 | 23.0 | 4.8 | 25.8 |\n| Filipina  | 2008 | 24.5 | 4.8 | 24.7 |\n| Filipina  | 2009 | 23.0 | 4.8 | 24.4 |\n| Filipina  | 2010 | 24.5 | 5.8 | 25.1 |\n| Singapur  | 2004 |  2.0 | 4.4 | 11.4 |\n| Singapur  | 2005 |  2.1 | 4.4 | 10.4 |\n| Singapur  | 2006 |  2.6 | 4.3 | 10.1 |\n| Singapur  | 2007 |  2.1 | 4.5 | 10.3 |\n| Singapur  | 2008 |  2.1 | 4.4 | 10.2 |\n| Singapur  | 2009 |  2.2 | 4.3 |  9.9 |\n| Singapur  | 2010 |  2.0 | 4.4 |  9.3 |\n| Thailand  | 2004 |  7.5 | 6.8 | 14.5 |\n| Thailand  | 2005 |  7.6 | 6.8 | 13.0 |\n| Thailand  | 2006 |  7.4 | 7.9 | 12.9 |\n| Thailand  | 2007 |  7.2 | 8.5 | 14.6 |\n| Thailand  | 2008 |  7.3 | 9.0 | 14.5 |\n| Thailand  | 2009 |  7.1 | 6.2 | 14.4 |\n| Thailand  | 2010 |  7.0 | 6.5 | 12.1 |\n\n",
      "text/latex": "A data.frame: 35 × 5\n\\begin{tabular}{lllll}\n Negara & Tahun & Data.IMR & Data.CDR & Data.CBR\\\\\n <chr> & <int> & <dbl> & <dbl> & <dbl>\\\\\n\\hline\n\t Indonesia & 2004 & 33.9 & 7.2 & 20.2\\\\\n\t Indonesia & 2005 & 28.9 & 7.3 & 20.1\\\\\n\t Indonesia & 2006 & 30.8 & 7.2 & 17.7\\\\\n\t Indonesia & 2007 & 31.9 & 6.3 & 18.7\\\\\n\t Indonesia & 2008 & 31.9 & 6.3 & 18.6\\\\\n\t Indonesia & 2009 & 31.9 & 6.3 & 18.2\\\\\n\t Indonesia & 2010 & 34.0 & 7.0 & 18.2\\\\\n\t Malaysia  & 2004 &  6.5 & 4.5 & 19.1\\\\\n\t Malaysia  & 2005 &  6.6 & 4.5 & 18.5\\\\\n\t Malaysia  & 2006 &  6.1 & 4.5 & 18.1\\\\\n\t Malaysia  & 2007 &  6.3 & 4.4 & 17.6\\\\\n\t Malaysia  & 2008 &  6.2 & 4.5 & 20.4\\\\\n\t Malaysia  & 2009 &  6.9 & 4.5 & 20.0\\\\\n\t Malaysia  & 2010 &  6.8 & 4.7 & 20.3\\\\\n\t Filipina  & 2004 & 35.0 & 5.1 & 24.6\\\\\n\t Filipina  & 2005 & 27.0 & 5.1 & 25.6\\\\\n\t Filipina  & 2006 & 25.0 & 5.6 & 24.1\\\\\n\t Filipina  & 2007 & 23.0 & 4.8 & 25.8\\\\\n\t Filipina  & 2008 & 24.5 & 4.8 & 24.7\\\\\n\t Filipina  & 2009 & 23.0 & 4.8 & 24.4\\\\\n\t Filipina  & 2010 & 24.5 & 5.8 & 25.1\\\\\n\t Singapur  & 2004 &  2.0 & 4.4 & 11.4\\\\\n\t Singapur  & 2005 &  2.1 & 4.4 & 10.4\\\\\n\t Singapur  & 2006 &  2.6 & 4.3 & 10.1\\\\\n\t Singapur  & 2007 &  2.1 & 4.5 & 10.3\\\\\n\t Singapur  & 2008 &  2.1 & 4.4 & 10.2\\\\\n\t Singapur  & 2009 &  2.2 & 4.3 &  9.9\\\\\n\t Singapur  & 2010 &  2.0 & 4.4 &  9.3\\\\\n\t Thailand  & 2004 &  7.5 & 6.8 & 14.5\\\\\n\t Thailand  & 2005 &  7.6 & 6.8 & 13.0\\\\\n\t Thailand  & 2006 &  7.4 & 7.9 & 12.9\\\\\n\t Thailand  & 2007 &  7.2 & 8.5 & 14.6\\\\\n\t Thailand  & 2008 &  7.3 & 9.0 & 14.5\\\\\n\t Thailand  & 2009 &  7.1 & 6.2 & 14.4\\\\\n\t Thailand  & 2010 &  7.0 & 6.5 & 12.1\\\\\n\\end{tabular}\n",
      "text/plain": "   Negara    Tahun Data.IMR Data.CDR Data.CBR\n1  Indonesia 2004  33.9     7.2      20.2    \n2  Indonesia 2005  28.9     7.3      20.1    \n3  Indonesia 2006  30.8     7.2      17.7    \n4  Indonesia 2007  31.9     6.3      18.7    \n5  Indonesia 2008  31.9     6.3      18.6    \n6  Indonesia 2009  31.9     6.3      18.2    \n7  Indonesia 2010  34.0     7.0      18.2    \n8  Malaysia  2004   6.5     4.5      19.1    \n9  Malaysia  2005   6.6     4.5      18.5    \n10 Malaysia  2006   6.1     4.5      18.1    \n11 Malaysia  2007   6.3     4.4      17.6    \n12 Malaysia  2008   6.2     4.5      20.4    \n13 Malaysia  2009   6.9     4.5      20.0    \n14 Malaysia  2010   6.8     4.7      20.3    \n15 Filipina  2004  35.0     5.1      24.6    \n16 Filipina  2005  27.0     5.1      25.6    \n17 Filipina  2006  25.0     5.6      24.1    \n18 Filipina  2007  23.0     4.8      25.8    \n19 Filipina  2008  24.5     4.8      24.7    \n20 Filipina  2009  23.0     4.8      24.4    \n21 Filipina  2010  24.5     5.8      25.1    \n22 Singapur  2004   2.0     4.4      11.4    \n23 Singapur  2005   2.1     4.4      10.4    \n24 Singapur  2006   2.6     4.3      10.1    \n25 Singapur  2007   2.1     4.5      10.3    \n26 Singapur  2008   2.1     4.4      10.2    \n27 Singapur  2009   2.2     4.3       9.9    \n28 Singapur  2010   2.0     4.4       9.3    \n29 Thailand  2004   7.5     6.8      14.5    \n30 Thailand  2005   7.6     6.8      13.0    \n31 Thailand  2006   7.4     7.9      12.9    \n32 Thailand  2007   7.2     8.5      14.6    \n33 Thailand  2008   7.3     9.0      14.5    \n34 Thailand  2009   7.1     6.2      14.4    \n35 Thailand  2010   7.0     6.5      12.1    "
     },
     "metadata": {},
     "output_type": "display_data"
    }
   ]
  },
  {
   "cell_type": "markdown",
   "source": "# Statistik Deskriptif",
   "metadata": {
    "tags": [],
    "cell_id": "00005-aa9f6771-a143-4b5c-80ee-3bb760a32d34",
    "deepnote_app_coordinates": {
     "x": 0,
     "y": 30,
     "w": 12,
     "h": 5
    },
    "deepnote_cell_type": "markdown"
   }
  },
  {
   "cell_type": "code",
   "metadata": {
    "tags": [],
    "cell_id": "00005-702a3b02-a82f-43ee-8cf0-6c09a04299d1",
    "deepnote_to_be_reexecuted": false,
    "source_hash": "a55d9a1f",
    "execution_start": 1641132240665,
    "execution_millis": 208,
    "deepnote_app_coordinates": {
     "x": 0,
     "y": 36,
     "w": 12,
     "h": 5
    },
    "deepnote_cell_type": "code",
    "deepnote_output_heights": [
     190
    ]
   },
   "source": "describe(y22)",
   "execution_count": null,
   "outputs": [
    {
     "data": {
      "text/html": "<table class=\"dataframe\">\n<caption>A psych: 3 × 13</caption>\n<thead>\n\t<tr><th></th><th scope=col>vars</th><th scope=col>n</th><th scope=col>mean</th><th scope=col>sd</th><th scope=col>median</th><th scope=col>trimmed</th><th scope=col>mad</th><th scope=col>min</th><th scope=col>max</th><th scope=col>range</th><th scope=col>skew</th><th scope=col>kurtosis</th><th scope=col>se</th></tr>\n\t<tr><th></th><th scope=col>&lt;int&gt;</th><th scope=col>&lt;dbl&gt;</th><th scope=col>&lt;dbl&gt;</th><th scope=col>&lt;dbl&gt;</th><th scope=col>&lt;dbl&gt;</th><th scope=col>&lt;dbl&gt;</th><th scope=col>&lt;dbl&gt;</th><th scope=col>&lt;dbl&gt;</th><th scope=col>&lt;dbl&gt;</th><th scope=col>&lt;dbl&gt;</th><th scope=col>&lt;dbl&gt;</th><th scope=col>&lt;dbl&gt;</th><th scope=col>&lt;dbl&gt;</th></tr>\n</thead>\n<tbody>\n\t<tr><th scope=row>V1</th><td>1</td><td>35</td><td>14.768571</td><td>12.183228</td><td> 7.3</td><td>14.065517</td><td>7.70952</td><td>2.0</td><td>35.0</td><td>33.0</td><td>0.46319567</td><td>-1.5794011</td><td>2.0593414</td></tr>\n\t<tr><th scope=row>V2</th><td>2</td><td>35</td><td> 5.645714</td><td> 1.348058</td><td> 5.1</td><td> 5.489655</td><td>1.03782</td><td>4.3</td><td> 9.0</td><td> 4.7</td><td>0.75966268</td><td>-0.5992533</td><td>0.2278634</td></tr>\n\t<tr><th scope=row>V3</th><td>3</td><td>35</td><td>17.360000</td><td> 5.168468</td><td>18.2</td><td>17.303448</td><td>5.63388</td><td>9.3</td><td>25.8</td><td>16.5</td><td>0.03774345</td><td>-1.2223094</td><td>0.8736305</td></tr>\n</tbody>\n</table>\n",
      "text/markdown": "\nA psych: 3 × 13\n\n| <!--/--> | vars &lt;int&gt; | n &lt;dbl&gt; | mean &lt;dbl&gt; | sd &lt;dbl&gt; | median &lt;dbl&gt; | trimmed &lt;dbl&gt; | mad &lt;dbl&gt; | min &lt;dbl&gt; | max &lt;dbl&gt; | range &lt;dbl&gt; | skew &lt;dbl&gt; | kurtosis &lt;dbl&gt; | se &lt;dbl&gt; |\n|---|---|---|---|---|---|---|---|---|---|---|---|---|---|\n| V1 | 1 | 35 | 14.768571 | 12.183228 |  7.3 | 14.065517 | 7.70952 | 2.0 | 35.0 | 33.0 | 0.46319567 | -1.5794011 | 2.0593414 |\n| V2 | 2 | 35 |  5.645714 |  1.348058 |  5.1 |  5.489655 | 1.03782 | 4.3 |  9.0 |  4.7 | 0.75966268 | -0.5992533 | 0.2278634 |\n| V3 | 3 | 35 | 17.360000 |  5.168468 | 18.2 | 17.303448 | 5.63388 | 9.3 | 25.8 | 16.5 | 0.03774345 | -1.2223094 | 0.8736305 |\n\n",
      "text/latex": "A psych: 3 × 13\n\\begin{tabular}{r|lllllllllllll}\n  & vars & n & mean & sd & median & trimmed & mad & min & max & range & skew & kurtosis & se\\\\\n  & <int> & <dbl> & <dbl> & <dbl> & <dbl> & <dbl> & <dbl> & <dbl> & <dbl> & <dbl> & <dbl> & <dbl> & <dbl>\\\\\n\\hline\n\tV1 & 1 & 35 & 14.768571 & 12.183228 &  7.3 & 14.065517 & 7.70952 & 2.0 & 35.0 & 33.0 & 0.46319567 & -1.5794011 & 2.0593414\\\\\n\tV2 & 2 & 35 &  5.645714 &  1.348058 &  5.1 &  5.489655 & 1.03782 & 4.3 &  9.0 &  4.7 & 0.75966268 & -0.5992533 & 0.2278634\\\\\n\tV3 & 3 & 35 & 17.360000 &  5.168468 & 18.2 & 17.303448 & 5.63388 & 9.3 & 25.8 & 16.5 & 0.03774345 & -1.2223094 & 0.8736305\\\\\n\\end{tabular}\n",
      "text/plain": "   vars n  mean      sd        median trimmed   mad     min max  range\nV1 1    35 14.768571 12.183228  7.3   14.065517 7.70952 2.0 35.0 33.0 \nV2 2    35  5.645714  1.348058  5.1    5.489655 1.03782 4.3  9.0  4.7 \nV3 3    35 17.360000  5.168468 18.2   17.303448 5.63388 9.3 25.8 16.5 \n   skew       kurtosis   se       \nV1 0.46319567 -1.5794011 2.0593414\nV2 0.75966268 -0.5992533 0.2278634\nV3 0.03774345 -1.2223094 0.8736305"
     },
     "metadata": {},
     "output_type": "display_data"
    }
   ]
  },
  {
   "cell_type": "markdown",
   "source": "# Uji Asumsi Multivariat Normal\n\n#### Hipotesis\n\n$H_0$ : Data berdistribusi Multivariat Normal\n\n$H_1$ : Data tidak berdistribusi Multivariat Normal\n\n#### Aturan Keputusan\n\nTolak $H_0$ jika $p-value < \\alpha$",
   "metadata": {
    "cell_id": "00007-b7be1fc2-b650-4246-9452-3743ec4326de",
    "deepnote_app_coordinates": {
     "x": 0,
     "y": 42,
     "w": 12,
     "h": 5
    },
    "deepnote_cell_type": "markdown"
   }
  },
  {
   "cell_type": "code",
   "metadata": {
    "cell_id": "00008-2b94dbcb-3881-4d5c-b30b-aa416ca1f30a",
    "deepnote_to_be_reexecuted": false,
    "source_hash": "80dd68fd",
    "execution_start": 1641132240753,
    "execution_millis": 122,
    "deepnote_app_coordinates": {
     "x": 0,
     "y": 48,
     "w": 12,
     "h": 5
    },
    "deepnote_cell_type": "code",
    "deepnote_output_heights": [
     1,
     1
    ]
   },
   "source": "gabungan$Negara <- as.factor(gabungan$Negara)\ngabungan$Negara\n\ngabungan.group <- split(gabungan[,3:5], gabungan$Negara)\ngabungan.group",
   "execution_count": null,
   "outputs": [
    {
     "data": {
      "text/html": "<style>\n.list-inline {list-style: none; margin:0; padding: 0}\n.list-inline>li {display: inline-block}\n.list-inline>li:not(:last-child)::after {content: \"\\00b7\"; padding: 0 .5ex}\n</style>\n<ol class=list-inline><li>Indonesia</li><li>Indonesia</li><li>Indonesia</li><li>Indonesia</li><li>Indonesia</li><li>Indonesia</li><li>Indonesia</li><li>Malaysia</li><li>Malaysia</li><li>Malaysia</li><li>Malaysia</li><li>Malaysia</li><li>Malaysia</li><li>Malaysia</li><li>Filipina</li><li>Filipina</li><li>Filipina</li><li>Filipina</li><li>Filipina</li><li>Filipina</li><li>Filipina</li><li>Singapur</li><li>Singapur</li><li>Singapur</li><li>Singapur</li><li>Singapur</li><li>Singapur</li><li>Singapur</li><li>Thailand</li><li>Thailand</li><li>Thailand</li><li>Thailand</li><li>Thailand</li><li>Thailand</li><li>Thailand</li></ol>\n\n<details>\n\t<summary style=display:list-item;cursor:pointer>\n\t\t<strong>Levels</strong>:\n\t</summary>\n\t<style>\n\t.list-inline {list-style: none; margin:0; padding: 0}\n\t.list-inline>li {display: inline-block}\n\t.list-inline>li:not(:last-child)::after {content: \"\\00b7\"; padding: 0 .5ex}\n\t</style>\n\t<ol class=list-inline><li>'Filipina'</li><li>'Indonesia'</li><li>'Malaysia'</li><li>'Singapur'</li><li>'Thailand'</li></ol>\n</details>",
      "text/markdown": "1. Indonesia\n2. Indonesia\n3. Indonesia\n4. Indonesia\n5. Indonesia\n6. Indonesia\n7. Indonesia\n8. Malaysia\n9. Malaysia\n10. Malaysia\n11. Malaysia\n12. Malaysia\n13. Malaysia\n14. Malaysia\n15. Filipina\n16. Filipina\n17. Filipina\n18. Filipina\n19. Filipina\n20. Filipina\n21. Filipina\n22. Singapur\n23. Singapur\n24. Singapur\n25. Singapur\n26. Singapur\n27. Singapur\n28. Singapur\n29. Thailand\n30. Thailand\n31. Thailand\n32. Thailand\n33. Thailand\n34. Thailand\n35. Thailand\n\n\n\n**Levels**: 1. 'Filipina'\n2. 'Indonesia'\n3. 'Malaysia'\n4. 'Singapur'\n5. 'Thailand'\n\n\n",
      "text/latex": "\\begin{enumerate*}\n\\item Indonesia\n\\item Indonesia\n\\item Indonesia\n\\item Indonesia\n\\item Indonesia\n\\item Indonesia\n\\item Indonesia\n\\item Malaysia\n\\item Malaysia\n\\item Malaysia\n\\item Malaysia\n\\item Malaysia\n\\item Malaysia\n\\item Malaysia\n\\item Filipina\n\\item Filipina\n\\item Filipina\n\\item Filipina\n\\item Filipina\n\\item Filipina\n\\item Filipina\n\\item Singapur\n\\item Singapur\n\\item Singapur\n\\item Singapur\n\\item Singapur\n\\item Singapur\n\\item Singapur\n\\item Thailand\n\\item Thailand\n\\item Thailand\n\\item Thailand\n\\item Thailand\n\\item Thailand\n\\item Thailand\n\\end{enumerate*}\n\n\\emph{Levels}: \\begin{enumerate*}\n\\item 'Filipina'\n\\item 'Indonesia'\n\\item 'Malaysia'\n\\item 'Singapur'\n\\item 'Thailand'\n\\end{enumerate*}\n",
      "text/plain": " [1] Indonesia Indonesia Indonesia Indonesia Indonesia Indonesia Indonesia\n [8] Malaysia  Malaysia  Malaysia  Malaysia  Malaysia  Malaysia  Malaysia \n[15] Filipina  Filipina  Filipina  Filipina  Filipina  Filipina  Filipina \n[22] Singapur  Singapur  Singapur  Singapur  Singapur  Singapur  Singapur \n[29] Thailand  Thailand  Thailand  Thailand  Thailand  Thailand  Thailand \nLevels: Filipina Indonesia Malaysia Singapur Thailand"
     },
     "metadata": {},
     "output_type": "display_data"
    },
    {
     "data": {
      "text/html": "<dl>\n\t<dt>$Filipina</dt>\n\t\t<dd><table class=\"dataframe\">\n<caption>A data.frame: 7 × 3</caption>\n<thead>\n\t<tr><th></th><th scope=col>Data.IMR</th><th scope=col>Data.CDR</th><th scope=col>Data.CBR</th></tr>\n\t<tr><th></th><th scope=col>&lt;dbl&gt;</th><th scope=col>&lt;dbl&gt;</th><th scope=col>&lt;dbl&gt;</th></tr>\n</thead>\n<tbody>\n\t<tr><th scope=row>15</th><td>35.0</td><td>5.1</td><td>24.6</td></tr>\n\t<tr><th scope=row>16</th><td>27.0</td><td>5.1</td><td>25.6</td></tr>\n\t<tr><th scope=row>17</th><td>25.0</td><td>5.6</td><td>24.1</td></tr>\n\t<tr><th scope=row>18</th><td>23.0</td><td>4.8</td><td>25.8</td></tr>\n\t<tr><th scope=row>19</th><td>24.5</td><td>4.8</td><td>24.7</td></tr>\n\t<tr><th scope=row>20</th><td>23.0</td><td>4.8</td><td>24.4</td></tr>\n\t<tr><th scope=row>21</th><td>24.5</td><td>5.8</td><td>25.1</td></tr>\n</tbody>\n</table>\n</dd>\n\t<dt>$Indonesia</dt>\n\t\t<dd><table class=\"dataframe\">\n<caption>A data.frame: 7 × 3</caption>\n<thead>\n\t<tr><th></th><th scope=col>Data.IMR</th><th scope=col>Data.CDR</th><th scope=col>Data.CBR</th></tr>\n\t<tr><th></th><th scope=col>&lt;dbl&gt;</th><th scope=col>&lt;dbl&gt;</th><th scope=col>&lt;dbl&gt;</th></tr>\n</thead>\n<tbody>\n\t<tr><th scope=row>1</th><td>33.9</td><td>7.2</td><td>20.2</td></tr>\n\t<tr><th scope=row>2</th><td>28.9</td><td>7.3</td><td>20.1</td></tr>\n\t<tr><th scope=row>3</th><td>30.8</td><td>7.2</td><td>17.7</td></tr>\n\t<tr><th scope=row>4</th><td>31.9</td><td>6.3</td><td>18.7</td></tr>\n\t<tr><th scope=row>5</th><td>31.9</td><td>6.3</td><td>18.6</td></tr>\n\t<tr><th scope=row>6</th><td>31.9</td><td>6.3</td><td>18.2</td></tr>\n\t<tr><th scope=row>7</th><td>34.0</td><td>7.0</td><td>18.2</td></tr>\n</tbody>\n</table>\n</dd>\n\t<dt>$Malaysia</dt>\n\t\t<dd><table class=\"dataframe\">\n<caption>A data.frame: 7 × 3</caption>\n<thead>\n\t<tr><th></th><th scope=col>Data.IMR</th><th scope=col>Data.CDR</th><th scope=col>Data.CBR</th></tr>\n\t<tr><th></th><th scope=col>&lt;dbl&gt;</th><th scope=col>&lt;dbl&gt;</th><th scope=col>&lt;dbl&gt;</th></tr>\n</thead>\n<tbody>\n\t<tr><th scope=row>8</th><td>6.5</td><td>4.5</td><td>19.1</td></tr>\n\t<tr><th scope=row>9</th><td>6.6</td><td>4.5</td><td>18.5</td></tr>\n\t<tr><th scope=row>10</th><td>6.1</td><td>4.5</td><td>18.1</td></tr>\n\t<tr><th scope=row>11</th><td>6.3</td><td>4.4</td><td>17.6</td></tr>\n\t<tr><th scope=row>12</th><td>6.2</td><td>4.5</td><td>20.4</td></tr>\n\t<tr><th scope=row>13</th><td>6.9</td><td>4.5</td><td>20.0</td></tr>\n\t<tr><th scope=row>14</th><td>6.8</td><td>4.7</td><td>20.3</td></tr>\n</tbody>\n</table>\n</dd>\n\t<dt>$Singapur</dt>\n\t\t<dd><table class=\"dataframe\">\n<caption>A data.frame: 7 × 3</caption>\n<thead>\n\t<tr><th></th><th scope=col>Data.IMR</th><th scope=col>Data.CDR</th><th scope=col>Data.CBR</th></tr>\n\t<tr><th></th><th scope=col>&lt;dbl&gt;</th><th scope=col>&lt;dbl&gt;</th><th scope=col>&lt;dbl&gt;</th></tr>\n</thead>\n<tbody>\n\t<tr><th scope=row>22</th><td>2.0</td><td>4.4</td><td>11.4</td></tr>\n\t<tr><th scope=row>23</th><td>2.1</td><td>4.4</td><td>10.4</td></tr>\n\t<tr><th scope=row>24</th><td>2.6</td><td>4.3</td><td>10.1</td></tr>\n\t<tr><th scope=row>25</th><td>2.1</td><td>4.5</td><td>10.3</td></tr>\n\t<tr><th scope=row>26</th><td>2.1</td><td>4.4</td><td>10.2</td></tr>\n\t<tr><th scope=row>27</th><td>2.2</td><td>4.3</td><td> 9.9</td></tr>\n\t<tr><th scope=row>28</th><td>2.0</td><td>4.4</td><td> 9.3</td></tr>\n</tbody>\n</table>\n</dd>\n\t<dt>$Thailand</dt>\n\t\t<dd><table class=\"dataframe\">\n<caption>A data.frame: 7 × 3</caption>\n<thead>\n\t<tr><th></th><th scope=col>Data.IMR</th><th scope=col>Data.CDR</th><th scope=col>Data.CBR</th></tr>\n\t<tr><th></th><th scope=col>&lt;dbl&gt;</th><th scope=col>&lt;dbl&gt;</th><th scope=col>&lt;dbl&gt;</th></tr>\n</thead>\n<tbody>\n\t<tr><th scope=row>29</th><td>7.5</td><td>6.8</td><td>14.5</td></tr>\n\t<tr><th scope=row>30</th><td>7.6</td><td>6.8</td><td>13.0</td></tr>\n\t<tr><th scope=row>31</th><td>7.4</td><td>7.9</td><td>12.9</td></tr>\n\t<tr><th scope=row>32</th><td>7.2</td><td>8.5</td><td>14.6</td></tr>\n\t<tr><th scope=row>33</th><td>7.3</td><td>9.0</td><td>14.5</td></tr>\n\t<tr><th scope=row>34</th><td>7.1</td><td>6.2</td><td>14.4</td></tr>\n\t<tr><th scope=row>35</th><td>7.0</td><td>6.5</td><td>12.1</td></tr>\n</tbody>\n</table>\n</dd>\n</dl>\n",
      "text/markdown": "$Filipina\n:   \nA data.frame: 7 × 3\n\n| <!--/--> | Data.IMR &lt;dbl&gt; | Data.CDR &lt;dbl&gt; | Data.CBR &lt;dbl&gt; |\n|---|---|---|---|\n| 15 | 35.0 | 5.1 | 24.6 |\n| 16 | 27.0 | 5.1 | 25.6 |\n| 17 | 25.0 | 5.6 | 24.1 |\n| 18 | 23.0 | 4.8 | 25.8 |\n| 19 | 24.5 | 4.8 | 24.7 |\n| 20 | 23.0 | 4.8 | 24.4 |\n| 21 | 24.5 | 5.8 | 25.1 |\n\n\n$Indonesia\n:   \nA data.frame: 7 × 3\n\n| <!--/--> | Data.IMR &lt;dbl&gt; | Data.CDR &lt;dbl&gt; | Data.CBR &lt;dbl&gt; |\n|---|---|---|---|\n| 1 | 33.9 | 7.2 | 20.2 |\n| 2 | 28.9 | 7.3 | 20.1 |\n| 3 | 30.8 | 7.2 | 17.7 |\n| 4 | 31.9 | 6.3 | 18.7 |\n| 5 | 31.9 | 6.3 | 18.6 |\n| 6 | 31.9 | 6.3 | 18.2 |\n| 7 | 34.0 | 7.0 | 18.2 |\n\n\n$Malaysia\n:   \nA data.frame: 7 × 3\n\n| <!--/--> | Data.IMR &lt;dbl&gt; | Data.CDR &lt;dbl&gt; | Data.CBR &lt;dbl&gt; |\n|---|---|---|---|\n| 8 | 6.5 | 4.5 | 19.1 |\n| 9 | 6.6 | 4.5 | 18.5 |\n| 10 | 6.1 | 4.5 | 18.1 |\n| 11 | 6.3 | 4.4 | 17.6 |\n| 12 | 6.2 | 4.5 | 20.4 |\n| 13 | 6.9 | 4.5 | 20.0 |\n| 14 | 6.8 | 4.7 | 20.3 |\n\n\n$Singapur\n:   \nA data.frame: 7 × 3\n\n| <!--/--> | Data.IMR &lt;dbl&gt; | Data.CDR &lt;dbl&gt; | Data.CBR &lt;dbl&gt; |\n|---|---|---|---|\n| 22 | 2.0 | 4.4 | 11.4 |\n| 23 | 2.1 | 4.4 | 10.4 |\n| 24 | 2.6 | 4.3 | 10.1 |\n| 25 | 2.1 | 4.5 | 10.3 |\n| 26 | 2.1 | 4.4 | 10.2 |\n| 27 | 2.2 | 4.3 |  9.9 |\n| 28 | 2.0 | 4.4 |  9.3 |\n\n\n$Thailand\n:   \nA data.frame: 7 × 3\n\n| <!--/--> | Data.IMR &lt;dbl&gt; | Data.CDR &lt;dbl&gt; | Data.CBR &lt;dbl&gt; |\n|---|---|---|---|\n| 29 | 7.5 | 6.8 | 14.5 |\n| 30 | 7.6 | 6.8 | 13.0 |\n| 31 | 7.4 | 7.9 | 12.9 |\n| 32 | 7.2 | 8.5 | 14.6 |\n| 33 | 7.3 | 9.0 | 14.5 |\n| 34 | 7.1 | 6.2 | 14.4 |\n| 35 | 7.0 | 6.5 | 12.1 |\n\n\n\n\n",
      "text/latex": "\\begin{description}\n\\item[\\$Filipina] A data.frame: 7 × 3\n\\begin{tabular}{r|lll}\n  & Data.IMR & Data.CDR & Data.CBR\\\\\n  & <dbl> & <dbl> & <dbl>\\\\\n\\hline\n\t15 & 35.0 & 5.1 & 24.6\\\\\n\t16 & 27.0 & 5.1 & 25.6\\\\\n\t17 & 25.0 & 5.6 & 24.1\\\\\n\t18 & 23.0 & 4.8 & 25.8\\\\\n\t19 & 24.5 & 4.8 & 24.7\\\\\n\t20 & 23.0 & 4.8 & 24.4\\\\\n\t21 & 24.5 & 5.8 & 25.1\\\\\n\\end{tabular}\n\n\\item[\\$Indonesia] A data.frame: 7 × 3\n\\begin{tabular}{r|lll}\n  & Data.IMR & Data.CDR & Data.CBR\\\\\n  & <dbl> & <dbl> & <dbl>\\\\\n\\hline\n\t1 & 33.9 & 7.2 & 20.2\\\\\n\t2 & 28.9 & 7.3 & 20.1\\\\\n\t3 & 30.8 & 7.2 & 17.7\\\\\n\t4 & 31.9 & 6.3 & 18.7\\\\\n\t5 & 31.9 & 6.3 & 18.6\\\\\n\t6 & 31.9 & 6.3 & 18.2\\\\\n\t7 & 34.0 & 7.0 & 18.2\\\\\n\\end{tabular}\n\n\\item[\\$Malaysia] A data.frame: 7 × 3\n\\begin{tabular}{r|lll}\n  & Data.IMR & Data.CDR & Data.CBR\\\\\n  & <dbl> & <dbl> & <dbl>\\\\\n\\hline\n\t8 & 6.5 & 4.5 & 19.1\\\\\n\t9 & 6.6 & 4.5 & 18.5\\\\\n\t10 & 6.1 & 4.5 & 18.1\\\\\n\t11 & 6.3 & 4.4 & 17.6\\\\\n\t12 & 6.2 & 4.5 & 20.4\\\\\n\t13 & 6.9 & 4.5 & 20.0\\\\\n\t14 & 6.8 & 4.7 & 20.3\\\\\n\\end{tabular}\n\n\\item[\\$Singapur] A data.frame: 7 × 3\n\\begin{tabular}{r|lll}\n  & Data.IMR & Data.CDR & Data.CBR\\\\\n  & <dbl> & <dbl> & <dbl>\\\\\n\\hline\n\t22 & 2.0 & 4.4 & 11.4\\\\\n\t23 & 2.1 & 4.4 & 10.4\\\\\n\t24 & 2.6 & 4.3 & 10.1\\\\\n\t25 & 2.1 & 4.5 & 10.3\\\\\n\t26 & 2.1 & 4.4 & 10.2\\\\\n\t27 & 2.2 & 4.3 &  9.9\\\\\n\t28 & 2.0 & 4.4 &  9.3\\\\\n\\end{tabular}\n\n\\item[\\$Thailand] A data.frame: 7 × 3\n\\begin{tabular}{r|lll}\n  & Data.IMR & Data.CDR & Data.CBR\\\\\n  & <dbl> & <dbl> & <dbl>\\\\\n\\hline\n\t29 & 7.5 & 6.8 & 14.5\\\\\n\t30 & 7.6 & 6.8 & 13.0\\\\\n\t31 & 7.4 & 7.9 & 12.9\\\\\n\t32 & 7.2 & 8.5 & 14.6\\\\\n\t33 & 7.3 & 9.0 & 14.5\\\\\n\t34 & 7.1 & 6.2 & 14.4\\\\\n\t35 & 7.0 & 6.5 & 12.1\\\\\n\\end{tabular}\n\n\\end{description}\n",
      "text/plain": "$Filipina\n   Data.IMR Data.CDR Data.CBR\n15     35.0      5.1     24.6\n16     27.0      5.1     25.6\n17     25.0      5.6     24.1\n18     23.0      4.8     25.8\n19     24.5      4.8     24.7\n20     23.0      4.8     24.4\n21     24.5      5.8     25.1\n\n$Indonesia\n  Data.IMR Data.CDR Data.CBR\n1     33.9      7.2     20.2\n2     28.9      7.3     20.1\n3     30.8      7.2     17.7\n4     31.9      6.3     18.7\n5     31.9      6.3     18.6\n6     31.9      6.3     18.2\n7     34.0      7.0     18.2\n\n$Malaysia\n   Data.IMR Data.CDR Data.CBR\n8       6.5      4.5     19.1\n9       6.6      4.5     18.5\n10      6.1      4.5     18.1\n11      6.3      4.4     17.6\n12      6.2      4.5     20.4\n13      6.9      4.5     20.0\n14      6.8      4.7     20.3\n\n$Singapur\n   Data.IMR Data.CDR Data.CBR\n22      2.0      4.4     11.4\n23      2.1      4.4     10.4\n24      2.6      4.3     10.1\n25      2.1      4.5     10.3\n26      2.1      4.4     10.2\n27      2.2      4.3      9.9\n28      2.0      4.4      9.3\n\n$Thailand\n   Data.IMR Data.CDR Data.CBR\n29      7.5      6.8     14.5\n30      7.6      6.8     13.0\n31      7.4      7.9     12.9\n32      7.2      8.5     14.6\n33      7.3      9.0     14.5\n34      7.1      6.2     14.4\n35      7.0      6.5     12.1\n"
     },
     "metadata": {},
     "output_type": "display_data"
    }
   ]
  },
  {
   "cell_type": "code",
   "metadata": {
    "cell_id": "00009-b8acc2b2-dc6f-4f80-aa35-30bc616e550a",
    "deepnote_to_be_reexecuted": false,
    "source_hash": "6f775456",
    "execution_start": 1641132240897,
    "execution_millis": 224,
    "deepnote_app_coordinates": {
     "x": 0,
     "y": 54,
     "w": 12,
     "h": 5
    },
    "deepnote_cell_type": "code",
    "deepnote_output_heights": [
     null,
     1,
     null,
     1,
     null,
     1,
     null,
     1,
     null,
     1
    ]
   },
   "source": "library(QuantPsyc)\n\nprint(\"Indonesia\")\nmult.norm(gabungan.group$Indonesia)\nprint(\"Malaysia\")\nmult.norm(gabungan.group$Malaysia)\nprint(\"Filiphina\")\nmult.norm(gabungan.group$Filipina)\nprint(\"Singapur\")\nmult.norm(gabungan.group$Singapur)\nprint(\"Thailand\")\nmult.norm(gabungan.group$Thailand)",
   "execution_count": null,
   "outputs": [
    {
     "name": "stdout",
     "text": "[1] \"Indonesia\"\n",
     "output_type": "stream",
     "data": {}
    },
    {
     "data": {
      "text/html": "<dl>\n\t<dt>$mult.test</dt>\n\t\t<dd><table class=\"dataframe\">\n<caption>A matrix: 2 × 3 of type dbl</caption>\n<thead>\n\t<tr><th></th><th scope=col>Beta-hat</th><th scope=col>kappa</th><th scope=col>p-val</th></tr>\n</thead>\n<tbody>\n\t<tr><th scope=row>Skewness</th><td>3.367955</td><td> 3.929281</td><td>0.9504808</td></tr>\n\t<tr><th scope=row>Kurtosis</th><td>8.339612</td><td>-1.608636</td><td>0.1076959</td></tr>\n</tbody>\n</table>\n</dd>\n\t<dt>$Dsq</dt>\n\t\t<dd><style>\n.list-inline {list-style: none; margin:0; padding: 0}\n.list-inline>li {display: inline-block}\n.list-inline>li:not(:last-child)::after {content: \"\\00b7\"; padding: 0 .5ex}\n</style>\n<ol class=list-inline><li>3.94086631316522</li><li>4.36981698538251</li><li>3.69469744045104</li><li>1.22697536486276</li><li>1.16803585641812</li><li>1.18645056263802</li><li>2.41315747708232</li></ol>\n</dd>\n\t<dt>$CriticalDsq</dt>\n\t\t<dd>12.8381564665986</dd>\n</dl>\n",
      "text/markdown": "$mult.test\n:   \nA matrix: 2 × 3 of type dbl\n\n| <!--/--> | Beta-hat | kappa | p-val |\n|---|---|---|---|\n| Skewness | 3.367955 |  3.929281 | 0.9504808 |\n| Kurtosis | 8.339612 | -1.608636 | 0.1076959 |\n\n\n$Dsq\n:   1. 3.94086631316522\n2. 4.36981698538251\n3. 3.69469744045104\n4. 1.22697536486276\n5. 1.16803585641812\n6. 1.18645056263802\n7. 2.41315747708232\n\n\n\n$CriticalDsq\n:   12.8381564665986\n\n\n",
      "text/latex": "\\begin{description}\n\\item[\\$mult.test] A matrix: 2 × 3 of type dbl\n\\begin{tabular}{r|lll}\n  & Beta-hat & kappa & p-val\\\\\n\\hline\n\tSkewness & 3.367955 &  3.929281 & 0.9504808\\\\\n\tKurtosis & 8.339612 & -1.608636 & 0.1076959\\\\\n\\end{tabular}\n\n\\item[\\$Dsq] \\begin{enumerate*}\n\\item 3.94086631316522\n\\item 4.36981698538251\n\\item 3.69469744045104\n\\item 1.22697536486276\n\\item 1.16803585641812\n\\item 1.18645056263802\n\\item 2.41315747708232\n\\end{enumerate*}\n\n\\item[\\$CriticalDsq] 12.8381564665986\n\\end{description}\n",
      "text/plain": "$mult.test\n         Beta-hat     kappa     p-val\nSkewness 3.367955  3.929281 0.9504808\nKurtosis 8.339612 -1.608636 0.1076959\n\n$Dsq\n[1] 3.940866 4.369817 3.694697 1.226975 1.168036 1.186451 2.413157\n\n$CriticalDsq\n[1] 12.83816\n"
     },
     "metadata": {},
     "output_type": "display_data"
    },
    {
     "name": "stdout",
     "text": "[1] \"Malaysia\"\n",
     "output_type": "stream",
     "data": {}
    },
    {
     "data": {
      "text/html": "<dl>\n\t<dt>$mult.test</dt>\n\t\t<dd><table class=\"dataframe\">\n<caption>A matrix: 2 × 3 of type dbl</caption>\n<thead>\n\t<tr><th></th><th scope=col>Beta-hat</th><th scope=col>kappa</th><th scope=col>p-val</th></tr>\n</thead>\n<tbody>\n\t<tr><th scope=row>Skewness</th><td>3.173828</td><td> 3.702799</td><td>0.9597599</td></tr>\n\t<tr><th scope=row>Kurtosis</th><td>9.092362</td><td>-1.426830</td><td>0.1536288</td></tr>\n</tbody>\n</table>\n</dd>\n\t<dt>$Dsq</dt>\n\t\t<dd><style>\n.list-inline {list-style: none; margin:0; padding: 0}\n.list-inline>li {display: inline-block}\n.list-inline>li:not(:last-child)::after {content: \"\\00b7\"; padding: 0 .5ex}\n</style>\n<ol class=list-inline><li>0.0487969318543688</li><li>0.885490002100543</li><li>2.51732607856025</li><li>2.19715275001522</li><li>4.5720113022679</li><li>3.37279189055501</li><li>4.40643104464671</li></ol>\n</dd>\n\t<dt>$CriticalDsq</dt>\n\t\t<dd>12.8381564665986</dd>\n</dl>\n",
      "text/markdown": "$mult.test\n:   \nA matrix: 2 × 3 of type dbl\n\n| <!--/--> | Beta-hat | kappa | p-val |\n|---|---|---|---|\n| Skewness | 3.173828 |  3.702799 | 0.9597599 |\n| Kurtosis | 9.092362 | -1.426830 | 0.1536288 |\n\n\n$Dsq\n:   1. 0.0487969318543688\n2. 0.885490002100543\n3. 2.51732607856025\n4. 2.19715275001522\n5. 4.5720113022679\n6. 3.37279189055501\n7. 4.40643104464671\n\n\n\n$CriticalDsq\n:   12.8381564665986\n\n\n",
      "text/latex": "\\begin{description}\n\\item[\\$mult.test] A matrix: 2 × 3 of type dbl\n\\begin{tabular}{r|lll}\n  & Beta-hat & kappa & p-val\\\\\n\\hline\n\tSkewness & 3.173828 &  3.702799 & 0.9597599\\\\\n\tKurtosis & 9.092362 & -1.426830 & 0.1536288\\\\\n\\end{tabular}\n\n\\item[\\$Dsq] \\begin{enumerate*}\n\\item 0.0487969318543688\n\\item 0.885490002100543\n\\item 2.51732607856025\n\\item 2.19715275001522\n\\item 4.5720113022679\n\\item 3.37279189055501\n\\item 4.40643104464671\n\\end{enumerate*}\n\n\\item[\\$CriticalDsq] 12.8381564665986\n\\end{description}\n",
      "text/plain": "$mult.test\n         Beta-hat     kappa     p-val\nSkewness 3.173828  3.702799 0.9597599\nKurtosis 9.092362 -1.426830 0.1536288\n\n$Dsq\n[1] 0.04879693 0.88549000 2.51732608 2.19715275 4.57201130 3.37279189 4.40643104\n\n$CriticalDsq\n[1] 12.83816\n"
     },
     "metadata": {},
     "output_type": "display_data"
    },
    {
     "name": "stdout",
     "text": "[1] \"Filiphina\"\n",
     "output_type": "stream",
     "data": {}
    },
    {
     "data": {
      "text/html": "<dl>\n\t<dt>$mult.test</dt>\n\t\t<dd><table class=\"dataframe\">\n<caption>A matrix: 2 × 3 of type dbl</caption>\n<thead>\n\t<tr><th></th><th scope=col>Beta-hat</th><th scope=col>kappa</th><th scope=col>p-val</th></tr>\n</thead>\n<tbody>\n\t<tr><th scope=row>Skewness</th><td>2.903371</td><td> 3.387267</td><td>0.97078821</td></tr>\n\t<tr><th scope=row>Kurtosis</th><td>7.823690</td><td>-1.733244</td><td>0.08305239</td></tr>\n</tbody>\n</table>\n</dd>\n\t<dt>$Dsq</dt>\n\t\t<dd><style>\n.list-inline {list-style: none; margin:0; padding: 0}\n.list-inline>li {display: inline-block}\n.list-inline>li:not(:last-child)::after {content: \"\\00b7\"; padding: 0 .5ex}\n</style>\n<ol class=list-inline><li>4.71376819919267</li><li>1.42960790364134</li><li>2.61371151040964</li><li>2.59883329508504</li><li>1.10434750033689</li><li>2.34967499276851</li><li>3.1900565985659</li></ol>\n</dd>\n\t<dt>$CriticalDsq</dt>\n\t\t<dd>12.8381564665986</dd>\n</dl>\n",
      "text/markdown": "$mult.test\n:   \nA matrix: 2 × 3 of type dbl\n\n| <!--/--> | Beta-hat | kappa | p-val |\n|---|---|---|---|\n| Skewness | 2.903371 |  3.387267 | 0.97078821 |\n| Kurtosis | 7.823690 | -1.733244 | 0.08305239 |\n\n\n$Dsq\n:   1. 4.71376819919267\n2. 1.42960790364134\n3. 2.61371151040964\n4. 2.59883329508504\n5. 1.10434750033689\n6. 2.34967499276851\n7. 3.1900565985659\n\n\n\n$CriticalDsq\n:   12.8381564665986\n\n\n",
      "text/latex": "\\begin{description}\n\\item[\\$mult.test] A matrix: 2 × 3 of type dbl\n\\begin{tabular}{r|lll}\n  & Beta-hat & kappa & p-val\\\\\n\\hline\n\tSkewness & 2.903371 &  3.387267 & 0.97078821\\\\\n\tKurtosis & 7.823690 & -1.733244 & 0.08305239\\\\\n\\end{tabular}\n\n\\item[\\$Dsq] \\begin{enumerate*}\n\\item 4.71376819919267\n\\item 1.42960790364134\n\\item 2.61371151040964\n\\item 2.59883329508504\n\\item 1.10434750033689\n\\item 2.34967499276851\n\\item 3.1900565985659\n\\end{enumerate*}\n\n\\item[\\$CriticalDsq] 12.8381564665986\n\\end{description}\n",
      "text/plain": "$mult.test\n         Beta-hat     kappa      p-val\nSkewness 2.903371  3.387267 0.97078821\nKurtosis 7.823690 -1.733244 0.08305239\n\n$Dsq\n[1] 4.713768 1.429608 2.613712 2.598833 1.104348 2.349675 3.190057\n\n$CriticalDsq\n[1] 12.83816\n"
     },
     "metadata": {},
     "output_type": "display_data"
    },
    {
     "name": "stdout",
     "text": "[1] \"Singapur\"\n",
     "output_type": "stream",
     "data": {}
    },
    {
     "data": {
      "text/html": "<dl>\n\t<dt>$mult.test</dt>\n\t\t<dd><table class=\"dataframe\">\n<caption>A matrix: 2 × 3 of type dbl</caption>\n<thead>\n\t<tr><th></th><th scope=col>Beta-hat</th><th scope=col>kappa</th><th scope=col>p-val</th></tr>\n</thead>\n<tbody>\n\t<tr><th scope=row>Skewness</th><td>3.642778</td><td> 4.249907</td><td>0.9353698</td></tr>\n\t<tr><th scope=row>Kurtosis</th><td>9.521175</td><td>-1.323262</td><td>0.1857482</td></tr>\n</tbody>\n</table>\n</dd>\n\t<dt>$Dsq</dt>\n\t\t<dd><style>\n.list-inline {list-style: none; margin:0; padding: 0}\n.list-inline>li {display: inline-block}\n.list-inline>li:not(:last-child)::after {content: \"\\00b7\"; padding: 0 .5ex}\n</style>\n<ol class=list-inline><li>4.02547987090198</li><li>0.12986240869713</li><li>4.60956344487855</li><li>3.77679633089861</li><li>0.087056225581791</li><li>2.19475114659415</li><li>3.17649057244776</li></ol>\n</dd>\n\t<dt>$CriticalDsq</dt>\n\t\t<dd>12.8381564665986</dd>\n</dl>\n",
      "text/markdown": "$mult.test\n:   \nA matrix: 2 × 3 of type dbl\n\n| <!--/--> | Beta-hat | kappa | p-val |\n|---|---|---|---|\n| Skewness | 3.642778 |  4.249907 | 0.9353698 |\n| Kurtosis | 9.521175 | -1.323262 | 0.1857482 |\n\n\n$Dsq\n:   1. 4.02547987090198\n2. 0.12986240869713\n3. 4.60956344487855\n4. 3.77679633089861\n5. 0.087056225581791\n6. 2.19475114659415\n7. 3.17649057244776\n\n\n\n$CriticalDsq\n:   12.8381564665986\n\n\n",
      "text/latex": "\\begin{description}\n\\item[\\$mult.test] A matrix: 2 × 3 of type dbl\n\\begin{tabular}{r|lll}\n  & Beta-hat & kappa & p-val\\\\\n\\hline\n\tSkewness & 3.642778 &  4.249907 & 0.9353698\\\\\n\tKurtosis & 9.521175 & -1.323262 & 0.1857482\\\\\n\\end{tabular}\n\n\\item[\\$Dsq] \\begin{enumerate*}\n\\item 4.02547987090198\n\\item 0.12986240869713\n\\item 4.60956344487855\n\\item 3.77679633089861\n\\item 0.087056225581791\n\\item 2.19475114659415\n\\item 3.17649057244776\n\\end{enumerate*}\n\n\\item[\\$CriticalDsq] 12.8381564665986\n\\end{description}\n",
      "text/plain": "$mult.test\n         Beta-hat     kappa     p-val\nSkewness 3.642778  4.249907 0.9353698\nKurtosis 9.521175 -1.323262 0.1857482\n\n$Dsq\n[1] 4.02547987 0.12986241 4.60956344 3.77679633 0.08705623 2.19475115 3.17649057\n\n$CriticalDsq\n[1] 12.83816\n"
     },
     "metadata": {},
     "output_type": "display_data"
    },
    {
     "name": "stdout",
     "text": "[1] \"Thailand\"\n",
     "output_type": "stream",
     "data": {}
    },
    {
     "data": {
      "text/html": "<dl>\n\t<dt>$mult.test</dt>\n\t\t<dd><table class=\"dataframe\">\n<caption>A matrix: 2 × 3 of type dbl</caption>\n<thead>\n\t<tr><th></th><th scope=col>Beta-hat</th><th scope=col>kappa</th><th scope=col>p-val</th></tr>\n</thead>\n<tbody>\n\t<tr><th scope=row>Skewness</th><td>2.171559</td><td> 2.533486</td><td>0.99037872</td></tr>\n\t<tr><th scope=row>Kurtosis</th><td>7.305782</td><td>-1.858330</td><td>0.06312213</td></tr>\n</tbody>\n</table>\n</dd>\n\t<dt>$Dsq</dt>\n\t\t<dd><style>\n.list-inline {list-style: none; margin:0; padding: 0}\n.list-inline>li {display: inline-block}\n.list-inline>li:not(:last-child)::after {content: \"\\00b7\"; padding: 0 .5ex}\n</style>\n<ol class=list-inline><li>2.2427575556779</li><li>2.79687264019209</li><li>1.53620270791628</li><li>1.71193622309023</li><li>2.32563240370115</li><li>3.30094434950217</li><li>4.08565411992019</li></ol>\n</dd>\n\t<dt>$CriticalDsq</dt>\n\t\t<dd>12.8381564665986</dd>\n</dl>\n",
      "text/markdown": "$mult.test\n:   \nA matrix: 2 × 3 of type dbl\n\n| <!--/--> | Beta-hat | kappa | p-val |\n|---|---|---|---|\n| Skewness | 2.171559 |  2.533486 | 0.99037872 |\n| Kurtosis | 7.305782 | -1.858330 | 0.06312213 |\n\n\n$Dsq\n:   1. 2.2427575556779\n2. 2.79687264019209\n3. 1.53620270791628\n4. 1.71193622309023\n5. 2.32563240370115\n6. 3.30094434950217\n7. 4.08565411992019\n\n\n\n$CriticalDsq\n:   12.8381564665986\n\n\n",
      "text/latex": "\\begin{description}\n\\item[\\$mult.test] A matrix: 2 × 3 of type dbl\n\\begin{tabular}{r|lll}\n  & Beta-hat & kappa & p-val\\\\\n\\hline\n\tSkewness & 2.171559 &  2.533486 & 0.99037872\\\\\n\tKurtosis & 7.305782 & -1.858330 & 0.06312213\\\\\n\\end{tabular}\n\n\\item[\\$Dsq] \\begin{enumerate*}\n\\item 2.2427575556779\n\\item 2.79687264019209\n\\item 1.53620270791628\n\\item 1.71193622309023\n\\item 2.32563240370115\n\\item 3.30094434950217\n\\item 4.08565411992019\n\\end{enumerate*}\n\n\\item[\\$CriticalDsq] 12.8381564665986\n\\end{description}\n",
      "text/plain": "$mult.test\n         Beta-hat     kappa      p-val\nSkewness 2.171559  2.533486 0.99037872\nKurtosis 7.305782 -1.858330 0.06312213\n\n$Dsq\n[1] 2.242758 2.796873 1.536203 1.711936 2.325632 3.300944 4.085654\n\n$CriticalDsq\n[1] 12.83816\n"
     },
     "metadata": {},
     "output_type": "display_data"
    }
   ]
  },
  {
   "cell_type": "markdown",
   "source": "Dengan $\\alpha = 0.05$ karena semua $p-value$ > $\\alpha$ maka $H_0$ tidak ditolak, yang artinya ke-5 populasi di-atas berdistribusi multivariat normal",
   "metadata": {
    "cell_id": "00010-dbf99b08-87ed-4a39-b3d8-87ded2a5dea9",
    "deepnote_app_coordinates": {
     "x": 0,
     "y": 60,
     "w": 12,
     "h": 5
    },
    "deepnote_cell_type": "markdown"
   }
  },
  {
   "cell_type": "markdown",
   "source": "# Uji Dependensi Variabel (Bartlett Test)\n\n#### Hipotesis\n$H_0$ : Matriks korelasi merupakan matriks identitas\n\n$H_1$ : Matriks korelasi bukan merupakan matriks identitas",
   "metadata": {
    "cell_id": "00011-912bd8e2-fb73-4cc9-bbde-af43edf82398",
    "deepnote_app_coordinates": {
     "x": 0,
     "y": 66,
     "w": 12,
     "h": 5
    },
    "deepnote_cell_type": "markdown"
   }
  },
  {
   "cell_type": "code",
   "metadata": {
    "cell_id": "00012-8914d670-d9fa-482d-9c88-2c5846da6c17",
    "deepnote_to_be_reexecuted": false,
    "source_hash": "3334e3ca",
    "execution_start": 1641132241150,
    "execution_millis": 11,
    "deepnote_app_coordinates": {
     "x": 0,
     "y": 72,
     "w": 12,
     "h": 5
    },
    "deepnote_cell_type": "code",
    "deepnote_output_heights": [
     21.1875
    ]
   },
   "source": "-(35-1-(11/6))*log(det(cor(y22)))",
   "execution_count": null,
   "outputs": [
    {
     "data": {
      "text/html": "29.6666313391259",
      "text/markdown": "29.6666313391259",
      "text/latex": "29.6666313391259",
      "text/plain": "[1] 29.66663"
     },
     "metadata": {},
     "output_type": "display_data"
    }
   ]
  },
  {
   "cell_type": "markdown",
   "source": "#### Statistik Uji\n\n$\\chi^2_{hitung} = - (n - 1 - \\frac{2p+5}{6}) ln|\\rho| = - (35 - 1 - \\frac{11}{6}) ln|\\rho| = 29.6666313391259$\n\n#### Aturan Keputusan\n$H_0$ ditolak jika $\\chi^2_{hitung} > \\chi^2_{\\alpha,0.5p(p-1)} = \\chi^2_{0.05,3} = 7.81$\n\nDidapatkan $\\chi^2_{hitung} = 29.6666313391259 > 7.81 = \\chi^2_{0.05,3}$ ,Maka $H_0$ ditolak\n\n#### Kesimpulan\nMaka dari itu dapat disimpulkan bahwa antar variabelnya dependen atau teterdapat hubugan, karena matriks korelasinya bukan matriks identitas",
   "metadata": {
    "cell_id": "00013-219023ff-4a24-4621-a11e-56e9482687b1",
    "deepnote_app_coordinates": {
     "x": 0,
     "y": 78,
     "w": 12,
     "h": 5
    },
    "deepnote_cell_type": "markdown"
   }
  },
  {
   "cell_type": "markdown",
   "source": "# Uji Homogenitas Variansi (Box's M Test)\n\n####  Hipotesis\n$H_0$ : Matriks kovariansi antar populasi sama\n\n$H_1$ : Matriks kovariansi antar populasi berbeda\n\n#### Aturan Keputusan\n\nTolak $H_0$ jika $p-value < \\alpha$",
   "metadata": {
    "cell_id": "00014-c37e3ddc-3664-4560-9343-221a9e45f4fa",
    "deepnote_app_coordinates": {
     "x": 0,
     "y": 84,
     "w": 12,
     "h": 5
    },
    "deepnote_cell_type": "markdown"
   }
  },
  {
   "cell_type": "code",
   "metadata": {
    "cell_id": "00015-e88ef669-8147-470b-be2c-fe0054adf60c",
    "deepnote_to_be_reexecuted": false,
    "source_hash": "fe62a9c8",
    "execution_start": 1641132241213,
    "execution_millis": 2,
    "deepnote_app_coordinates": {
     "x": 0,
     "y": 90,
     "w": 12,
     "h": 5
    },
    "deepnote_cell_type": "code",
    "deepnote_output_heights": [
     40.375
    ]
   },
   "source": "fak<-factor(c(rep(1,7),(rep(2,7)),(rep(3,7)),(rep(4,7)),(rep(5,7))))\nfak",
   "execution_count": null,
   "outputs": [
    {
     "data": {
      "text/html": "<style>\n.list-inline {list-style: none; margin:0; padding: 0}\n.list-inline>li {display: inline-block}\n.list-inline>li:not(:last-child)::after {content: \"\\00b7\"; padding: 0 .5ex}\n</style>\n<ol class=list-inline><li>1</li><li>1</li><li>1</li><li>1</li><li>1</li><li>1</li><li>1</li><li>2</li><li>2</li><li>2</li><li>2</li><li>2</li><li>2</li><li>2</li><li>3</li><li>3</li><li>3</li><li>3</li><li>3</li><li>3</li><li>3</li><li>4</li><li>4</li><li>4</li><li>4</li><li>4</li><li>4</li><li>4</li><li>5</li><li>5</li><li>5</li><li>5</li><li>5</li><li>5</li><li>5</li></ol>\n\n<details>\n\t<summary style=display:list-item;cursor:pointer>\n\t\t<strong>Levels</strong>:\n\t</summary>\n\t<style>\n\t.list-inline {list-style: none; margin:0; padding: 0}\n\t.list-inline>li {display: inline-block}\n\t.list-inline>li:not(:last-child)::after {content: \"\\00b7\"; padding: 0 .5ex}\n\t</style>\n\t<ol class=list-inline><li>'1'</li><li>'2'</li><li>'3'</li><li>'4'</li><li>'5'</li></ol>\n</details>",
      "text/markdown": "1. 1\n2. 1\n3. 1\n4. 1\n5. 1\n6. 1\n7. 1\n8. 2\n9. 2\n10. 2\n11. 2\n12. 2\n13. 2\n14. 2\n15. 3\n16. 3\n17. 3\n18. 3\n19. 3\n20. 3\n21. 3\n22. 4\n23. 4\n24. 4\n25. 4\n26. 4\n27. 4\n28. 4\n29. 5\n30. 5\n31. 5\n32. 5\n33. 5\n34. 5\n35. 5\n\n\n\n**Levels**: 1. '1'\n2. '2'\n3. '3'\n4. '4'\n5. '5'\n\n\n",
      "text/latex": "\\begin{enumerate*}\n\\item 1\n\\item 1\n\\item 1\n\\item 1\n\\item 1\n\\item 1\n\\item 1\n\\item 2\n\\item 2\n\\item 2\n\\item 2\n\\item 2\n\\item 2\n\\item 2\n\\item 3\n\\item 3\n\\item 3\n\\item 3\n\\item 3\n\\item 3\n\\item 3\n\\item 4\n\\item 4\n\\item 4\n\\item 4\n\\item 4\n\\item 4\n\\item 4\n\\item 5\n\\item 5\n\\item 5\n\\item 5\n\\item 5\n\\item 5\n\\item 5\n\\end{enumerate*}\n\n\\emph{Levels}: \\begin{enumerate*}\n\\item '1'\n\\item '2'\n\\item '3'\n\\item '4'\n\\item '5'\n\\end{enumerate*}\n",
      "text/plain": " [1] 1 1 1 1 1 1 1 2 2 2 2 2 2 2 3 3 3 3 3 3 3 4 4 4 4 4 4 4 5 5 5 5 5 5 5\nLevels: 1 2 3 4 5"
     },
     "metadata": {},
     "output_type": "display_data"
    }
   ]
  },
  {
   "cell_type": "code",
   "metadata": {
    "cell_id": "00016-3da92228-8119-4ce1-b915-3db034067c77",
    "deepnote_to_be_reexecuted": false,
    "source_hash": "ba61240e",
    "execution_start": 1641132241257,
    "execution_millis": 35,
    "deepnote_app_coordinates": {
     "x": 0,
     "y": 96,
     "w": 12,
     "h": 5
    },
    "deepnote_cell_type": "code",
    "deepnote_output_heights": [
     1
    ]
   },
   "source": "library(biotools)\n\nres<-boxM(y22,fak)\nres",
   "execution_count": null,
   "outputs": [
    {
     "data": {
      "text/plain": "\n\tBox's M-test for Homogeneity of Covariance Matrices\n\ndata:  y22\nChi-Sq (approx.) = 100.36, df = 24, p-value = 2.603e-11\n"
     },
     "metadata": {},
     "output_type": "display_data"
    }
   ]
  },
  {
   "cell_type": "markdown",
   "source": "Dengan $\\alpha = 0.05$ karena $p-value$ < $\\alpha$ maka $H_0$ ditolak, yang artinya matriks kovariansi tidak homogen.\n\nNamun pada penelitian ini tetap dilanjutkan pada pengujian MANOVA dengan menggunakan uji signifikansi Pillai’s\nTrace, karena memenuhi syarat penggunaan MANOVA menggunakan Pillai’s Trace (robust\\tahan terhadap keterherogenan variansi).\n\nMenurut (Olson, 1974) statistik Pillai’s Trace merupakan statistik uji yang cocok digunakan apabila asumsi homogenitas tidak dapat dipenuhi.",
   "metadata": {
    "cell_id": "00017-17c80727-dd94-4b50-90a9-34ec10ee05b8",
    "deepnote_app_coordinates": {
     "x": 0,
     "y": 102,
     "w": 12,
     "h": 5
    },
    "deepnote_cell_type": "markdown"
   }
  },
  {
   "cell_type": "markdown",
   "source": "# Uji Manova\n\n### Diketahui :\n\n#### Jumlah negara/populasi (variabel independen)\n\n$k=5$\n\n//==//\n\n#### Jumlah variabel dependen\n\n$p=3$\n\n//==//\n\n#### Jumlah observasi tiap kelompok/populasi\n$n=7$\n\n//==//\n\n$V_H = k-1 = 4$\n\n//==//\n\n$V_E = n(k-1) = 28$\n\n//==//\n\n$s = min(V_H,p) = 3$\n\n//==//\n\n$m = \\frac{1}{2} (|V_H - p| - 1)= \\frac{1}{2} (0) = 0$\n\n//==//\n\n$N = \\frac{1}{2} (V_E - p - 1) = \\frac{1}{2} (28-3-1) = 12$",
   "metadata": {
    "cell_id": "00018-4f6d612d-681a-442e-a56b-612448b39bd1",
    "deepnote_app_coordinates": {
     "x": 0,
     "y": 108,
     "w": 12,
     "h": 5
    },
    "deepnote_cell_type": "markdown"
   }
  },
  {
   "cell_type": "code",
   "metadata": {
    "cell_id": "00019-7b534b91-104a-4612-a50e-ab56b9627003",
    "deepnote_to_be_reexecuted": false,
    "source_hash": "e969e3b2",
    "execution_start": 1641132241349,
    "execution_millis": 50,
    "deepnote_app_coordinates": {
     "x": 0,
     "y": 114,
     "w": 12,
     "h": 5
    },
    "deepnote_cell_type": "code",
    "deepnote_output_heights": [
     161
    ]
   },
   "source": "#Vektor mean tiap grup atau kelompok\ngabungan.means <- sapply(gabungan.group, function(x) {\n  apply(x, 2, mean)\n}, simplify = 'data.frame')\n\ngabungan.means",
   "execution_count": null,
   "outputs": [
    {
     "data": {
      "text/html": "<table class=\"dataframe\">\n<caption>A matrix: 3 × 5 of type dbl</caption>\n<thead>\n\t<tr><th></th><th scope=col>Filipina</th><th scope=col>Indonesia</th><th scope=col>Malaysia</th><th scope=col>Singapur</th><th scope=col>Thailand</th></tr>\n</thead>\n<tbody>\n\t<tr><th scope=row>Data.IMR</th><td>26.000000</td><td>31.90000</td><td> 6.485714</td><td> 2.157143</td><td> 7.300000</td></tr>\n\t<tr><th scope=row>Data.CDR</th><td> 5.142857</td><td> 6.80000</td><td> 4.514286</td><td> 4.385714</td><td> 7.385714</td></tr>\n\t<tr><th scope=row>Data.CBR</th><td>24.900000</td><td>18.81429</td><td>19.142857</td><td>10.228571</td><td>13.714286</td></tr>\n</tbody>\n</table>\n",
      "text/markdown": "\nA matrix: 3 × 5 of type dbl\n\n| <!--/--> | Filipina | Indonesia | Malaysia | Singapur | Thailand |\n|---|---|---|---|---|---|\n| Data.IMR | 26.000000 | 31.90000 |  6.485714 |  2.157143 |  7.300000 |\n| Data.CDR |  5.142857 |  6.80000 |  4.514286 |  4.385714 |  7.385714 |\n| Data.CBR | 24.900000 | 18.81429 | 19.142857 | 10.228571 | 13.714286 |\n\n",
      "text/latex": "A matrix: 3 × 5 of type dbl\n\\begin{tabular}{r|lllll}\n  & Filipina & Indonesia & Malaysia & Singapur & Thailand\\\\\n\\hline\n\tData.IMR & 26.000000 & 31.90000 &  6.485714 &  2.157143 &  7.300000\\\\\n\tData.CDR &  5.142857 &  6.80000 &  4.514286 &  4.385714 &  7.385714\\\\\n\tData.CBR & 24.900000 & 18.81429 & 19.142857 & 10.228571 & 13.714286\\\\\n\\end{tabular}\n",
      "text/plain": "         Filipina  Indonesia Malaysia  Singapur  Thailand \nData.IMR 26.000000 31.90000   6.485714  2.157143  7.300000\nData.CDR  5.142857  6.80000   4.514286  4.385714  7.385714\nData.CBR 24.900000 18.81429  19.142857 10.228571 13.714286"
     },
     "metadata": {},
     "output_type": "display_data"
    }
   ]
  },
  {
   "cell_type": "code",
   "metadata": {
    "cell_id": "00020-d384afad-d217-4e06-b81f-da7b2e6f6805",
    "deepnote_to_be_reexecuted": false,
    "source_hash": "ba97db1e",
    "execution_start": 1641132241398,
    "execution_millis": 44,
    "deepnote_app_coordinates": {
     "x": 0,
     "y": 120,
     "w": 12,
     "h": 5
    },
    "deepnote_cell_type": "code",
    "deepnote_output_heights": [
     21.1875,
     29.1875
    ]
   },
   "source": "n <- dim(gabungan)[1] / length(unique(gabungan$Negara))\nn\n\ntotalmeans <- colMeans(gabungan[,3:5])\ntotalmeans",
   "execution_count": null,
   "outputs": [
    {
     "data": {
      "text/html": "7",
      "text/markdown": "7",
      "text/latex": "7",
      "text/plain": "[1] 7"
     },
     "metadata": {},
     "output_type": "display_data"
    },
    {
     "data": {
      "text/html": "<style>\n.dl-inline {width: auto; margin:0; padding: 0}\n.dl-inline>dt, .dl-inline>dd {float: none; width: auto; display: inline-block}\n.dl-inline>dt::after {content: \":\\0020\"; padding-right: .5ex}\n.dl-inline>dt:not(:first-of-type) {padding-left: .5ex}\n</style><dl class=dl-inline><dt>Data.IMR</dt><dd>14.7685714285714</dd><dt>Data.CDR</dt><dd>5.64571428571429</dd><dt>Data.CBR</dt><dd>17.36</dd></dl>\n",
      "text/markdown": "Data.IMR\n:   14.7685714285714Data.CDR\n:   5.64571428571429Data.CBR\n:   17.36\n\n",
      "text/latex": "\\begin{description*}\n\\item[Data.IMR] 14.7685714285714\n\\item[Data.CDR] 5.64571428571429\n\\item[Data.CBR] 17.36\n\\end{description*}\n",
      "text/plain": " Data.IMR  Data.CDR  Data.CBR \n14.768571  5.645714 17.360000 "
     },
     "metadata": {},
     "output_type": "display_data"
    }
   ]
  },
  {
   "cell_type": "markdown",
   "source": "## Matriks H",
   "metadata": {
    "cell_id": "00021-50124af8-c597-4d93-9a96-a69b57170fb4",
    "deepnote_app_coordinates": {
     "x": 0,
     "y": 126,
     "w": 12,
     "h": 5
    },
    "deepnote_cell_type": "markdown"
   }
  },
  {
   "cell_type": "code",
   "metadata": {
    "cell_id": "00022-81776c28-62c2-4d6a-853a-c70045058017",
    "deepnote_to_be_reexecuted": false,
    "source_hash": "65d055",
    "execution_start": 1641132241489,
    "execution_millis": 46,
    "deepnote_app_coordinates": {
     "x": 0,
     "y": 132,
     "w": 12,
     "h": 5
    },
    "deepnote_cell_type": "code",
    "deepnote_output_heights": [
     132
    ]
   },
   "source": "H = matrix(data = 0, nrow = 3, ncol = 3)\nfor (i in 1:dim(H)[1]) {\n  for (j in 1:i) {\n    H[i,j] <- n * sum((gabungan.means[i,] - totalmeans[i]) * (gabungan.means[j,] - totalmeans[j]))\n    H[j,i] <- n * sum((gabungan.means[j,] - totalmeans[j]) * (gabungan.means[i,] - totalmeans[i]))\n  }\n}\nH",
   "execution_count": null,
   "outputs": [
    {
     "data": {
      "text/html": "<table class=\"dataframe\">\n<caption>A matrix: 3 × 3 of type dbl</caption>\n<tbody>\n\t<tr><td>4921.4497</td><td>184.7531</td><td>1483.9831</td></tr>\n\t<tr><td> 184.7531</td><td> 52.3640</td><td> -10.4160</td></tr>\n\t<tr><td>1483.9831</td><td>-10.4160</td><td> 884.0554</td></tr>\n</tbody>\n</table>\n",
      "text/markdown": "\nA matrix: 3 × 3 of type dbl\n\n| 4921.4497 | 184.7531 | 1483.9831 |\n|  184.7531 |  52.3640 |  -10.4160 |\n| 1483.9831 | -10.4160 |  884.0554 |\n\n",
      "text/latex": "A matrix: 3 × 3 of type dbl\n\\begin{tabular}{lll}\n\t 4921.4497 & 184.7531 & 1483.9831\\\\\n\t  184.7531 &  52.3640 &  -10.4160\\\\\n\t 1483.9831 & -10.4160 &  884.0554\\\\\n\\end{tabular}\n",
      "text/plain": "     [,1]      [,2]     [,3]     \n[1,] 4921.4497 184.7531 1483.9831\n[2,]  184.7531  52.3640  -10.4160\n[3,] 1483.9831 -10.4160  884.0554"
     },
     "metadata": {},
     "output_type": "display_data"
    }
   ]
  },
  {
   "cell_type": "markdown",
   "source": "## Matriks E",
   "metadata": {
    "cell_id": "00023-2db1a5c6-2436-4af9-88d4-e3ced9fe123e",
    "deepnote_app_coordinates": {
     "x": 0,
     "y": 138,
     "w": 12,
     "h": 5
    },
    "deepnote_cell_type": "markdown"
   }
  },
  {
   "cell_type": "code",
   "metadata": {
    "cell_id": "00024-07e48d1a-66c3-4116-8558-742c57b4d59a",
    "deepnote_to_be_reexecuted": false,
    "source_hash": "53fe649",
    "execution_start": 1641132241534,
    "execution_millis": 50,
    "deepnote_app_coordinates": {
     "x": 0,
     "y": 144,
     "w": 12,
     "h": 5
    },
    "deepnote_cell_type": "code",
    "deepnote_output_heights": [
     132
    ]
   },
   "source": "E = matrix(data = 0, nrow = 3, ncol = 3)\nfor (i in 1:dim(E)[1]) {\n  for (j in 1:i) {\n    b <- c() \n    for (k in gabungan.group) {\n      a <- sum((k[,i] - mean(k[,i])) * (k[,j] - mean(k[,j])))\n      b <- append(b, a)\n    }\n    E[i,j] <- sum(b)\n    E[j,i] <- sum(b)\n  }\n}\nE",
   "execution_count": null,
   "outputs": [
    {
     "data": {
      "text/html": "<table class=\"dataframe\">\n<caption>A matrix: 3 × 3 of type dbl</caption>\n<tbody>\n\t<tr><td>125.2057143</td><td>0.1571429</td><td>-2.577143</td></tr>\n\t<tr><td>  0.1571429</td><td>9.4228571</td><td> 3.630000</td></tr>\n\t<tr><td> -2.5771429</td><td>3.6300000</td><td>24.188571</td></tr>\n</tbody>\n</table>\n",
      "text/markdown": "\nA matrix: 3 × 3 of type dbl\n\n| 125.2057143 | 0.1571429 | -2.577143 |\n|   0.1571429 | 9.4228571 |  3.630000 |\n|  -2.5771429 | 3.6300000 | 24.188571 |\n\n",
      "text/latex": "A matrix: 3 × 3 of type dbl\n\\begin{tabular}{lll}\n\t 125.2057143 & 0.1571429 & -2.577143\\\\\n\t   0.1571429 & 9.4228571 &  3.630000\\\\\n\t  -2.5771429 & 3.6300000 & 24.188571\\\\\n\\end{tabular}\n",
      "text/plain": "     [,1]        [,2]      [,3]     \n[1,] 125.2057143 0.1571429 -2.577143\n[2,]   0.1571429 9.4228571  3.630000\n[3,]  -2.5771429 3.6300000 24.188571"
     },
     "metadata": {},
     "output_type": "display_data"
    }
   ]
  },
  {
   "cell_type": "markdown",
   "source": "## Wilks Lambda",
   "metadata": {
    "cell_id": "00025-552b2b49-ced4-4b07-bf95-e51fabc30721",
    "deepnote_app_coordinates": {
     "x": 0,
     "y": 150,
     "w": 12,
     "h": 5
    },
    "deepnote_cell_type": "markdown"
   }
  },
  {
   "cell_type": "code",
   "metadata": {
    "cell_id": "00026-c6afc91c-d32b-4707-9696-b3dbf4395078",
    "deepnote_to_be_reexecuted": false,
    "source_hash": "daa9696d",
    "execution_start": 1641132241625,
    "execution_millis": 2,
    "deepnote_app_coordinates": {
     "x": 0,
     "y": 156,
     "w": 12,
     "h": 5
    },
    "deepnote_cell_type": "code",
    "deepnote_output_heights": [
     21.1875
    ]
   },
   "source": "Lambda <- det(E)/det(E + H); Lambda\n#summary(manova(y22 ~ fak), 'Wilks')$stats[,2][1]",
   "execution_count": null,
   "outputs": [
    {
     "data": {
      "text/html": "0.000238189898367458",
      "text/markdown": "0.000238189898367458",
      "text/latex": "0.000238189898367458",
      "text/plain": "[1] 0.0002381899"
     },
     "metadata": {},
     "output_type": "display_data"
    }
   ]
  },
  {
   "cell_type": "markdown",
   "source": "#### Hipotesis\n\n$H_0 :$ $\\vec{\\mu_1} = \\vec{\\mu_2} = \\vec{\\mu_3}$\n\n$H_1 :$ Setidaknya terdapat satu $\\vec{\\mu_j} \\ne \\vec{\\mu_k}$ dengan $j \\ne k$\n\n#### Statistik Uji\n\nDidapatkan bahwa statistik uji wilks-nya adalah $\\Lambda = 0.000238189898367458$\n\n#### Aturan Penolakan\n\n$H_0$ akan ditolak jika $\\Lambda \\le \\Lambda_{\\alpha,p,V_H,V_E}$\n\nDari Tabel A9, dengan $\\alpha = 0.05$ , $p = 3$ , $V_H = 4$ , $V_E = 28$ didapatkan nilai wilk tabelnya $\\Lambda_{0.05,3,4,28}$ ialah 0.471\n\nkarena $\\Lambda = 0.000238189898367458 < 0.471 = \\Lambda_{0.05,3,4,28}$, maka $H_0$ ditolak\n\n#### Kesimpulan\n\nMaka artinya Setidaknya terdapat satu $\\vec{\\mu_j} \\ne \\vec{\\mu_k}$ dengan $j \\ne k$",
   "metadata": {
    "cell_id": "00027-55546e64-852c-4973-8d43-650eb6c593e0",
    "deepnote_app_coordinates": {
     "x": 0,
     "y": 162,
     "w": 12,
     "h": 5
    },
    "deepnote_cell_type": "markdown"
   }
  },
  {
   "cell_type": "markdown",
   "source": "## Roy's Test",
   "metadata": {
    "cell_id": "00028-2708febb-32c7-4596-be8a-d8ef6182217b",
    "deepnote_app_coordinates": {
     "x": 0,
     "y": 168,
     "w": 12,
     "h": 5
    },
    "deepnote_cell_type": "markdown"
   }
  },
  {
   "cell_type": "code",
   "metadata": {
    "cell_id": "00029-c0d4363b-5a4e-4451-8c79-679aff61ceb1",
    "deepnote_to_be_reexecuted": false,
    "source_hash": "ea4fb964",
    "execution_start": 1641132241626,
    "execution_millis": 44,
    "deepnote_app_coordinates": {
     "x": 0,
     "y": 174,
     "w": 12,
     "h": 5
    },
    "deepnote_cell_type": "code",
    "deepnote_output_heights": [
     21.1875,
     21.1875
    ]
   },
   "source": "EinvH.eigen <- eigen(inv(E) %*% H)\nroy.stat <- EinvH.eigen$values[1]; roy.stat\n#summary(manova(y22 ~ fak), 'Roy')$stats[,2][1]\ntheta <- roy.stat/(1+roy.stat); theta",
   "execution_count": null,
   "outputs": [
    {
     "data": {
      "text/html": "69.3370873990653",
      "text/markdown": "69.3370873990653",
      "text/latex": "69.3370873990653",
      "text/plain": "[1] 69.33709"
     },
     "metadata": {},
     "output_type": "display_data"
    },
    {
     "data": {
      "text/html": "0.985782749371944",
      "text/markdown": "0.985782749371944",
      "text/latex": "0.985782749371944",
      "text/plain": "[1] 0.9857827"
     },
     "metadata": {},
     "output_type": "display_data"
    }
   ]
  },
  {
   "cell_type": "markdown",
   "source": "#### Hipotesis\n\n$H_0 :$ $\\vec{\\mu_1} = \\vec{\\mu_2} = \\vec{\\mu_3}$\n\n$H_1 :$ Setidaknya terdapat satu $\\vec{\\mu_j} \\ne \\vec{\\mu_k}$ dengan $j \\ne k$\n\n#### Statistik Uji\n\nDidapatkan bahwa statistik uji Roy-nya adalah $\\theta = 0.985782749371944$\n\n#### Aturan Penolakan\n\n$H_0$ akan ditolak jika $\\theta \\ge \\theta_{\\alpha,s,m,N}$\n\nDari Tabel A10, dengan $\\alpha = 0.05$ , $s = 3$ , $m = 0$ , $N = 12$ didapatkan nilai wilk tabelnya $\\theta_{0.05,3,0,12}$ ialah 0.420393 (dengan cara interpolasi)\n\nkarena $\\theta = 0.985782749371944 \\ge 0.420393 = \\theta_{0.05,3,0,12}$, maka $H_0$ ditolak\n\n#### Kesimpulan\n\nMaka artinya Setidaknya terdapat satu $\\vec{\\mu_j} \\ne \\vec{\\mu_k}$ dengan $j \\ne k$",
   "metadata": {
    "cell_id": "00030-810a4340-cb27-42bf-9576-ddeb932a025d",
    "deepnote_app_coordinates": {
     "x": 0,
     "y": 180,
     "w": 12,
     "h": 5
    },
    "deepnote_cell_type": "markdown"
   }
  },
  {
   "cell_type": "markdown",
   "source": "## Pillai Test",
   "metadata": {
    "cell_id": "00031-4b82dd72-a3a6-438e-8196-a086cf88803a",
    "deepnote_app_coordinates": {
     "x": 0,
     "y": 186,
     "w": 12,
     "h": 5
    },
    "deepnote_cell_type": "markdown"
   }
  },
  {
   "cell_type": "code",
   "metadata": {
    "cell_id": "00032-e802797a-8809-4100-9ccd-3e5f1a991c0a",
    "deepnote_to_be_reexecuted": false,
    "source_hash": "e1a26b11",
    "execution_start": 1641132241673,
    "execution_millis": 33,
    "deepnote_app_coordinates": {
     "x": 0,
     "y": 192,
     "w": 12,
     "h": 5
    },
    "deepnote_cell_type": "code",
    "deepnote_output_heights": [
     21.1875,
     21.1875
    ]
   },
   "source": "pillai.stat <- sum(diag(inv(E + H) %*% H)); pillai.stat\nsum(EinvH.eigen$values / (1 + EinvH.eigen$values))\n#summary(manova(y22 ~ fak), 'Pillai')$stats[,2][1]",
   "execution_count": null,
   "outputs": [
    {
     "data": {
      "text/html": "2.65447079650286",
      "text/markdown": "2.65447079650286",
      "text/latex": "2.65447079650286",
      "text/plain": "[1] 2.654471"
     },
     "metadata": {},
     "output_type": "display_data"
    },
    {
     "data": {
      "text/html": "2.6544859998284",
      "text/markdown": "2.6544859998284",
      "text/latex": "2.6544859998284",
      "text/plain": "[1] 2.654486"
     },
     "metadata": {},
     "output_type": "display_data"
    }
   ]
  },
  {
   "cell_type": "markdown",
   "source": "#### Hipotesis\n\n$H_0 :$ $\\vec{\\mu_1} = \\vec{\\mu_2} = \\vec{\\mu_3}$\n\n$H_1 :$ Setidaknya terdapat satu $\\vec{\\mu_j} \\ne \\vec{\\mu_k}$ dengan $j \\ne k$\n\n#### Statistik Uji\n\nDidapatkan bahwa statistik uji Pillai-nya adalah $V^{(s)} = 2.65447079650286$\n\n#### Aturan Penolakan\n\n$H_0$ akan ditolak jika $V^{(s)} \\ge V^{(s)}_{\\alpha,s,m,N}$\n\nDari Tabel A11, dengan $\\alpha = 0.05$ , $s = 3$ , $m = 0$ , $N = 12$ didapatkan nilai wilk tabelnya $V^{(s)}_{0.05,3,0,12}$ ialah 0.617544 (dengan cara interpolasi)\n\nkarena $V^{(s)} = 2.65447079650286 \\ge 0.617544 = V^{(s)}_{0.05,3,0,12}$, maka $H_0$ ditolak\n\n#### Kesimpulan\n\nMaka artinya Setidaknya terdapat satu $\\vec{\\mu_j} \\ne \\vec{\\mu_k}$ dengan $j \\ne k$",
   "metadata": {
    "cell_id": "00033-f92de3fa-a408-4173-b6d9-59e0f7c63106",
    "deepnote_app_coordinates": {
     "x": 0,
     "y": 198,
     "w": 12,
     "h": 5
    },
    "deepnote_cell_type": "markdown"
   }
  },
  {
   "cell_type": "markdown",
   "source": "## Lawley-Hotelling Test",
   "metadata": {
    "cell_id": "00034-cd2fbbc2-4d9e-4e6e-862f-ee34144f51b6",
    "deepnote_app_coordinates": {
     "x": 0,
     "y": 204,
     "w": 12,
     "h": 5
    },
    "deepnote_cell_type": "markdown"
   }
  },
  {
   "cell_type": "code",
   "metadata": {
    "cell_id": "00035-a83cc79d-abb1-4848-b58b-9240243c6532",
    "deepnote_to_be_reexecuted": false,
    "source_hash": "53595f3a",
    "execution_start": 1641132241757,
    "execution_millis": 2,
    "deepnote_app_coordinates": {
     "x": 0,
     "y": 210,
     "w": 12,
     "h": 5
    },
    "deepnote_cell_type": "code",
    "deepnote_output_heights": [
     21.1875,
     21.1875,
     21.1875
    ]
   },
   "source": "lawhot.stat <- sum(diag(inv(E) %*% H)); lawhot.stat\nsum(EinvH.eigen$values)\n##summary(manova(y22 ~ fak), 'Hotelling-Lawley')$stats[,2][1]\n\n(28/4)*sum(EinvH.eigen$values)",
   "execution_count": null,
   "outputs": [
    {
     "data": {
      "text/html": "87.1117784826629",
      "text/markdown": "87.1117784826629",
      "text/latex": "87.1117784826629",
      "text/plain": "[1] 87.11178"
     },
     "metadata": {},
     "output_type": "display_data"
    },
    {
     "data": {
      "text/html": "87.1117784826629",
      "text/markdown": "87.1117784826629",
      "text/latex": "87.1117784826629",
      "text/plain": "[1] 87.11178"
     },
     "metadata": {},
     "output_type": "display_data"
    },
    {
     "data": {
      "text/html": "609.78244937864",
      "text/markdown": "609.78244937864",
      "text/latex": "609.78244937864",
      "text/plain": "[1] 609.7824"
     },
     "metadata": {},
     "output_type": "display_data"
    }
   ]
  },
  {
   "cell_type": "markdown",
   "source": "#### Hipotesis\n\n$H_0 :$ $\\vec{\\mu_1} = \\vec{\\mu_2} = \\vec{\\mu_3}$\n\n$H_1 :$ Setidaknya terdapat satu $\\vec{\\mu_j} \\ne \\vec{\\mu_k}$ dengan $j \\ne k$\n\n#### Statistik Uji\n\nDidapatkan bahwa statistik uji lawley-hotelling-nya adalah $\\frac{V_E}{V_H} U^{(s)} = 609.78244937864$\n\n#### Aturan Penolakan\n\nKarena $ p \\le V_H $ dan $ p \\le V_E $ maka dapat digunakan tabel A12\n\n$H_0$ akan ditolak jika statistik uji-nya $\\ge$ nilai tabel\n\nDari Tabel A12, dengan $\\alpha = 0.05$ , $p = 3$ , $V_H = 4$ , $V_E = 28$ didapatkan nilai tabelnya adalah 6.61399 (didapat dari interpolasi)\n\nkarena $\\frac{V_E}{V_H} U^{(s)} = 609.78244937864 > 6.61399 =$ nilai tabel, maka $H_0$ ditolak\n\n#### Kesimpulan\n\nMaka artinya Setidaknya terdapat satu $\\vec{\\mu_j} \\ne \\vec{\\mu_k}$ dengan $j \\ne k$",
   "metadata": {
    "cell_id": "00036-ac0d3c7e-745b-43cc-864c-5c94172f1a2a",
    "deepnote_app_coordinates": {
     "x": 0,
     "y": 216,
     "w": 12,
     "h": 5
    },
    "deepnote_cell_type": "markdown"
   }
  },
  {
   "cell_type": "markdown",
   "source": "# Post Hoc Test",
   "metadata": {
    "cell_id": "00038-94f3a627-0f21-4c95-9ed0-60fbeb506ac5",
    "deepnote_app_coordinates": {
     "x": 0,
     "y": 222,
     "w": 12,
     "h": 5
    },
    "deepnote_cell_type": "markdown"
   }
  },
  {
   "cell_type": "markdown",
   "source": "## Pengujian secara univariat (ANOVA)",
   "metadata": {
    "tags": [],
    "cell_id": "00038-0ee5d868-cfd4-48ee-a650-6983e65edb24",
    "deepnote_app_coordinates": {
     "x": 0,
     "y": 228,
     "w": 12,
     "h": 5
    },
    "deepnote_cell_type": "markdown"
   }
  },
  {
   "cell_type": "code",
   "metadata": {
    "cell_id": "00039-fe38c655-3a54-4350-a965-f40bdfa842b1",
    "deepnote_to_be_reexecuted": false,
    "source_hash": "bfa563d6",
    "execution_start": 1641132241805,
    "execution_millis": 0,
    "deepnote_app_coordinates": {
     "x": 0,
     "y": 234,
     "w": 12,
     "h": 5
    },
    "deepnote_cell_type": "code"
   },
   "source": "library(rstatix)",
   "execution_count": null,
   "outputs": []
  },
  {
   "cell_type": "code",
   "metadata": {
    "cell_id": "00040-25c23d55-da3b-4b09-9827-8417841be1d3",
    "deepnote_to_be_reexecuted": false,
    "source_hash": "19034677",
    "execution_start": 1641132241806,
    "execution_millis": 70,
    "deepnote_app_coordinates": {
     "x": 0,
     "y": 240,
     "w": 12,
     "h": 5
    },
    "deepnote_cell_type": "code"
   },
   "source": "grouped.data <- gabungan %>%\n  gather(key = \"variable\", value = \"value\", Data.IMR, Data.CDR, Data.CBR) %>%\n  group_by(variable)",
   "execution_count": null,
   "outputs": []
  },
  {
   "cell_type": "code",
   "metadata": {
    "cell_id": "00041-e84c5b33-5eb4-4c62-8d7c-043c5cd6b986",
    "deepnote_to_be_reexecuted": false,
    "source_hash": "965c2047",
    "execution_start": 1641132241941,
    "execution_millis": 230,
    "deepnote_app_coordinates": {
     "x": 0,
     "y": 246,
     "w": 12,
     "h": 5
    },
    "deepnote_cell_type": "code",
    "deepnote_output_heights": [
     190
    ]
   },
   "source": "#Karena data tidak memenuhi asumsi homogenitas variansi, maka digunakan pengujian welch ANOVA\ngrouped.data %>% welch_anova_test(value ~ Negara)",
   "execution_count": null,
   "outputs": [
    {
     "data": {
      "text/html": "<table class=\"dataframe\">\n<caption>A rstatix_test: 3 × 8</caption>\n<thead>\n\t<tr><th></th><th scope=col>variable</th><th scope=col>.y.</th><th scope=col>n</th><th scope=col>statistic</th><th scope=col>DFn</th><th scope=col>DFd</th><th scope=col>p</th><th scope=col>method</th></tr>\n\t<tr><th></th><th scope=col>&lt;chr&gt;</th><th scope=col>&lt;chr&gt;</th><th scope=col>&lt;int&gt;</th><th scope=col>&lt;dbl&gt;</th><th scope=col>&lt;dbl&gt;</th><th scope=col>&lt;dbl&gt;</th><th scope=col>&lt;dbl&gt;</th><th scope=col>&lt;chr&gt;</th></tr>\n</thead>\n<tbody>\n\t<tr><th scope=row>1</th><td>Data.CBR</td><td>value</td><td>35</td><td>446.08</td><td>4</td><td>14.77252</td><td>3.28e-15</td><td>Welch ANOVA</td></tr>\n\t<tr><th scope=row>2</th><td>Data.CDR</td><td>value</td><td>35</td><td> 54.44</td><td>4</td><td>13.71539</td><td>2.86e-08</td><td>Welch ANOVA</td></tr>\n\t<tr><th scope=row>3</th><td>Data.IMR</td><td>value</td><td>35</td><td>894.84</td><td>4</td><td>14.29757</td><td>5.63e-17</td><td>Welch ANOVA</td></tr>\n</tbody>\n</table>\n",
      "text/markdown": "\nA rstatix_test: 3 × 8\n\n| <!--/--> | variable &lt;chr&gt; | .y. &lt;chr&gt; | n &lt;int&gt; | statistic &lt;dbl&gt; | DFn &lt;dbl&gt; | DFd &lt;dbl&gt; | p &lt;dbl&gt; | method &lt;chr&gt; |\n|---|---|---|---|---|---|---|---|---|\n| 1 | Data.CBR | value | 35 | 446.08 | 4 | 14.77252 | 3.28e-15 | Welch ANOVA |\n| 2 | Data.CDR | value | 35 |  54.44 | 4 | 13.71539 | 2.86e-08 | Welch ANOVA |\n| 3 | Data.IMR | value | 35 | 894.84 | 4 | 14.29757 | 5.63e-17 | Welch ANOVA |\n\n",
      "text/latex": "A rstatix\\_test: 3 × 8\n\\begin{tabular}{r|llllllll}\n  & variable & .y. & n & statistic & DFn & DFd & p & method\\\\\n  & <chr> & <chr> & <int> & <dbl> & <dbl> & <dbl> & <dbl> & <chr>\\\\\n\\hline\n\t1 & Data.CBR & value & 35 & 446.08 & 4 & 14.77252 & 3.28e-15 & Welch ANOVA\\\\\n\t2 & Data.CDR & value & 35 &  54.44 & 4 & 13.71539 & 2.86e-08 & Welch ANOVA\\\\\n\t3 & Data.IMR & value & 35 & 894.84 & 4 & 14.29757 & 5.63e-17 & Welch ANOVA\\\\\n\\end{tabular}\n",
      "text/plain": "  variable .y.   n  statistic DFn DFd      p        method     \n1 Data.CBR value 35 446.08    4   14.77252 3.28e-15 Welch ANOVA\n2 Data.CDR value 35  54.44    4   13.71539 2.86e-08 Welch ANOVA\n3 Data.IMR value 35 894.84    4   14.29757 5.63e-17 Welch ANOVA"
     },
     "metadata": {},
     "output_type": "display_data"
    }
   ]
  },
  {
   "cell_type": "markdown",
   "source": "Didapatkan $p-value < \\alpha$ maka $H_0$ ditolak yang artinya secara univariat tiap variabel berkontribusi terhadap efek global yang signifikan.",
   "metadata": {
    "cell_id": "00042-4f68f7b1-7a2a-4520-9a68-5e8c03c6daf3",
    "deepnote_app_coordinates": {
     "x": 0,
     "y": 252,
     "w": 12,
     "h": 5
    },
    "deepnote_cell_type": "markdown"
   }
  },
  {
   "cell_type": "markdown",
   "source": "## Uji Pembanding Ganda",
   "metadata": {
    "cell_id": "00043-cce70753-ed24-4080-933f-0c413236096a",
    "deepnote_app_coordinates": {
     "x": 0,
     "y": 258,
     "w": 12,
     "h": 5
    },
    "deepnote_cell_type": "markdown"
   }
  },
  {
   "cell_type": "code",
   "metadata": {
    "cell_id": "00044-45ca8091-5899-461c-82ab-ac2a575d4a55",
    "deepnote_to_be_reexecuted": false,
    "source_hash": "3ce4430",
    "execution_start": 1641132242170,
    "execution_millis": 507,
    "deepnote_app_coordinates": {
     "x": 0,
     "y": 264,
     "w": 12,
     "h": 5
    },
    "deepnote_cell_type": "code",
    "deepnote_output_heights": [
     611
    ]
   },
   "source": "#Karena data melanggar asumsi homogenitas variansi akan digunakan Games-Howell post-hoc test.\npwc <- gabungan %>%\n  gather(key = \"variables\", value = \"value\", Data.IMR, Data.CDR, Data.CBR) %>%\n  group_by(variables) %>%\n  games_howell_test(value ~ Negara) %>%\n  select(-estimate, -conf.low, -conf.high) # Remove details\npwc",
   "execution_count": null,
   "outputs": [
    {
     "data": {
      "text/html": "<table class=\"dataframe\">\n<caption>A rstatix_test: 30 × 6</caption>\n<thead>\n\t<tr><th scope=col>variables</th><th scope=col>.y.</th><th scope=col>group1</th><th scope=col>group2</th><th scope=col>p.adj</th><th scope=col>p.adj.signif</th></tr>\n\t<tr><th scope=col>&lt;chr&gt;</th><th scope=col>&lt;chr&gt;</th><th scope=col>&lt;chr&gt;</th><th scope=col>&lt;chr&gt;</th><th scope=col>&lt;dbl&gt;</th><th scope=col>&lt;chr&gt;</th></tr>\n</thead>\n<tbody>\n\t<tr><td>Data.CBR</td><td>value</td><td>Filipina </td><td>Indonesia</td><td>4.08e-07</td><td>****</td></tr>\n\t<tr><td>Data.CBR</td><td>value</td><td>Filipina </td><td>Malaysia </td><td>4.28e-06</td><td>****</td></tr>\n\t<tr><td>Data.CBR</td><td>value</td><td>Filipina </td><td>Singapur </td><td>2.97e-13</td><td>****</td></tr>\n\t<tr><td>Data.CBR</td><td>value</td><td>Filipina </td><td>Thailand </td><td>1.41e-09</td><td>****</td></tr>\n\t<tr><td>Data.CBR</td><td>value</td><td>Indonesia</td><td>Malaysia </td><td>9.74e-01</td><td>ns  </td></tr>\n\t<tr><td>Data.CBR</td><td>value</td><td>Indonesia</td><td>Singapur </td><td>1.38e-08</td><td>****</td></tr>\n\t<tr><td>Data.CBR</td><td>value</td><td>Indonesia</td><td>Thailand </td><td>4.77e-06</td><td>****</td></tr>\n\t<tr><td>Data.CBR</td><td>value</td><td>Malaysia </td><td>Singapur </td><td>8.46e-08</td><td>****</td></tr>\n\t<tr><td>Data.CBR</td><td>value</td><td>Malaysia </td><td>Thailand </td><td>5.65e-06</td><td>****</td></tr>\n\t<tr><td>Data.CBR</td><td>value</td><td>Singapur </td><td>Thailand </td><td>1.28e-04</td><td>*** </td></tr>\n\t<tr><td>Data.CDR</td><td>value</td><td>Filipina </td><td>Indonesia</td><td>1.30e-04</td><td>*** </td></tr>\n\t<tr><td>Data.CDR</td><td>value</td><td>Filipina </td><td>Malaysia </td><td>3.40e-02</td><td>*   </td></tr>\n\t<tr><td>Data.CDR</td><td>value</td><td>Filipina </td><td>Singapur </td><td>1.40e-02</td><td>*   </td></tr>\n\t<tr><td>Data.CDR</td><td>value</td><td>Filipina </td><td>Thailand </td><td>6.00e-03</td><td>**  </td></tr>\n\t<tr><td>Data.CDR</td><td>value</td><td>Indonesia</td><td>Malaysia </td><td>6.11e-05</td><td>****</td></tr>\n\t<tr><td>Data.CDR</td><td>value</td><td>Indonesia</td><td>Singapur </td><td>5.14e-05</td><td>****</td></tr>\n\t<tr><td>Data.CDR</td><td>value</td><td>Indonesia</td><td>Thailand </td><td>6.91e-01</td><td>ns  </td></tr>\n\t<tr><td>Data.CDR</td><td>value</td><td>Malaysia </td><td>Singapur </td><td>7.20e-02</td><td>ns  </td></tr>\n\t<tr><td>Data.CDR</td><td>value</td><td>Malaysia </td><td>Thailand </td><td>2.00e-03</td><td>**  </td></tr>\n\t<tr><td>Data.CDR</td><td>value</td><td>Singapur </td><td>Thailand </td><td>2.00e-03</td><td>**  </td></tr>\n\t<tr><td>Data.IMR</td><td>value</td><td>Filipina </td><td>Indonesia</td><td>5.10e-02</td><td>ns  </td></tr>\n\t<tr><td>Data.IMR</td><td>value</td><td>Filipina </td><td>Malaysia </td><td>1.01e-04</td><td>*** </td></tr>\n\t<tr><td>Data.IMR</td><td>value</td><td>Filipina </td><td>Singapur </td><td>3.19e-05</td><td>****</td></tr>\n\t<tr><td>Data.IMR</td><td>value</td><td>Filipina </td><td>Thailand </td><td>1.33e-04</td><td>*** </td></tr>\n\t<tr><td>Data.IMR</td><td>value</td><td>Indonesia</td><td>Malaysia </td><td>9.94e-08</td><td>****</td></tr>\n\t<tr><td>Data.IMR</td><td>value</td><td>Indonesia</td><td>Singapur </td><td>2.54e-08</td><td>****</td></tr>\n\t<tr><td>Data.IMR</td><td>value</td><td>Indonesia</td><td>Thailand </td><td>1.91e-07</td><td>****</td></tr>\n\t<tr><td>Data.IMR</td><td>value</td><td>Malaysia </td><td>Singapur </td><td>9.42e-12</td><td>****</td></tr>\n\t<tr><td>Data.IMR</td><td>value</td><td>Malaysia </td><td>Thailand </td><td>9.45e-04</td><td>*** </td></tr>\n\t<tr><td>Data.IMR</td><td>value</td><td>Singapur </td><td>Thailand </td><td>0.00e+00</td><td>****</td></tr>\n</tbody>\n</table>\n",
      "text/markdown": "\nA rstatix_test: 30 × 6\n\n| variables &lt;chr&gt; | .y. &lt;chr&gt; | group1 &lt;chr&gt; | group2 &lt;chr&gt; | p.adj &lt;dbl&gt; | p.adj.signif &lt;chr&gt; |\n|---|---|---|---|---|---|\n| Data.CBR | value | Filipina  | Indonesia | 4.08e-07 | **** |\n| Data.CBR | value | Filipina  | Malaysia  | 4.28e-06 | **** |\n| Data.CBR | value | Filipina  | Singapur  | 2.97e-13 | **** |\n| Data.CBR | value | Filipina  | Thailand  | 1.41e-09 | **** |\n| Data.CBR | value | Indonesia | Malaysia  | 9.74e-01 | ns   |\n| Data.CBR | value | Indonesia | Singapur  | 1.38e-08 | **** |\n| Data.CBR | value | Indonesia | Thailand  | 4.77e-06 | **** |\n| Data.CBR | value | Malaysia  | Singapur  | 8.46e-08 | **** |\n| Data.CBR | value | Malaysia  | Thailand  | 5.65e-06 | **** |\n| Data.CBR | value | Singapur  | Thailand  | 1.28e-04 | ***  |\n| Data.CDR | value | Filipina  | Indonesia | 1.30e-04 | ***  |\n| Data.CDR | value | Filipina  | Malaysia  | 3.40e-02 | *    |\n| Data.CDR | value | Filipina  | Singapur  | 1.40e-02 | *    |\n| Data.CDR | value | Filipina  | Thailand  | 6.00e-03 | **   |\n| Data.CDR | value | Indonesia | Malaysia  | 6.11e-05 | **** |\n| Data.CDR | value | Indonesia | Singapur  | 5.14e-05 | **** |\n| Data.CDR | value | Indonesia | Thailand  | 6.91e-01 | ns   |\n| Data.CDR | value | Malaysia  | Singapur  | 7.20e-02 | ns   |\n| Data.CDR | value | Malaysia  | Thailand  | 2.00e-03 | **   |\n| Data.CDR | value | Singapur  | Thailand  | 2.00e-03 | **   |\n| Data.IMR | value | Filipina  | Indonesia | 5.10e-02 | ns   |\n| Data.IMR | value | Filipina  | Malaysia  | 1.01e-04 | ***  |\n| Data.IMR | value | Filipina  | Singapur  | 3.19e-05 | **** |\n| Data.IMR | value | Filipina  | Thailand  | 1.33e-04 | ***  |\n| Data.IMR | value | Indonesia | Malaysia  | 9.94e-08 | **** |\n| Data.IMR | value | Indonesia | Singapur  | 2.54e-08 | **** |\n| Data.IMR | value | Indonesia | Thailand  | 1.91e-07 | **** |\n| Data.IMR | value | Malaysia  | Singapur  | 9.42e-12 | **** |\n| Data.IMR | value | Malaysia  | Thailand  | 9.45e-04 | ***  |\n| Data.IMR | value | Singapur  | Thailand  | 0.00e+00 | **** |\n\n",
      "text/latex": "A rstatix\\_test: 30 × 6\n\\begin{tabular}{llllll}\n variables & .y. & group1 & group2 & p.adj & p.adj.signif\\\\\n <chr> & <chr> & <chr> & <chr> & <dbl> & <chr>\\\\\n\\hline\n\t Data.CBR & value & Filipina  & Indonesia & 4.08e-07 & ****\\\\\n\t Data.CBR & value & Filipina  & Malaysia  & 4.28e-06 & ****\\\\\n\t Data.CBR & value & Filipina  & Singapur  & 2.97e-13 & ****\\\\\n\t Data.CBR & value & Filipina  & Thailand  & 1.41e-09 & ****\\\\\n\t Data.CBR & value & Indonesia & Malaysia  & 9.74e-01 & ns  \\\\\n\t Data.CBR & value & Indonesia & Singapur  & 1.38e-08 & ****\\\\\n\t Data.CBR & value & Indonesia & Thailand  & 4.77e-06 & ****\\\\\n\t Data.CBR & value & Malaysia  & Singapur  & 8.46e-08 & ****\\\\\n\t Data.CBR & value & Malaysia  & Thailand  & 5.65e-06 & ****\\\\\n\t Data.CBR & value & Singapur  & Thailand  & 1.28e-04 & *** \\\\\n\t Data.CDR & value & Filipina  & Indonesia & 1.30e-04 & *** \\\\\n\t Data.CDR & value & Filipina  & Malaysia  & 3.40e-02 & *   \\\\\n\t Data.CDR & value & Filipina  & Singapur  & 1.40e-02 & *   \\\\\n\t Data.CDR & value & Filipina  & Thailand  & 6.00e-03 & **  \\\\\n\t Data.CDR & value & Indonesia & Malaysia  & 6.11e-05 & ****\\\\\n\t Data.CDR & value & Indonesia & Singapur  & 5.14e-05 & ****\\\\\n\t Data.CDR & value & Indonesia & Thailand  & 6.91e-01 & ns  \\\\\n\t Data.CDR & value & Malaysia  & Singapur  & 7.20e-02 & ns  \\\\\n\t Data.CDR & value & Malaysia  & Thailand  & 2.00e-03 & **  \\\\\n\t Data.CDR & value & Singapur  & Thailand  & 2.00e-03 & **  \\\\\n\t Data.IMR & value & Filipina  & Indonesia & 5.10e-02 & ns  \\\\\n\t Data.IMR & value & Filipina  & Malaysia  & 1.01e-04 & *** \\\\\n\t Data.IMR & value & Filipina  & Singapur  & 3.19e-05 & ****\\\\\n\t Data.IMR & value & Filipina  & Thailand  & 1.33e-04 & *** \\\\\n\t Data.IMR & value & Indonesia & Malaysia  & 9.94e-08 & ****\\\\\n\t Data.IMR & value & Indonesia & Singapur  & 2.54e-08 & ****\\\\\n\t Data.IMR & value & Indonesia & Thailand  & 1.91e-07 & ****\\\\\n\t Data.IMR & value & Malaysia  & Singapur  & 9.42e-12 & ****\\\\\n\t Data.IMR & value & Malaysia  & Thailand  & 9.45e-04 & *** \\\\\n\t Data.IMR & value & Singapur  & Thailand  & 0.00e+00 & ****\\\\\n\\end{tabular}\n",
      "text/plain": "   variables .y.   group1    group2    p.adj    p.adj.signif\n1  Data.CBR  value Filipina  Indonesia 4.08e-07 ****        \n2  Data.CBR  value Filipina  Malaysia  4.28e-06 ****        \n3  Data.CBR  value Filipina  Singapur  2.97e-13 ****        \n4  Data.CBR  value Filipina  Thailand  1.41e-09 ****        \n5  Data.CBR  value Indonesia Malaysia  9.74e-01 ns          \n6  Data.CBR  value Indonesia Singapur  1.38e-08 ****        \n7  Data.CBR  value Indonesia Thailand  4.77e-06 ****        \n8  Data.CBR  value Malaysia  Singapur  8.46e-08 ****        \n9  Data.CBR  value Malaysia  Thailand  5.65e-06 ****        \n10 Data.CBR  value Singapur  Thailand  1.28e-04 ***         \n11 Data.CDR  value Filipina  Indonesia 1.30e-04 ***         \n12 Data.CDR  value Filipina  Malaysia  3.40e-02 *           \n13 Data.CDR  value Filipina  Singapur  1.40e-02 *           \n14 Data.CDR  value Filipina  Thailand  6.00e-03 **          \n15 Data.CDR  value Indonesia Malaysia  6.11e-05 ****        \n16 Data.CDR  value Indonesia Singapur  5.14e-05 ****        \n17 Data.CDR  value Indonesia Thailand  6.91e-01 ns          \n18 Data.CDR  value Malaysia  Singapur  7.20e-02 ns          \n19 Data.CDR  value Malaysia  Thailand  2.00e-03 **          \n20 Data.CDR  value Singapur  Thailand  2.00e-03 **          \n21 Data.IMR  value Filipina  Indonesia 5.10e-02 ns          \n22 Data.IMR  value Filipina  Malaysia  1.01e-04 ***         \n23 Data.IMR  value Filipina  Singapur  3.19e-05 ****        \n24 Data.IMR  value Filipina  Thailand  1.33e-04 ***         \n25 Data.IMR  value Indonesia Malaysia  9.94e-08 ****        \n26 Data.IMR  value Indonesia Singapur  2.54e-08 ****        \n27 Data.IMR  value Indonesia Thailand  1.91e-07 ****        \n28 Data.IMR  value Malaysia  Singapur  9.42e-12 ****        \n29 Data.IMR  value Malaysia  Thailand  9.45e-04 ***         \n30 Data.IMR  value Singapur  Thailand  0.00e+00 ****        "
     },
     "metadata": {},
     "output_type": "display_data"
    }
   ]
  },
  {
   "cell_type": "markdown",
   "source": "Karena lebih banyak yang signifikan, sehingga akan disebutkan pasangan negara yang tidak signifikan (tidak berbeda jauh) yaitu :\n\n1. Pasangan Indonesia-Malaysia pada data rasio kelahiran kasar (CBR)\n2. Pasangan Indonesia-Thailand pada data rasio kematian kasar (CDR)\n3. Pasangan Malaysia-Singapur pada data rasio kematian kasar (CDR)\n4. Pasangan Filipina-Indonesia pada data angka kematian bayi (IMR)",
   "metadata": {
    "cell_id": "00045-da9d81ab-75ce-4df1-9902-05561ff33ecf",
    "deepnote_app_coordinates": {
     "x": 0,
     "y": 270,
     "w": 12,
     "h": 5
    },
    "deepnote_cell_type": "markdown"
   }
  },
  {
   "cell_type": "markdown",
   "source": "# Memeriksa Outlier Multivariat",
   "metadata": {
    "cell_id": "00046-b59a44cf-811b-4764-975f-fd1574d455eb",
    "deepnote_app_coordinates": {
     "x": 0,
     "y": 276,
     "w": 12,
     "h": 5
    },
    "deepnote_cell_type": "markdown"
   }
  },
  {
   "cell_type": "code",
   "metadata": {
    "cell_id": "00047-780d275c-4e04-49de-af1d-cc7485ef30e4",
    "deepnote_to_be_reexecuted": false,
    "source_hash": "7049e506",
    "execution_start": 1641132242698,
    "execution_millis": 519,
    "deepnote_app_coordinates": {
     "x": 0,
     "y": 282,
     "w": 12,
     "h": 5
    },
    "owner_user_id": "c9941688-9afd-42cd-ab25-bb33f761c870",
    "deepnote_cell_type": "code",
    "deepnote_output_heights": [
     103
    ]
   },
   "source": "gabungan %>%\n group_by(Negara) %>%\n mahalanobis_distance(-Tahun) %>%\n filter(is.outlier == TRUE) %>%\n  as.data.frame()\n\n#tidak ada outlier secara multivariat",
   "execution_count": null,
   "outputs": [
    {
     "data": {
      "text/html": "<table class=\"dataframe\">\n<caption>A data.frame: 0 × 6</caption>\n<thead>\n\t<tr><th scope=col>Tahun</th><th scope=col>Data.IMR</th><th scope=col>Data.CDR</th><th scope=col>Data.CBR</th><th scope=col>mahal.dist</th><th scope=col>is.outlier</th></tr>\n\t<tr><th scope=col>&lt;int&gt;</th><th scope=col>&lt;dbl&gt;</th><th scope=col>&lt;dbl&gt;</th><th scope=col>&lt;dbl&gt;</th><th scope=col>&lt;dbl&gt;</th><th scope=col>&lt;lgl&gt;</th></tr>\n</thead>\n<tbody>\n</tbody>\n</table>\n",
      "text/markdown": "\nA data.frame: 0 × 6\n\n| Tahun &lt;int&gt; | Data.IMR &lt;dbl&gt; | Data.CDR &lt;dbl&gt; | Data.CBR &lt;dbl&gt; | mahal.dist &lt;dbl&gt; | is.outlier &lt;lgl&gt; |\n|---|---|---|---|---|---|\n\n",
      "text/latex": "A data.frame: 0 × 6\n\\begin{tabular}{llllll}\n Tahun & Data.IMR & Data.CDR & Data.CBR & mahal.dist & is.outlier\\\\\n <int> & <dbl> & <dbl> & <dbl> & <dbl> & <lgl>\\\\\n\\hline\n\\end{tabular}\n",
      "text/plain": "     Tahun Data.IMR Data.CDR Data.CBR mahal.dist is.outlier"
     },
     "metadata": {},
     "output_type": "display_data"
    }
   ]
  },
  {
   "cell_type": "markdown",
   "source": "<a style='text-decoration:none;line-height:16px;display:flex;color:#5B5B62;padding:10px;justify-content:end;' href='https://deepnote.com?utm_source=created-in-deepnote-cell&projectId=8cc09ba9-df6f-40b1-ad7c-5d84bd17e98c' target=\"_blank\">\n<img alt='Created in deepnote.com' style='display:inline;max-height:16px;margin:0px;margin-right:7.5px;' src='data:image/svg+xml;base64,PD94bWwgdmVyc2lvbj0iMS4wIiBlbmNvZGluZz0iVVRGLTgiPz4KPHN2ZyB3aWR0aD0iODBweCIgaGVpZ2h0PSI4MHB4IiB2aWV3Qm94PSIwIDAgODAgODAiIHZlcnNpb249IjEuMSIgeG1sbnM9Imh0dHA6Ly93d3cudzMub3JnLzIwMDAvc3ZnIiB4bWxuczp4bGluaz0iaHR0cDovL3d3dy53My5vcmcvMTk5OS94bGluayI+CiAgICA8IS0tIEdlbmVyYXRvcjogU2tldGNoIDU0LjEgKDc2NDkwKSAtIGh0dHBzOi8vc2tldGNoYXBwLmNvbSAtLT4KICAgIDx0aXRsZT5Hcm91cCAzPC90aXRsZT4KICAgIDxkZXNjPkNyZWF0ZWQgd2l0aCBTa2V0Y2guPC9kZXNjPgogICAgPGcgaWQ9IkxhbmRpbmciIHN0cm9rZT0ibm9uZSIgc3Ryb2tlLXdpZHRoPSIxIiBmaWxsPSJub25lIiBmaWxsLXJ1bGU9ImV2ZW5vZGQiPgogICAgICAgIDxnIGlkPSJBcnRib2FyZCIgdHJhbnNmb3JtPSJ0cmFuc2xhdGUoLTEyMzUuMDAwMDAwLCAtNzkuMDAwMDAwKSI+CiAgICAgICAgICAgIDxnIGlkPSJHcm91cC0zIiB0cmFuc2Zvcm09InRyYW5zbGF0ZSgxMjM1LjAwMDAwMCwgNzkuMDAwMDAwKSI+CiAgICAgICAgICAgICAgICA8cG9seWdvbiBpZD0iUGF0aC0yMCIgZmlsbD0iIzAyNjVCNCIgcG9pbnRzPSIyLjM3NjIzNzYyIDgwIDM4LjA0NzY2NjcgODAgNTcuODIxNzgyMiA3My44MDU3NTkyIDU3LjgyMTc4MjIgMzIuNzU5MjczOSAzOS4xNDAyMjc4IDMxLjY4MzE2ODMiPjwvcG9seWdvbj4KICAgICAgICAgICAgICAgIDxwYXRoIGQ9Ik0zNS4wMDc3MTgsODAgQzQyLjkwNjIwMDcsNzYuNDU0OTM1OCA0Ny41NjQ5MTY3LDcxLjU0MjI2NzEgNDguOTgzODY2LDY1LjI2MTk5MzkgQzUxLjExMjI4OTksNTUuODQxNTg0MiA0MS42NzcxNzk1LDQ5LjIxMjIyODQgMjUuNjIzOTg0Niw0OS4yMTIyMjg0IEMyNS40ODQ5Mjg5LDQ5LjEyNjg0NDggMjkuODI2MTI5Niw0My4yODM4MjQ4IDM4LjY0NzU4NjksMzEuNjgzMTY4MyBMNzIuODcxMjg3MSwzMi41NTQ0MjUgTDY1LjI4MDk3Myw2Ny42NzYzNDIxIEw1MS4xMTIyODk5LDc3LjM3NjE0NCBMMzUuMDA3NzE4LDgwIFoiIGlkPSJQYXRoLTIyIiBmaWxsPSIjMDAyODY4Ij48L3BhdGg+CiAgICAgICAgICAgICAgICA8cGF0aCBkPSJNMCwzNy43MzA0NDA1IEwyNy4xMTQ1MzcsMC4yNTcxMTE0MzYgQzYyLjM3MTUxMjMsLTEuOTkwNzE3MDEgODAsMTAuNTAwMzkyNyA4MCwzNy43MzA0NDA1IEM4MCw2NC45NjA0ODgyIDY0Ljc3NjUwMzgsNzkuMDUwMzQxNCAzNC4zMjk1MTEzLDgwIEM0Ny4wNTUzNDg5LDc3LjU2NzA4MDggNTMuNDE4MjY3Nyw3MC4zMTM2MTAzIDUzLjQxODI2NzcsNTguMjM5NTg4NSBDNTMuNDE4MjY3Nyw0MC4xMjg1NTU3IDM2LjMwMzk1NDQsMzcuNzMwNDQwNSAyNS4yMjc0MTcsMzcuNzMwNDQwNSBDMTcuODQzMDU4NiwzNy43MzA0NDA1IDkuNDMzOTE5NjYsMzcuNzMwNDQwNSAwLDM3LjczMDQ0MDUgWiIgaWQ9IlBhdGgtMTkiIGZpbGw9IiMzNzkzRUYiPjwvcGF0aD4KICAgICAgICAgICAgPC9nPgogICAgICAgIDwvZz4KICAgIDwvZz4KPC9zdmc+' > </img>\nCreated in <span style='font-weight:600;margin-left:4px;'>Deepnote</span></a>",
   "metadata": {
    "tags": [],
    "created_in_deepnote_cell": true,
    "deepnote_cell_type": "markdown"
   }
  }
 ],
 "nbformat": 4,
 "nbformat_minor": 5,
 "metadata": {
  "kernelspec": {
   "display_name": "R",
   "language": "R",
   "name": "ir"
  },
  "language_info": {
   "codemirror_mode": "r",
   "file_extension": ".r",
   "mimetype": "text/x-r-source",
   "name": "R",
   "pygments_lexer": "r",
   "version": "4.1.1"
  },
  "deepnote_notebook_id": "8364bbaf-fad4-4ea2-8917-f0055194e7af",
  "deepnote": {},
  "deepnote_execution_queue": [],
  "deepnote_app_layout": "article"
 }
}